{
 "cells": [
  {
   "cell_type": "markdown",
   "metadata": {
    "colab_type": "text",
    "id": "HTX0t7dLVYQD"
   },
   "source": [
    "# オンライン数学勉強会用イントロ\n",
    "- [勉強会の案内ページ](https://phasetr.com/blog/2020/04/16/online-study-group-python-math-physics/)\n",
    "- [コンテンツの案内ページ](https://phasetr.com/mthlp1/)\n",
    "- [GitHub へのリンク](https://github.com/phasetr/studygroup/programming-for-junior-highschool-mathphys)\n",
    "- 目次の順序で進める\n",
    "- 時間が余ったら適当に今回出てきた数学またはプログラミングの話を詳しく\n"
   ]
  },
  {
   "cell_type": "markdown",
   "metadata": {
    "colab_type": "text",
    "id": "4sQ__i04nZ8E"
   },
   "source": [
    "## 事前準備：sympy インストールとチェック"
   ]
  },
  {
   "cell_type": "code",
   "execution_count": 1,
   "metadata": {
    "colab": {
     "base_uri": "https://localhost:8080/"
    },
    "colab_type": "code",
    "executionInfo": {
     "elapsed": 2019,
     "status": "ok",
     "timestamp": 1588983448046,
     "user": {
      "displayName": "Yoshitsugu Sekine",
      "photoUrl": "https://lh3.googleusercontent.com/a-/AOh14GimsNckrAflr-jMDGQwV_kIJ56EjAWYV8INkpUv=s64",
      "userId": "13524401322013959426"
     },
     "user_tz": -540
    },
    "id": "ui8jQqMJo_7d",
    "outputId": "435b49c7-9253-4dcb-9610-918149ec70a4"
   },
   "outputs": [
    {
     "data": {
      "application/javascript": [
       "window.MathJax = {\n",
       "        tex2jax: {\n",
       "            inlineMath: [ ['$','$'] ],\n",
       "            processEscapes: true\n",
       "        }\n",
       "        };\n",
       "//# sourceURL=js_498bee0571"
      ],
      "text/plain": [
       "<IPython.core.display.Javascript object>"
      ]
     },
     "metadata": {
      "tags": []
     },
     "output_type": "display_data"
    },
    {
     "data": {
      "text/html": [
       "<script src='https://cdnjs.cloudflare.com/ajax/libs/mathjax/2.7.7/MathJax.js?config=TeX-AMS_CHTML'></script>"
      ],
      "text/plain": [
       "<IPython.core.display.HTML object>"
      ]
     },
     "metadata": {
      "tags": []
     },
     "output_type": "display_data"
    },
    {
     "data": {
      "text/latex": [
       "$$x^{2} - 12 x + 8$$"
      ],
      "text/plain": [
       " 2           \n",
       "x  - 12⋅x + 8"
      ]
     },
     "metadata": {
      "tags": []
     },
     "output_type": "display_data"
    }
   ],
   "source": [
    "from sympy import *\n",
    "from IPython.display import display\n",
    "\n",
    "def custom_latex_printer(expr, **options):\n",
    "    from IPython.display import Math, HTML\n",
    "    from google.colab.output._publish import javascript\n",
    "    url = \"https://cdnjs.cloudflare.com/ajax/libs/mathjax/2.7.7/MathJax.js?config=TeX-AMS_CHTML\"\n",
    "    javascript(content=\"\"\"window.MathJax = {\n",
    "        tex2jax: {\n",
    "            inlineMath: [ ['$','$'] ],\n",
    "            processEscapes: true\n",
    "        }\n",
    "        };\"\"\")\n",
    "    javascript(url=url)\n",
    "    return latex(expr, **options)\n",
    "\n",
    "init_printing(use_latex=\"mathjax\", latex_printer=custom_latex_printer)\n",
    "\n",
    "x = Symbol('x')\n",
    "expr = x**2-12*x+8\n",
    "display(expr)"
   ]
  },
  {
   "cell_type": "markdown",
   "metadata": {
    "colab_type": "text",
    "id": "mI4doKXJVy0a"
   },
   "source": [
    "## はじめの注意\n",
    "- 吃音があるので聞きにくいと思います。\n",
    "- 言いにくい場合は文字で書きます。\n",
    "- いろいろ試験的な取り組みです。\n",
    "- この資料はあとで配ります。"
   ]
  },
  {
   "cell_type": "markdown",
   "metadata": {
    "colab_type": "text",
    "id": "AUc4wVbrYWB4"
   },
   "source": [
    "## 大方針\n",
    "- Python でプログラミング\n",
    "- 将来に向けたいろいろなテストを兼ねる\n",
    "- 中高生または中高数学復習用に作ったコンテンツのテスト・流用\n",
    "- 試験的に Google Colabolratory を利用\n",
    "  - いま使っている「これ」\n",
    "  - ローカルの環境構築がいらない\n",
    "  - TeX の形式を使うと式もきれいに書ける：$$\\int_\\Omega f(x) \\, dx$$\n",
    "- 何回くらい・どのくらいの期間になるかは不明\n",
    "- なるべくゆっくり・ゆるく進める\n",
    "  - 日々いろいろなタスクがある大人向けの勉強会なのでゴリゴリにやると疲れ果てて続かない\n",
    "  - その代わり長期戦でのんびりやる\n",
    "- 予習はやりたければやる\n",
    "  - 無理がない範囲で、長続きさせることを第一に\n",
    "  - 復習は勉強会の中でやる\n",
    "    - その分ペースも遅くなる\n",
    "    - その遅さが気になるなら予習をしよう\n",
    "  - 復習を自力でやれるくらいならはじめから独学できていると思う\n"
   ]
  },
  {
   "cell_type": "markdown",
   "metadata": {
    "colab_type": "text",
    "id": "sky918gTbTc4"
   },
   "source": [
    "## 勉強のコツ\n",
    "- 「すぐに理解する・できる」という幻想を捨てる\n",
    "  - 同じことを何度も繰り返して、少しずつ慣れる\n",
    "- 究極的には「独学」が必要\n",
    "  - そのサポートをするのがこの勉強会の目的\n",
    "  - 細部が詳しい本はたくさんあり、いろいろなレベルの本がたくさんある\n",
    "  - この勉強会の当面の主目的は**概要を掴む**こと\n",
    "  - 細かいことが気になったら都度調べるなり質問するなりしてもらう\n",
    "  - そしてすぐにわからなくても**気にしない**"
   ]
  },
  {
   "cell_type": "markdown",
   "metadata": {
    "colab_type": "text",
    "id": "X45Y1tyhXDlf"
   },
   "source": [
    "## 進め方の方針\n",
    "- 細かいことはさておき, プログラミングでできることをゴリゴリ紹介する\n",
    "- まずはお絵描き中心：微分方程式を解く\n",
    "  - 後の内容も「中高数学のネタを視覚化する」方向で進める。\n",
    "- 微分方程式に関して\n",
    "    - 高校数学の最終目的地の微分・積分に直結する\n",
    "      - 微分・積分は統計学をはじめとしたその他いろいろな応用でも主力\n",
    "    - 離散化すれば四則演算でしかないので微分・積分をダイレクトに数値計算する形で進める\n",
    "    - 今回、イメージづくりで波動方程式・拡散方程式を見せる\n",
    "    - 波と拡散というイメージと視覚がマッチした対象だから\n",
    "    - まずは概要を掴むのが目的なので本質的な数学部分が難しくなるのは気にしない\n",
    "    - 何をするにも慣れが必要なので, とにかく浴びて慣れてもらうのが目的\n",
    "- お絵描き+数値計算で Python プログラミングの気分を掴む\n",
    "- 少しずつプログラムの詳細を見ていく\n",
    "    - 暴力的な量の四則演算を進めるだけなので「数学」の話は最低限に留めながら進める\n",
    "- ある程度慣れてきた段階でプログラムと並行して数学の話をする"
   ]
  },
  {
   "cell_type": "markdown",
   "metadata": {
    "colab_type": "text",
    "id": "HIH3JbreVYQE"
   },
   "source": [
    "# 基礎コンテンツの紹介\n",
    "- 中高数学をプログラミングを軸にまとめた。\n",
    "- この講座ではプログラミング、特に Python については**深くは**解説しない\n",
    "  - 必要ならその時々の**新しい本**で勉強すること。\n",
    "  - 古い本を選んでしまうと、最新の環境でその本に書かれたプログラムが動かない可能性がある。"
   ]
  },
  {
   "cell_type": "markdown",
   "metadata": {
    "colab_type": "text",
    "id": "Tv7_mXzNVYQE"
   },
   "source": [
    "## 講座の構成\n",
    "1. 数学に関わる Python の基礎\n",
    "    - 重要なライブラリ numpy のまとめ\n",
    "    - 重要なライブラリ matplotlib のまとめ\n",
    "    - 重要なライブラリ sympy のまとめ\n",
    "    - 上記ライブラリを使った数学プログラミングのまとめ\n",
    "1. 線型代数：ベクトルと行列\n",
    "1. 微分積分\n",
    "1. 確率\n",
    "1. 統計\n",
    "1. 常微分方程式\n",
    "1. 偏微分方程式"
   ]
  },
  {
   "cell_type": "markdown",
   "metadata": {
    "colab_type": "text",
    "id": "ShvDtIgRXay2"
   },
   "source": [
    "## 大まかな説明\n",
    "- 最初の第 1 章：Python を使ってどんなことができるかを説明\n",
    "    - 特に Python 自体の基本的な機能とライブラリの使い方を説明\n",
    "    - 必要なコードは各箇所に書かれているので、ここは飛ばしてすぐに本編に進んでも問題ない\n",
    "- 線型代数以降の各章から、数学・プログラミングが混然一体になった本編がはじまる。\n",
    "- 常微分方程式の章を先に読んでみるのもおすすめします。\n",
    "    - 次の無料講座を Jupyter の形式にまとめ直したコンテンツ\n",
    "    - [応用からの中高数学再入門 自然を再現しよう 中高数学駆け込み寺](https://phasetr.com/mrlp1/)\n",
    "    - この講座の前段ともいえる講座で、応用の視点から中高数学の大事な部分を大掴みに説明\n",
    "    - 上記リンク先の登録ページ自体も勉強の参考になるはず。\n",
    "- 「大事なことは何度でも」の精神"
   ]
  },
  {
   "cell_type": "markdown",
   "metadata": {
    "colab_type": "text",
    "id": "yhbpsCOfdIl4"
   },
   "source": [
    "## 注意・当面の進めるイメージ\n",
    "- 下の 2 つを先にざっと眺める\n",
    "- 既に無料講座として公開している常微分方程式の章を少しずつ詳しく進める\n",
    "- 微分積分をやる"
   ]
  },
  {
   "cell_type": "markdown",
   "metadata": {
    "colab_type": "text",
    "id": "dsgoZp0jexUc"
   },
   "source": [
    "# 環境構築"
   ]
  },
  {
   "cell_type": "markdown",
   "metadata": {
    "colab_type": "text",
    "id": "EellUoqte1l0"
   },
   "source": [
    "## Google Colab\n",
    "- いわゆる gmail のアカウントがあれば使える。\n",
    "- 「google colaboratory」でググってトップに出てくるページを開けば開くはず\n",
    "- 公式のチュートリアルもあるので、それを見よう"
   ]
  },
  {
   "cell_type": "markdown",
   "metadata": {
    "colab_type": "text",
    "id": "0N4c2mSvVYQG"
   },
   "source": [
    "## Python のインストール\n",
    "- インストールのことを「環境構築」とも呼ぶことにする\n",
    "- 将来の対応を考えて、勉強会では Google Colaboratory で進めてみる\n",
    "- ローカル（自分の PC）にインストールしたいなら、適当にやる\n",
    "  - 経験上、「素人」の状態で環境構築は本当に大変\n",
    "  - プログラミング・環境構築に慣れていない状態で数学と絡めた環境構築がしたいなら、Anaconda でインストールするのが楽\n",
    "- Google Colab 前提なのでこれ以上詳しくは触れない\n",
    "- 本格的にプログラミングするならローカルに環境を作るのは必須"
   ]
  },
  {
   "cell_type": "markdown",
   "metadata": {
    "colab_type": "text",
    "id": "4nv5NgC8k0xs"
   },
   "source": [
    "# 本題：数学とアニメーション"
   ]
  },
  {
   "cell_type": "markdown",
   "metadata": {
    "colab_type": "text",
    "id": "dFfcbs3agFgN"
   },
   "source": [
    "## 定積分のアニメーション\n",
    "- 定積分はグラフが囲む領域の面積\n",
    "- いわゆる区分求積法：次のように定義する\n",
    "\n",
    "\\begin{align}\n",
    "\\int_0^1 f(x) dx\n",
    "&=\n",
    "\\lim_{n \\to \\infty} \\frac{1}{n} \\sum_{k=0}^{n-1} f \\left( \\frac{k}{n} \\right), \\\\\n",
    "n = 2\n",
    "&\\Rightarrow\n",
    "\\frac{1}{2} \\left(f\\left(\\frac02\\right) + f\\left(\\frac12\\right)\\right) \\\\\n",
    "n = 3\n",
    "&\\Rightarrow\n",
    "\\frac{1}{3} \\left(f\\left(\\frac03\\right) + f\\left(\\frac13\\right) + f\\left(\\frac23\\right)\\right)\n",
    "\\end{align}\n",
    "\n",
    "- 右辺に注目する\n",
    "    - $\\frac{1}{n}$ は単なる割り算\n",
    "    - $\\sum_{k=0}^{n-1}$ は $n$ 項足しているだけ\n",
    "    - $\\lim$ は $n$ をどんどん大きくしている\n",
    "- 数値計算でやること\n",
    "    - 十分大きな $n$ で右辺を計算する\n",
    "    - だいたい面積が近似できることを確認する"
   ]
  },
  {
   "cell_type": "markdown",
   "metadata": {
    "colab_type": "text",
    "id": "mgaFrnS6mpo-"
   },
   "source": [
    "### アニメーション用の基本関数\n",
    "- 次の関数でいろいろやっている：今回詳しくは触れない"
   ]
  },
  {
   "cell_type": "code",
   "execution_count": 0,
   "metadata": {
    "colab": {},
    "colab_type": "code",
    "id": "bPAmUegVlaUl"
   },
   "outputs": [],
   "source": [
    "import numpy as np\n",
    "import matplotlib.pyplot as plt\n",
    "\n",
    "def scatter_integral_body(num_data, is_left, f, param):\n",
    "    # 描画領域の指定\n",
    "    fig = plt.figure(figsize=(param[\"figsize_x\"], param[\"figsize_y\"]))\n",
    "    subplot = fig.add_subplot(1, 1, 1)\n",
    "    subplot.set_xlim(param[\"x_min\"], param[\"x_max\"])\n",
    "    subplot.set_ylim(param[\"y_min\"], param[\"y_max\"])\n",
    "\n",
    "    # 参考: グラフを折れ線で描く. 折れ線近似の様子を見たい場合に使う.\n",
    "    #linex = np.linspace(param[\"x_min\"], param[\"x_max\"], num_data) \n",
    "    #subplot.plot(linex, f(linex), color='blue')\n",
    "\n",
    "    # 長方形の描画と面積の近似値計算\n",
    "    area = 0\n",
    "    step = (param[\"x_max\"] - param[\"x_min\"]) / num_data\n",
    "    for x0 in np.arange(param[\"x_min\"], param[\"x_max\"], step):\n",
    "        x = x0 if is_left else x0 + step\n",
    "        rect = plt.Rectangle((x0, 0), step, f(x), alpha=param[\"alpha\"])\n",
    "        subplot.add_patch(rect)\n",
    "        area += step * f(x)\n",
    "\n",
    "    subplot.text(param[\"text_x\"], param[\"text_y\"], ('area = %f' % area))\n",
    "\n",
    "    # 関数と三角関数の描画：上の supplot の処理の後に置かないと上の長方形が描かれない\n",
    "    vf = np.vectorize(f)\n",
    "\n",
    "    x_for_square = np.linspace(param[\"x_min\"], param[\"x_max\"], param[\"num_max\"])\n",
    "    y0 = vf(x_for_square)\n",
    "    plt.plot(x_for_square, y0, color=\"red\")"
   ]
  },
  {
   "cell_type": "markdown",
   "metadata": {
    "colab_type": "text",
    "id": "rz1nFqq6nDbI"
   },
   "source": [
    "### 底辺と高さ 1 の直角三角形の面積\n",
    "- 底辺×高さ / 2 = 1/2"
   ]
  },
  {
   "cell_type": "code",
   "execution_count": 0,
   "metadata": {
    "colab": {
     "base_uri": "https://localhost:8080/",
     "height": 350,
     "referenced_widgets": [
      "6a0c4487f21147e6ba2ea413926ae6a6",
      "f7de8694d137455da98f6114ea97c466",
      "3e4730606171401fba1541d51481bdce",
      "70a8ca1209bd4402ada1a226554e8858",
      "710b5ee520c84e3ba92e4e7af9207c2f",
      "005491d0caef4cea9cc2f8f65c1ebf0d",
      "e0cceb51ba9a4577a100610a150b31c0",
      "8094b59502054246b96007802b873f06",
      "b8e6ebe2abbb4b8ca09fbc74cd214641",
      "460192bc5fcf49d797b4b648985c6345"
     ]
    },
    "colab_type": "code",
    "executionInfo": {
     "elapsed": 1047,
     "status": "ok",
     "timestamp": 1588595201979,
     "user": {
      "displayName": "Yoshitsugu Sekine",
      "photoUrl": "https://lh3.googleusercontent.com/a-/AOh14GimsNckrAflr-jMDGQwV_kIJ56EjAWYV8INkpUv=s64",
      "userId": "13524401322013959426"
     },
     "user_tz": -540
    },
    "id": "2eiWlA5xxnCo",
    "outputId": "50a68b28-43bf-4658-9e5d-f25b75247a8a"
   },
   "outputs": [
    {
     "data": {
      "application/vnd.jupyter.widget-view+json": {
       "model_id": "6a0c4487f21147e6ba2ea413926ae6a6",
       "version_major": 2,
       "version_minor": 0
      },
      "text/plain": [
       "interactive(children=(IntSlider(value=26, description='num_data', max=50, min=2), Checkbox(value=True, descrip…"
      ]
     },
     "metadata": {
      "tags": []
     },
     "output_type": "display_data"
    },
    {
     "data": {
      "text/plain": [
       "<function __main__.scatter>"
      ]
     },
     "execution_count": 3,
     "metadata": {
      "tags": []
     },
     "output_type": "execute_result"
    }
   ],
   "source": [
    "from ipywidgets import interact\n",
    "\n",
    "def scatter(num_data, is_left):\n",
    "    def f(x):\n",
    "        return x\n",
    "\n",
    "    param = {\n",
    "        \"x_min\": 0.0,\n",
    "        \"x_max\": 1.0,\n",
    "        \"y_min\": 0.0,\n",
    "        \"y_max\": 1.0,\n",
    "        \"figsize_x\": 4,\n",
    "        \"figsize_y\": 4,\n",
    "        \"alpha\": 0.5,\n",
    "        \"text_x\": 0.2,\n",
    "        \"text_y\": 0.7,\n",
    "        \"num_max\": 50\n",
    "    }\n",
    "    scatter_integral_body(num_data, is_left, f, param)\n",
    "\n",
    "num_max = 50\n",
    "interact(scatter, num_data=(2, num_max, 1), is_left=True)"
   ]
  },
  {
   "cell_type": "markdown",
   "metadata": {
    "colab_type": "text",
    "id": "tnqxj5O6x9Zw"
   },
   "source": [
    "### 参照用 \n",
    "\n",
    "\\begin{align}\n",
    "\\int_0^1 f(x) dx\n",
    "&=\n",
    "\\lim_{n \\to \\infty} \\frac{1}{n} \\sum_{k=0}^{n-1} f \\left( \\frac{k}{n} \\right), \\\\\n",
    "n = 2\n",
    "&\\Rightarrow\n",
    "\\frac{1}{2} \\left(f\\left(\\frac02\\right) + f\\left(\\frac12\\right)\\right) \\\\\n",
    "n = 3\n",
    "&\\Rightarrow\n",
    "\\frac{1}{3} \\left(f\\left(\\frac03\\right) + f\\left(\\frac13\\right) + f\\left(\\frac23\\right)\\right)\n",
    "\\end{align}"
   ]
  },
  {
   "cell_type": "markdown",
   "metadata": {
    "colab_type": "text",
    "id": "h-Zf4hZszU6u"
   },
   "source": [
    "### 二次関数\n",
    "- $x^2$ を $[0,2]$ で積分\n",
    "- 面積は $\\int_0^2 x^2 dx = 8/3 = 2.6666...$"
   ]
  },
  {
   "cell_type": "code",
   "execution_count": 0,
   "metadata": {
    "colab": {
     "base_uri": "https://localhost:8080/",
     "height": 350,
     "referenced_widgets": [
      "1b635e26f9b541eab17c12f62d84d7f5",
      "9ab360ca98d448f3bdc3eb3e2f29206a",
      "ea2c3f7fddb349d795b7ae151399b254",
      "c8e10965ae704eaca1e77beb43f68c0a",
      "bf75f2cf7ec647238f12f39f3f0d8a88",
      "07b5b1ebea864910a5bf5fe696cb7965",
      "56ae9456aee64a94a5e0b46b5a1eecd0",
      "e5b02943b13a4d00920e6ae28fb33619",
      "8a9b16f3b56043618f9004c02ebfdc8b",
      "1b9a5977aca949e4bf27bb2d3dbe9dba"
     ]
    },
    "colab_type": "code",
    "executionInfo": {
     "elapsed": 1157,
     "status": "ok",
     "timestamp": 1588595202292,
     "user": {
      "displayName": "Yoshitsugu Sekine",
      "photoUrl": "https://lh3.googleusercontent.com/a-/AOh14GimsNckrAflr-jMDGQwV_kIJ56EjAWYV8INkpUv=s64",
      "userId": "13524401322013959426"
     },
     "user_tz": -540
    },
    "id": "w11-50A2l0nM",
    "outputId": "6e92fc79-6171-4f38-cdae-b4c7bbed198a"
   },
   "outputs": [
    {
     "data": {
      "application/vnd.jupyter.widget-view+json": {
       "model_id": "1b635e26f9b541eab17c12f62d84d7f5",
       "version_major": 2,
       "version_minor": 0
      },
      "text/plain": [
       "interactive(children=(IntSlider(value=26, description='num_data', max=50, min=2), Checkbox(value=True, descrip…"
      ]
     },
     "metadata": {
      "tags": []
     },
     "output_type": "display_data"
    },
    {
     "data": {
      "text/plain": [
       "<function __main__.scatter>"
      ]
     },
     "execution_count": 4,
     "metadata": {
      "tags": []
     },
     "output_type": "execute_result"
    }
   ],
   "source": [
    "from ipywidgets import interact\n",
    "\n",
    "def scatter(num_data, is_left):\n",
    "    def f(x):\n",
    "        return x**2\n",
    "\n",
    "    param = {\n",
    "        \"x_min\": 0.0,\n",
    "        \"x_max\": 2.0,\n",
    "        \"y_min\": 0.0,\n",
    "        \"y_max\": 4.0,\n",
    "        \"figsize_x\": 4,\n",
    "        \"figsize_y\": 4,\n",
    "        \"alpha\": 0.5,\n",
    "        \"text_x\": 0.2,\n",
    "        \"text_y\": 3.0,\n",
    "        \"num_max\": 50\n",
    "    }\n",
    "    scatter_integral_body(num_data, is_left, f, param)\n",
    "\n",
    "num_max = 50\n",
    "interact(scatter, num_data=(2, num_max, 1), is_left=True)"
   ]
  },
  {
   "cell_type": "markdown",
   "metadata": {
    "colab_type": "text",
    "id": "kX4qJW9N2zP5"
   },
   "source": [
    "### 定積分の大雑把なまとめ\n",
    "- どんどん細かくしていくと、細かさに応じて近似がよくなる。\n",
    "- 近似を上げていった最果てで厳密な値が得られるとみなす。\n",
    "- 視覚的に確認すると定義の意図が見えやすくなる\n",
    "- 定義の意図がわかっていないとプログラムを書くのも難しい"
   ]
  },
  {
   "cell_type": "markdown",
   "metadata": {
    "colab_type": "text",
    "id": "MSNTv_ZIzvsi"
   },
   "source": [
    "## 1 次元の波動方程式\n",
    "- ひもの左端を揺らしたときのひもの振動（波）の様子を見る\n",
    "- 波が右端まで行くと反射するところも見られる"
   ]
  },
  {
   "cell_type": "markdown",
   "metadata": {
    "colab_type": "text",
    "id": "Rzl8Lbjm0Qj2"
   },
   "source": [
    "### 偏微分方程式としての波動方程式\n",
    "\\begin{align}\n",
    " u_{tt} = c^2 u_{xx}, \\quad\n",
    "\\frac{\\partial^2 u}{\\partial t^2}\n",
    " =\n",
    "c^2 \\frac{\\partial^2 u}{\\partial x^2}.\n",
    "\\end{align}\n",
    "\n",
    "- ここで $c$ は定数で物理的には波の速度。\n",
    "- 物理だとこれをどうやって導出するかも問われる。\n",
    "- ここではそうした議論はせず、とにかく数値的に解いてみて波を表している様子を眺める"
   ]
  },
  {
   "cell_type": "markdown",
   "metadata": {
    "colab_type": "text",
    "id": "kC6VreGn7Fh8"
   },
   "source": [
    "\\begin{align}\n",
    "\\frac{\\partial u}{\\partial t}\n",
    "&=\n",
    "\\lim_{\\Delta t \\to 0}\\frac{u(t + \\Delta t, x) - u(t,x)}{\\Delta t} \\\\\n",
    "&\\simeq\n",
    "\\frac{u(t + \\Delta t, x) - u(t,x)}{\\Delta t}\n",
    "\\end{align}\n",
    "\n",
    "\\begin{align}\n",
    "\\frac{\\partial^2 u}{\\partial t^2}\n",
    "=\n",
    "\\frac{\\partial}{\\partial t} \\frac{\\partial u}{\\partial t}=\n",
    "\\frac{u_t(t+\\Delta t,x) - u_t(t,x)}{\\Delta t}\n",
    "&\\simeq\n",
    "\\frac{\\frac{u(t + \\Delta t, x) - u(t,x)}{\\Delta t} - \\frac{u(t , x) - u(t- \\Delta t,x)}{\\Delta t}}{\\Delta t}\n",
    "\\end{align}"
   ]
  },
  {
   "cell_type": "markdown",
   "metadata": {
    "colab_type": "text",
    "id": "0W4XFt-v0ctd"
   },
   "source": [
    "### 最終的に計算する式\n",
    "\\begin{align}\n",
    "u(t + \\Delta t, x ) =\n",
    "2 u(t,x) - u(t - \\Delta t, x) +\n",
    "\\left(\\frac{c \\Delta t}{\\Delta x}\\right)^2\n",
    "\\left(u(t, x  + \\Delta x) - 2 u(t,x) + u(t, x - \\Delta x) \\right).\n",
    "\\end{align}\n",
    "\n",
    "- 次の時刻 $t + \\Delta t$ の値を計算するのに現在時刻 $t$ とひとつ前の時刻 $t - \\Delta t$ の値を使っている。\n",
    "- 最終的には四則演算だけ"
   ]
  },
  {
   "cell_type": "code",
   "execution_count": 0,
   "metadata": {
    "colab": {
     "base_uri": "https://localhost:8080/",
     "height": 34
    },
    "colab_type": "code",
    "executionInfo": {
     "elapsed": 32190,
     "status": "ok",
     "timestamp": 1587222512169,
     "user": {
      "displayName": "Yoshitsugu Sekine",
      "photoUrl": "https://lh3.googleusercontent.com/a-/AOh14GimsNckrAflr-jMDGQwV_kIJ56EjAWYV8INkpUv=s64",
      "userId": "13524401322013959426"
     },
     "user_tz": -540
    },
    "id": "4dEcpjPI1Dp8",
    "outputId": "09dc7f88-78b6-4e15-fe6a-9a8353c3d11a"
   },
   "outputs": [
    {
     "name": "stderr",
     "output_type": "stream",
     "text": [
      "100%|██████████| 497/497 [00:00<00:00, 34649.84it/s]\n"
     ]
    }
   ],
   "source": [
    "from IPython.display import HTML\n",
    "from matplotlib import animation\n",
    "from tqdm import tqdm\n",
    "import numpy as np\n",
    "import matplotlib.pyplot as plt\n",
    "\n",
    "lx = 1  # 計算領域の長さ\n",
    "nx = 41 # 領域の分割数\n",
    "xs = np.linspace(0, lx, nx)\n",
    "\n",
    "def wave(nx):\n",
    "    dx = lx / (nx - 1) # 空間方向の刻み\n",
    "    nt = 500           # 計算回数\n",
    "    dt = 0.01          # 時間刻み\n",
    "    c = 1              # 波の速度\n",
    "    f = 2.0            # 強制振動の周波数\n",
    "\n",
    "    # 初期条件\n",
    "    u0 = np.zeros(nx)\n",
    "\n",
    "    # 結果の配列と nt, nx の次元を持つ配列で初期化\n",
    "    us = np.zeros((nt, len(u0)))\n",
    "\n",
    "    # 初期条件を結果の配列の各行にコピー\n",
    "    us[:,:] = u0.copy()\n",
    "\n",
    "    alpha = (c * dt / dx)**2\n",
    "\n",
    "    for i in tqdm(range(1, nt-2)):\n",
    "        t = i * dt\n",
    "        # 左端を強制振動\n",
    "        us[i, 0] = np.sin(2 * np.pi * f * t)\n",
    "        us[i+1, 0] = np.sin(2 * np.pi * f * t)\n",
    "\n",
    "        # 時間発展\n",
    "        us[i+1, 1:-1] = 2 * us[i, 1:-1] - us[i-1, 1:-1] \\\n",
    "                        + alpha * (us[i, 2:] - 2 * us[i, 1:-1] + us[i, :-2])\n",
    "        # 右端の境界値指定\n",
    "        us[i+1, nx-1] = 0\n",
    "\n",
    "    return us\n",
    "\n",
    "# 解\n",
    "us = wave(nx)\n",
    "\n",
    "fig = plt.figure();\n",
    "# グラフの軸の設定\n",
    "ax = plt.axes(xlim=(0, lx), ylim=(-5, 5));\n",
    "line, = ax.plot([], [], lw=2);\n",
    "\n",
    "def animate(u):\n",
    "    line.set_data(xs, u)\n",
    "    return line\n",
    "\n",
    "anim = animation.FuncAnimation(fig, animate, frames=us, interval=50)\n",
    "#anim.save('07-pde_03_wave_ex01.tmp.mp4', writer=\"ffmpeg\")\n",
    "plt.close(anim._fig)\n",
    "HTML(anim.to_jshtml(default_mode='reflect'))"
   ]
  },
  {
   "cell_type": "markdown",
   "metadata": {
    "colab_type": "text",
    "id": "Rd51d6Sl1hx-"
   },
   "source": [
    "## 1 次元の拡散方程式\n",
    "- 真ん中に置いておいた物質が周囲に拡散していく様子を見る"
   ]
  },
  {
   "cell_type": "markdown",
   "metadata": {
    "colab_type": "text",
    "id": "WdGZJSrm1wY1"
   },
   "source": [
    "### 偏微分方程式としての拡散方程式\n",
    "\n",
    "\\begin{align}\n",
    " \\frac{\\partial u}{\\partial t}= \\nu \\frac{\\partial^2 u}{\\partial x^2}.\n",
    "\\end{align}\n"
   ]
  },
  {
   "cell_type": "markdown",
   "metadata": {
    "colab_type": "text",
    "id": "DOhhAb0Q19vu"
   },
   "source": [
    "### 最終的に計算する式\n",
    "\\begin{align}\n",
    "u(t+ \\Delta t, x) =\n",
    "u(t, x) + \\nu \\frac{\\Delta t}{(\\Delta x)^2} (u(t, x + \\Delta x) - 2u(t,x) + u(t, x - \\Delta x)).\n",
    "\\end{align}\n",
    "\n",
    "- これも四則演算だけ。"
   ]
  },
  {
   "cell_type": "code",
   "execution_count": 0,
   "metadata": {
    "colab": {},
    "colab_type": "code",
    "id": "qRFDyyeT2RGJ"
   },
   "outputs": [],
   "source": [
    "import numpy as np\n",
    "import matplotlib.pyplot as plt\n",
    "from IPython.display import HTML\n",
    "from matplotlib import animation\n",
    "\n",
    "lx = 2  # 計算領域の長さ\n",
    "nx = 41 # 領域の分割数\n",
    "xs = np.linspace(0, lx, nx)\n",
    "\n",
    "def diffusion(nx):\n",
    "    dx = lx / (nx - 1) # 空間方向の刻み\n",
    "    dt = 0.001         # 時間刻み\n",
    "    nt = 200           # 計算回数\n",
    "    nu = 1.0           # 拡散係数\n",
    "\n",
    "    # 初期条件：中央以外すべて 0\n",
    "    u0 = np.zeros(nx)\n",
    "    # 真ん中に物質を置く\n",
    "    x_center = int((nx - 1) / 2)\n",
    "    u0[x_center-2: x_center+2] = 1\n",
    "\n",
    "    # 結果の配列と nt, nx の次元を持つ配列で初期化\n",
    "    us = np.zeros((nt, len(u0)))\n",
    "\n",
    "    # 初期条件を結果の配列の各行にコピー\n",
    "    us[:,:] = u0.copy()\n",
    "\n",
    "    for i in range(0, nt-1):\n",
    "        us[i+1, 1:-1] = us[i, 1:-1] + nu * dt / dx**2 *  (us[i, 2:] - 2 * us[i, 1:-1] + us[i, :-2])\n",
    "\n",
    "    return us\n",
    "\n",
    "us = diffusion(nx)\n",
    "\n",
    "fig = plt.figure();\n",
    "# グラフの軸の設定\n",
    "ax = plt.axes(xlim=(0, lx), ylim=(0, 1.2));\n",
    "line, = ax.plot([], [], lw=2);\n",
    "\n",
    "def animate(u):\n",
    "    line.set_data(xs, u)\n",
    "    return line\n",
    "\n",
    "anim = animation.FuncAnimation(fig, animate, frames=us, interval=50)\n",
    "#anim.save('07-pde_04_diffusion_ex01.tmp.mp4', writer=\"ffmpeg\")\n",
    "plt.close(anim._fig)\n",
    "HTML(anim.to_jshtml(default_mode='reflect'))"
   ]
  },
  {
   "cell_type": "markdown",
   "metadata": {
    "colab_type": "text",
    "id": "FP5GX8Ivc9OW"
   },
   "source": [
    "## 2 次元の波動方程式\n",
    "- イメージとしては膜の振動\n",
    "- 真ん中を振動させてその波の伝播を見る"
   ]
  },
  {
   "cell_type": "markdown",
   "metadata": {
    "colab_type": "text",
    "id": "cTM-bNrodGQy"
   },
   "source": [
    "### 偏微分方程式としての波動方程式\n",
    "\\begin{align}\n",
    " u_{tt} = c^2 (u_{xx} + u_{yy}).\n",
    "\\end{align}\n",
    "\n",
    "- ここで $c$ は定数で物理的には波の速度\n",
    "- 1 次元のときとの違いは $u_{yy}$ の追加\n",
    "- 物理的には次元に依存する議論もあってそれほど簡単ではない"
   ]
  },
  {
   "cell_type": "markdown",
   "metadata": {
    "colab_type": "text",
    "id": "9IVgSTvgfvc1"
   },
   "source": [
    "### 最終的に計算する式\n",
    "\\begin{align}\n",
    "&u(t + \\Delta t, x, y) \\\\\n",
    "&=\n",
    "2 u(t,x,y) - u(t - \\Delta t, x, y) \\\\\n",
    "\\quad &+ \\left(\\frac{c \\Delta t}{\\Delta x}\\right)^2 \\left(u(t, x + \\Delta x,y) - 2 u(t,x,y) + u(t, x - \\Delta x,y) \\right) \\\\\n",
    "\\quad &+ \\left(\\frac{c \\Delta t}{\\Delta y}\\right)^2 \\left(u(t, x,y + \\Delta y) - 2 u(t,x,y) + u(t, x,y - \\Delta y) \\right) \\\\\n",
    "\\end{align}\n",
    "\n",
    "- 右辺の時刻は $t$ と $t - \\Delta t$、つまり過去の時刻しか出てこない\n",
    "- 過去の時間での情報さえわかれば未来の挙動がわかる\n"
   ]
  },
  {
   "cell_type": "code",
   "execution_count": 0,
   "metadata": {
    "colab": {},
    "colab_type": "code",
    "id": "4OkQwX5OgA0S"
   },
   "outputs": [],
   "source": [
    "from IPython.display import HTML\n",
    "from matplotlib import animation\n",
    "from mpl_toolkits.mplot3d import Axes3D\n",
    "from tqdm import tqdm\n",
    "import numpy as np\n",
    "import matplotlib.pyplot as plt\n",
    "\n",
    "lx = 1  # 計算領域の長さ\n",
    "ly = 1  # 計算領域の長さ\n",
    "nx = 11 # 領域の分割数\n",
    "ny = 11 # 領域の分割数\n",
    "nx_center = int((nx - 1) / 2)\n",
    "ny_center = int((ny - 1) / 2)\n",
    "xs = np.linspace(0, lx, nx)\n",
    "ys = np.linspace(0, ly, ny)\n",
    "\n",
    "x1d = np.linspace(0, lx, nx)\n",
    "y1d = np.linspace(0, ly, ny)\n",
    "xs, ys = np.meshgrid(x1d, y1d)\n",
    "\n",
    "def wave(nx, ny):\n",
    "    dx = lx / (nx - 1)\n",
    "    dy = ly / (ny - 1)\n",
    "    nt = 300           # 計算回数\n",
    "    dt = 0.5 * dx * dy # 時間刻み\n",
    "    c = 1              # 波の速度\n",
    "    f = 2.0            # 強制振動の周波数\n",
    "    \n",
    "    # 初期条件\n",
    "    u0 = np.zeros((nx, ny))\n",
    "\n",
    "    # 結果の配列と nt, nx, ny の次元を持つ配列で初期化\n",
    "    us = np.zeros((nt, nx, ny))\n",
    "\n",
    "    # 初期条件を結果の配列の各行にコピー\n",
    "    us[:,:,:] = u0.copy()\n",
    "\n",
    "    alpha_x = (c * dt / dx)**2\n",
    "    alpha_y = (c * dt / dy)**2\n",
    "\n",
    "    for i in tqdm(range(1, nt-2)):\n",
    "        t = i * dt\n",
    "        # 中心を強制振動\n",
    "        us[i, nx_center, ny_center] = np.sin(2 * np.pi * f * t)\n",
    "        us[i+1, nx_center, ny_center] = np.sin(2 * np.pi * f * t)\n",
    "\n",
    "        # 時間発展\n",
    "        us[i+1, 1:-1, 1:-1] = 2 * us[i, 1:-1, 1:-1] - us[i-1, 1:-1, 1:-1] \\\n",
    "                            + alpha_x * (us[i, 2:, 1:-1] - 2 * us[i, 1:-1, 1:-1] + us[i, :-2, 1:-1]) \\\n",
    "                            + alpha_y * (us[i, 1:-1, 2:] - 2 * us[i, 1:-1, 1:-1] + us[i, 1:-1, :-2])\n",
    "        # 境界値指定\n",
    "        us[i+1, 0, :] = 0\n",
    "        us[i+1, nx-1, :] = 0\n",
    "        us[i+1, :, 0] = 0\n",
    "        us[i+1, :, ny-1] = 0\n",
    "\n",
    "    return us\n",
    "\n",
    "# 解\n",
    "us = wave(nx, ny)\n",
    "\n",
    "fig = plt.figure();\n",
    "ax = fig.add_subplot(111, projection='3d')\n",
    "ax.set_xlim(0, lx)\n",
    "ax.set_ylim(0, ly)\n",
    "ax.set_zlim(-2, 2)\n",
    "ax.set_xlabel('$x$')\n",
    "ax.set_ylabel('$y$')\n",
    "ax.set_zlabel('$u$')\n",
    "surf = ax.plot_surface(xs, ys, us[0], rstride=1, cstride=1, linewidth=0, cmap='jet')\n",
    "\n",
    "def animate(u):\n",
    "    return ax.plot_surface(xs, ys, u, rstride=1, cstride=1, linewidth=0, cmap='jet')\n",
    "    #surf.set_data(u)\n",
    "    #return surf\n",
    "\n",
    "anim = animation.FuncAnimation(fig, animate, frames=us, interval=50)\n",
    "#anim.save('07-pde_06_wave_2dim_ex01.tmp.mp4', writer=\"ffmpeg\")\n",
    "plt.close(anim._fig)\n",
    "HTML(anim.to_jshtml(default_mode='loop'))"
   ]
  },
  {
   "cell_type": "markdown",
   "metadata": {
    "colab_type": "text",
    "id": "G2AZC8bZ3Jzt"
   },
   "source": [
    "## 微分方程式の大雑把なまとめ\n",
    "- （いろいろな都合によって）物理では無限に細かいところで方程式を立てている\n",
    "- そのままでは計算機に計算させられない\n",
    "- 微分係数・導関数を定義によって有限化：差と商にわける。\n",
    "- 有限に落とした部分は無限に細かくしていけば元の微分係数・導関数を近似できていると期待する"
   ]
  },
  {
   "cell_type": "markdown",
   "metadata": {
    "colab_type": "text",
    "id": "sbq1U3Tl35KA"
   },
   "source": [
    "# 次回以降\n",
    "- 常微分方程式のところをのんびり進める\n",
    "- まずは微分方程式で何ができるのかをのんびり\n",
    "- 微分方程式で記述できる現象を説明したあと、近似計算の数理を追う\n",
    "- プログラムに落とし込む工夫を見る\n",
    "- 数値計算プログラムを大雑把に眺める\n",
    "- 講座・コンテンツ本体を眺める"
   ]
  },
  {
   "cell_type": "markdown",
   "metadata": {
    "colab_type": "text",
    "id": "zwMYAb2U3woL"
   },
   "source": [
    "# 質疑応答\n",
    "- 今の時点での目標が何かとか\n",
    "- こんな感じで進めてほしいとか\n",
    "- こんなネタを扱ってほしいとか\n",
    "\n",
    "## 要望メモ\n",
    "- 小さな課題が欲しい。\n",
    "- 成功体験を積もう。\n",
    "- 予習の範囲を出す。\n",
    "- 式とグラフの対応。いろいろお絵描きしてみる。どうやってプログラムに落とすか確認する。"
   ]
  },
  {
   "cell_type": "markdown",
   "metadata": {
    "colab_type": "text",
    "id": "F6KrFME9VYQe"
   },
   "source": [
    "# アンケート\n",
    "毎回アンケートを取っています. \n",
    "質問や要望がある場合もこちらにどうぞ. \n",
    "\n",
    "- [アンケートへのリンク](https://goo.gl/forms/hn7bUP4sblqOkBcI3)\n",
    "\n",
    "アンケートは匿名なので気楽にコメントしてください. \n",
    "直接返事してほしいことがあれば, \n",
    "メールなど適当な手段で連絡してください. "
   ]
  }
 ],
 "metadata": {
  "anaconda-cloud": {},
  "colab": {
   "collapsed_sections": [],
   "name": "2020-04-19_introduction.ipynb",
   "provenance": []
  },
  "kernelspec": {
   "display_name": "Python 3",
   "language": "python",
   "name": "python3"
  },
  "language_info": {
   "codemirror_mode": {
    "name": "ipython",
    "version": 3
   },
   "file_extension": ".py",
   "mimetype": "text/x-python",
   "name": "python",
   "nbconvert_exporter": "python",
   "pygments_lexer": "ipython3",
   "version": "3.8.3"
  },
  "widgets": {
   "application/vnd.jupyter.widget-state+json": {
    "005491d0caef4cea9cc2f8f65c1ebf0d": {
     "model_module": "@jupyter-widgets/controls",
     "model_name": "SliderStyleModel",
     "state": {
      "_model_module": "@jupyter-widgets/controls",
      "_model_module_version": "1.5.0",
      "_model_name": "SliderStyleModel",
      "_view_count": null,
      "_view_module": "@jupyter-widgets/base",
      "_view_module_version": "1.2.0",
      "_view_name": "StyleView",
      "description_width": "",
      "handle_color": null
     }
    },
    "07b5b1ebea864910a5bf5fe696cb7965": {
     "model_module": "@jupyter-widgets/controls",
     "model_name": "SliderStyleModel",
     "state": {
      "_model_module": "@jupyter-widgets/controls",
      "_model_module_version": "1.5.0",
      "_model_name": "SliderStyleModel",
      "_view_count": null,
      "_view_module": "@jupyter-widgets/base",
      "_view_module_version": "1.2.0",
      "_view_name": "StyleView",
      "description_width": "",
      "handle_color": null
     }
    },
    "1b635e26f9b541eab17c12f62d84d7f5": {
     "model_module": "@jupyter-widgets/controls",
     "model_name": "VBoxModel",
     "state": {
      "_dom_classes": [
       "widget-interact"
      ],
      "_model_module": "@jupyter-widgets/controls",
      "_model_module_version": "1.5.0",
      "_model_name": "VBoxModel",
      "_view_count": null,
      "_view_module": "@jupyter-widgets/controls",
      "_view_module_version": "1.5.0",
      "_view_name": "VBoxView",
      "box_style": "",
      "children": [
       "IPY_MODEL_ea2c3f7fddb349d795b7ae151399b254",
       "IPY_MODEL_c8e10965ae704eaca1e77beb43f68c0a",
       "IPY_MODEL_bf75f2cf7ec647238f12f39f3f0d8a88"
      ],
      "layout": "IPY_MODEL_9ab360ca98d448f3bdc3eb3e2f29206a"
     }
    },
    "1b9a5977aca949e4bf27bb2d3dbe9dba": {
     "model_module": "@jupyter-widgets/base",
     "model_name": "LayoutModel",
     "state": {
      "_model_module": "@jupyter-widgets/base",
      "_model_module_version": "1.2.0",
      "_model_name": "LayoutModel",
      "_view_count": null,
      "_view_module": "@jupyter-widgets/base",
      "_view_module_version": "1.2.0",
      "_view_name": "LayoutView",
      "align_content": null,
      "align_items": null,
      "align_self": null,
      "border": null,
      "bottom": null,
      "display": null,
      "flex": null,
      "flex_flow": null,
      "grid_area": null,
      "grid_auto_columns": null,
      "grid_auto_flow": null,
      "grid_auto_rows": null,
      "grid_column": null,
      "grid_gap": null,
      "grid_row": null,
      "grid_template_areas": null,
      "grid_template_columns": null,
      "grid_template_rows": null,
      "height": null,
      "justify_content": null,
      "justify_items": null,
      "left": null,
      "margin": null,
      "max_height": null,
      "max_width": null,
      "min_height": null,
      "min_width": null,
      "object_fit": null,
      "object_position": null,
      "order": null,
      "overflow": null,
      "overflow_x": null,
      "overflow_y": null,
      "padding": null,
      "right": null,
      "top": null,
      "visibility": null,
      "width": null
     }
    },
    "3e4730606171401fba1541d51481bdce": {
     "model_module": "@jupyter-widgets/controls",
     "model_name": "IntSliderModel",
     "state": {
      "_dom_classes": [],
      "_model_module": "@jupyter-widgets/controls",
      "_model_module_version": "1.5.0",
      "_model_name": "IntSliderModel",
      "_view_count": null,
      "_view_module": "@jupyter-widgets/controls",
      "_view_module_version": "1.5.0",
      "_view_name": "IntSliderView",
      "continuous_update": true,
      "description": "num_data",
      "description_tooltip": null,
      "disabled": false,
      "layout": "IPY_MODEL_e0cceb51ba9a4577a100610a150b31c0",
      "max": 50,
      "min": 2,
      "orientation": "horizontal",
      "readout": true,
      "readout_format": "d",
      "step": 1,
      "style": "IPY_MODEL_005491d0caef4cea9cc2f8f65c1ebf0d",
      "value": 26
     }
    },
    "460192bc5fcf49d797b4b648985c6345": {
     "model_module": "@jupyter-widgets/base",
     "model_name": "LayoutModel",
     "state": {
      "_model_module": "@jupyter-widgets/base",
      "_model_module_version": "1.2.0",
      "_model_name": "LayoutModel",
      "_view_count": null,
      "_view_module": "@jupyter-widgets/base",
      "_view_module_version": "1.2.0",
      "_view_name": "LayoutView",
      "align_content": null,
      "align_items": null,
      "align_self": null,
      "border": null,
      "bottom": null,
      "display": null,
      "flex": null,
      "flex_flow": null,
      "grid_area": null,
      "grid_auto_columns": null,
      "grid_auto_flow": null,
      "grid_auto_rows": null,
      "grid_column": null,
      "grid_gap": null,
      "grid_row": null,
      "grid_template_areas": null,
      "grid_template_columns": null,
      "grid_template_rows": null,
      "height": null,
      "justify_content": null,
      "justify_items": null,
      "left": null,
      "margin": null,
      "max_height": null,
      "max_width": null,
      "min_height": null,
      "min_width": null,
      "object_fit": null,
      "object_position": null,
      "order": null,
      "overflow": null,
      "overflow_x": null,
      "overflow_y": null,
      "padding": null,
      "right": null,
      "top": null,
      "visibility": null,
      "width": null
     }
    },
    "56ae9456aee64a94a5e0b46b5a1eecd0": {
     "model_module": "@jupyter-widgets/base",
     "model_name": "LayoutModel",
     "state": {
      "_model_module": "@jupyter-widgets/base",
      "_model_module_version": "1.2.0",
      "_model_name": "LayoutModel",
      "_view_count": null,
      "_view_module": "@jupyter-widgets/base",
      "_view_module_version": "1.2.0",
      "_view_name": "LayoutView",
      "align_content": null,
      "align_items": null,
      "align_self": null,
      "border": null,
      "bottom": null,
      "display": null,
      "flex": null,
      "flex_flow": null,
      "grid_area": null,
      "grid_auto_columns": null,
      "grid_auto_flow": null,
      "grid_auto_rows": null,
      "grid_column": null,
      "grid_gap": null,
      "grid_row": null,
      "grid_template_areas": null,
      "grid_template_columns": null,
      "grid_template_rows": null,
      "height": null,
      "justify_content": null,
      "justify_items": null,
      "left": null,
      "margin": null,
      "max_height": null,
      "max_width": null,
      "min_height": null,
      "min_width": null,
      "object_fit": null,
      "object_position": null,
      "order": null,
      "overflow": null,
      "overflow_x": null,
      "overflow_y": null,
      "padding": null,
      "right": null,
      "top": null,
      "visibility": null,
      "width": null
     }
    },
    "6a0c4487f21147e6ba2ea413926ae6a6": {
     "model_module": "@jupyter-widgets/controls",
     "model_name": "VBoxModel",
     "state": {
      "_dom_classes": [
       "widget-interact"
      ],
      "_model_module": "@jupyter-widgets/controls",
      "_model_module_version": "1.5.0",
      "_model_name": "VBoxModel",
      "_view_count": null,
      "_view_module": "@jupyter-widgets/controls",
      "_view_module_version": "1.5.0",
      "_view_name": "VBoxView",
      "box_style": "",
      "children": [
       "IPY_MODEL_3e4730606171401fba1541d51481bdce",
       "IPY_MODEL_70a8ca1209bd4402ada1a226554e8858",
       "IPY_MODEL_710b5ee520c84e3ba92e4e7af9207c2f"
      ],
      "layout": "IPY_MODEL_f7de8694d137455da98f6114ea97c466"
     }
    },
    "70a8ca1209bd4402ada1a226554e8858": {
     "model_module": "@jupyter-widgets/controls",
     "model_name": "CheckboxModel",
     "state": {
      "_dom_classes": [],
      "_model_module": "@jupyter-widgets/controls",
      "_model_module_version": "1.5.0",
      "_model_name": "CheckboxModel",
      "_view_count": null,
      "_view_module": "@jupyter-widgets/controls",
      "_view_module_version": "1.5.0",
      "_view_name": "CheckboxView",
      "description": "is_left",
      "description_tooltip": null,
      "disabled": false,
      "indent": true,
      "layout": "IPY_MODEL_b8e6ebe2abbb4b8ca09fbc74cd214641",
      "style": "IPY_MODEL_8094b59502054246b96007802b873f06",
      "value": true
     }
    },
    "710b5ee520c84e3ba92e4e7af9207c2f": {
     "model_module": "@jupyter-widgets/output",
     "model_name": "OutputModel",
     "state": {
      "_dom_classes": [],
      "_model_module": "@jupyter-widgets/output",
      "_model_module_version": "1.0.0",
      "_model_name": "OutputModel",
      "_view_count": null,
      "_view_module": "@jupyter-widgets/output",
      "_view_module_version": "1.0.0",
      "_view_name": "OutputView",
      "layout": "IPY_MODEL_460192bc5fcf49d797b4b648985c6345",
      "msg_id": "",
      "outputs": [
       {
        "image/png": "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\n",
        "metadata": {
         "needs_background": "light",
         "tags": []
        },
        "output_type": "display_data",
        "text/plain": "<Figure size 288x288 with 1 Axes>"
       }
      ]
     }
    },
    "8094b59502054246b96007802b873f06": {
     "model_module": "@jupyter-widgets/controls",
     "model_name": "DescriptionStyleModel",
     "state": {
      "_model_module": "@jupyter-widgets/controls",
      "_model_module_version": "1.5.0",
      "_model_name": "DescriptionStyleModel",
      "_view_count": null,
      "_view_module": "@jupyter-widgets/base",
      "_view_module_version": "1.2.0",
      "_view_name": "StyleView",
      "description_width": ""
     }
    },
    "8a9b16f3b56043618f9004c02ebfdc8b": {
     "model_module": "@jupyter-widgets/base",
     "model_name": "LayoutModel",
     "state": {
      "_model_module": "@jupyter-widgets/base",
      "_model_module_version": "1.2.0",
      "_model_name": "LayoutModel",
      "_view_count": null,
      "_view_module": "@jupyter-widgets/base",
      "_view_module_version": "1.2.0",
      "_view_name": "LayoutView",
      "align_content": null,
      "align_items": null,
      "align_self": null,
      "border": null,
      "bottom": null,
      "display": null,
      "flex": null,
      "flex_flow": null,
      "grid_area": null,
      "grid_auto_columns": null,
      "grid_auto_flow": null,
      "grid_auto_rows": null,
      "grid_column": null,
      "grid_gap": null,
      "grid_row": null,
      "grid_template_areas": null,
      "grid_template_columns": null,
      "grid_template_rows": null,
      "height": null,
      "justify_content": null,
      "justify_items": null,
      "left": null,
      "margin": null,
      "max_height": null,
      "max_width": null,
      "min_height": null,
      "min_width": null,
      "object_fit": null,
      "object_position": null,
      "order": null,
      "overflow": null,
      "overflow_x": null,
      "overflow_y": null,
      "padding": null,
      "right": null,
      "top": null,
      "visibility": null,
      "width": null
     }
    },
    "9ab360ca98d448f3bdc3eb3e2f29206a": {
     "model_module": "@jupyter-widgets/base",
     "model_name": "LayoutModel",
     "state": {
      "_model_module": "@jupyter-widgets/base",
      "_model_module_version": "1.2.0",
      "_model_name": "LayoutModel",
      "_view_count": null,
      "_view_module": "@jupyter-widgets/base",
      "_view_module_version": "1.2.0",
      "_view_name": "LayoutView",
      "align_content": null,
      "align_items": null,
      "align_self": null,
      "border": null,
      "bottom": null,
      "display": null,
      "flex": null,
      "flex_flow": null,
      "grid_area": null,
      "grid_auto_columns": null,
      "grid_auto_flow": null,
      "grid_auto_rows": null,
      "grid_column": null,
      "grid_gap": null,
      "grid_row": null,
      "grid_template_areas": null,
      "grid_template_columns": null,
      "grid_template_rows": null,
      "height": null,
      "justify_content": null,
      "justify_items": null,
      "left": null,
      "margin": null,
      "max_height": null,
      "max_width": null,
      "min_height": null,
      "min_width": null,
      "object_fit": null,
      "object_position": null,
      "order": null,
      "overflow": null,
      "overflow_x": null,
      "overflow_y": null,
      "padding": null,
      "right": null,
      "top": null,
      "visibility": null,
      "width": null
     }
    },
    "b8e6ebe2abbb4b8ca09fbc74cd214641": {
     "model_module": "@jupyter-widgets/base",
     "model_name": "LayoutModel",
     "state": {
      "_model_module": "@jupyter-widgets/base",
      "_model_module_version": "1.2.0",
      "_model_name": "LayoutModel",
      "_view_count": null,
      "_view_module": "@jupyter-widgets/base",
      "_view_module_version": "1.2.0",
      "_view_name": "LayoutView",
      "align_content": null,
      "align_items": null,
      "align_self": null,
      "border": null,
      "bottom": null,
      "display": null,
      "flex": null,
      "flex_flow": null,
      "grid_area": null,
      "grid_auto_columns": null,
      "grid_auto_flow": null,
      "grid_auto_rows": null,
      "grid_column": null,
      "grid_gap": null,
      "grid_row": null,
      "grid_template_areas": null,
      "grid_template_columns": null,
      "grid_template_rows": null,
      "height": null,
      "justify_content": null,
      "justify_items": null,
      "left": null,
      "margin": null,
      "max_height": null,
      "max_width": null,
      "min_height": null,
      "min_width": null,
      "object_fit": null,
      "object_position": null,
      "order": null,
      "overflow": null,
      "overflow_x": null,
      "overflow_y": null,
      "padding": null,
      "right": null,
      "top": null,
      "visibility": null,
      "width": null
     }
    },
    "bf75f2cf7ec647238f12f39f3f0d8a88": {
     "model_module": "@jupyter-widgets/output",
     "model_name": "OutputModel",
     "state": {
      "_dom_classes": [],
      "_model_module": "@jupyter-widgets/output",
      "_model_module_version": "1.0.0",
      "_model_name": "OutputModel",
      "_view_count": null,
      "_view_module": "@jupyter-widgets/output",
      "_view_module_version": "1.0.0",
      "_view_name": "OutputView",
      "layout": "IPY_MODEL_1b9a5977aca949e4bf27bb2d3dbe9dba",
      "msg_id": "",
      "outputs": [
       {
        "image/png": "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\n",
        "metadata": {
         "needs_background": "light",
         "tags": []
        },
        "output_type": "display_data",
        "text/plain": "<Figure size 288x288 with 1 Axes>"
       }
      ]
     }
    },
    "c8e10965ae704eaca1e77beb43f68c0a": {
     "model_module": "@jupyter-widgets/controls",
     "model_name": "CheckboxModel",
     "state": {
      "_dom_classes": [],
      "_model_module": "@jupyter-widgets/controls",
      "_model_module_version": "1.5.0",
      "_model_name": "CheckboxModel",
      "_view_count": null,
      "_view_module": "@jupyter-widgets/controls",
      "_view_module_version": "1.5.0",
      "_view_name": "CheckboxView",
      "description": "is_left",
      "description_tooltip": null,
      "disabled": false,
      "indent": true,
      "layout": "IPY_MODEL_8a9b16f3b56043618f9004c02ebfdc8b",
      "style": "IPY_MODEL_e5b02943b13a4d00920e6ae28fb33619",
      "value": true
     }
    },
    "e0cceb51ba9a4577a100610a150b31c0": {
     "model_module": "@jupyter-widgets/base",
     "model_name": "LayoutModel",
     "state": {
      "_model_module": "@jupyter-widgets/base",
      "_model_module_version": "1.2.0",
      "_model_name": "LayoutModel",
      "_view_count": null,
      "_view_module": "@jupyter-widgets/base",
      "_view_module_version": "1.2.0",
      "_view_name": "LayoutView",
      "align_content": null,
      "align_items": null,
      "align_self": null,
      "border": null,
      "bottom": null,
      "display": null,
      "flex": null,
      "flex_flow": null,
      "grid_area": null,
      "grid_auto_columns": null,
      "grid_auto_flow": null,
      "grid_auto_rows": null,
      "grid_column": null,
      "grid_gap": null,
      "grid_row": null,
      "grid_template_areas": null,
      "grid_template_columns": null,
      "grid_template_rows": null,
      "height": null,
      "justify_content": null,
      "justify_items": null,
      "left": null,
      "margin": null,
      "max_height": null,
      "max_width": null,
      "min_height": null,
      "min_width": null,
      "object_fit": null,
      "object_position": null,
      "order": null,
      "overflow": null,
      "overflow_x": null,
      "overflow_y": null,
      "padding": null,
      "right": null,
      "top": null,
      "visibility": null,
      "width": null
     }
    },
    "e5b02943b13a4d00920e6ae28fb33619": {
     "model_module": "@jupyter-widgets/controls",
     "model_name": "DescriptionStyleModel",
     "state": {
      "_model_module": "@jupyter-widgets/controls",
      "_model_module_version": "1.5.0",
      "_model_name": "DescriptionStyleModel",
      "_view_count": null,
      "_view_module": "@jupyter-widgets/base",
      "_view_module_version": "1.2.0",
      "_view_name": "StyleView",
      "description_width": ""
     }
    },
    "ea2c3f7fddb349d795b7ae151399b254": {
     "model_module": "@jupyter-widgets/controls",
     "model_name": "IntSliderModel",
     "state": {
      "_dom_classes": [],
      "_model_module": "@jupyter-widgets/controls",
      "_model_module_version": "1.5.0",
      "_model_name": "IntSliderModel",
      "_view_count": null,
      "_view_module": "@jupyter-widgets/controls",
      "_view_module_version": "1.5.0",
      "_view_name": "IntSliderView",
      "continuous_update": true,
      "description": "num_data",
      "description_tooltip": null,
      "disabled": false,
      "layout": "IPY_MODEL_56ae9456aee64a94a5e0b46b5a1eecd0",
      "max": 50,
      "min": 2,
      "orientation": "horizontal",
      "readout": true,
      "readout_format": "d",
      "step": 1,
      "style": "IPY_MODEL_07b5b1ebea864910a5bf5fe696cb7965",
      "value": 26
     }
    },
    "f7de8694d137455da98f6114ea97c466": {
     "model_module": "@jupyter-widgets/base",
     "model_name": "LayoutModel",
     "state": {
      "_model_module": "@jupyter-widgets/base",
      "_model_module_version": "1.2.0",
      "_model_name": "LayoutModel",
      "_view_count": null,
      "_view_module": "@jupyter-widgets/base",
      "_view_module_version": "1.2.0",
      "_view_name": "LayoutView",
      "align_content": null,
      "align_items": null,
      "align_self": null,
      "border": null,
      "bottom": null,
      "display": null,
      "flex": null,
      "flex_flow": null,
      "grid_area": null,
      "grid_auto_columns": null,
      "grid_auto_flow": null,
      "grid_auto_rows": null,
      "grid_column": null,
      "grid_gap": null,
      "grid_row": null,
      "grid_template_areas": null,
      "grid_template_columns": null,
      "grid_template_rows": null,
      "height": null,
      "justify_content": null,
      "justify_items": null,
      "left": null,
      "margin": null,
      "max_height": null,
      "max_width": null,
      "min_height": null,
      "min_width": null,
      "object_fit": null,
      "object_position": null,
      "order": null,
      "overflow": null,
      "overflow_x": null,
      "overflow_y": null,
      "padding": null,
      "right": null,
      "top": null,
      "visibility": null,
      "width": null
     }
    }
   }
  }
 },
 "nbformat": 4,
 "nbformat_minor": 1
}
