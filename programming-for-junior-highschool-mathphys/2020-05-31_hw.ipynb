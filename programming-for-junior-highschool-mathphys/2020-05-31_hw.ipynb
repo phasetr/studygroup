{
 "cells": [
  {
   "cell_type": "markdown",
   "metadata": {
    "colab_type": "text",
    "id": "UeHS9k8PQlJt"
   },
   "source": [
    "# 2020-05-31 課題\n",
    "- [コンテンツの案内ページ](https://phasetr.com/mthlp1/)\n",
    "- [GitHub へのリンク](https://github.com/phasetr/studygroup/programming-for-junior-highschool-mathphys)\n",
    "- 01-01 ipynb のプログラムを実際に実行してみて、実数の数値計算上で起こる問題を実感してみてください。\n",
    "- 「自分でお絵かきできるようになろう」講座なので、お絵描き用ライブラリに慣れ親しむのが大事です。そこで matplotlib の公式ドキュメントを見ていろいろ遊んでみてください。例えば次のようなことを試してみてください。\n",
    "    - 線の色を変えてみる。\n",
    "    - 点にマーカーをつける。\n",
    "    - 公式のサンプルやチュートリアルを試してみる。\n",
    "    - [公式サンプル](https://matplotlib.org/3.2.1/tutorials/introductory/sample_plots.html)\n",
    "    - [これも公式](https://matplotlib.org/3.2.1/gallery/index.html#mplot3d-examples-index)：サンプルコードもある。\n",
    "- 引き続き TeX でいろいろな式を書いてみましょう。式が書けると数学系のコミュニケーションがだいぶ楽になります。\n",
    "- 実際に競プロの問題をいくつか解いてみましょう。例えば[ここのページ](https://qiita.com/drken/items/fd4e5e3630d0f5859067)を一通り眺めてみてください。[Pythonで10問解いてみた記事](https://qiita.com/KoyanagiHitoshi/items/c5e82841b8d0f750851d)もあるので参考にしてください。"
   ]
  },
  {
   "cell_type": "markdown",
   "metadata": {
    "colab_type": "text",
    "id": "UL1CT7FxWS2W"
   },
   "source": [
    "# 自分用メモ\n",
    "- 常微分方程式で漸化式から微分方程式に流れる部分の書き直し\n",
    "- 勉強のおすすめ：AtCoder はどうか？C++の解説もあるし、仕事・評価にも割と直結するし、具体的な問題つきで勉強できる。\n",
    "    - https://atcoder.jp/contests/apg4b\n",
    "        - C++のコードをPythonで書き直してみるだけでもかなりの勉強になるはず\n",
    "    - Python によるアルゴリズム https://qiita.com/cabernet_rock/items/cdd12b07d213b67d0530\n",
    "- 文と式の説明\n",
    "- IT 基礎知識みたいなやつ\n",
    "- 数値計算に関わるクラス・オブジェクトの説明\n",
    "    - まずは辞書・構造体の拡大版として導入するか？\n",
    "    - 変な誤解を生まないような書き方を考える\n",
    "- 遅延型方程式に対するコメント追加\n",
    "- import に関する実演\n",
    "- matplotlib のチュートリアルを読もうの会\n",
    "- matplotlib 回では実際に matplotlib のチュートリアルを読もう\n",
    "    - 公式情報に触れる重要性\n",
    "    - 古い情報が古いと書いてあったりする：たとえば `pylab`\n",
    "        - [参考: これの Note](https://matplotlib.org/tutorials/introductory/usage.html#sphx-glr-tutorials-introductory-usage-py)\n",
    "    - [Gallery](https://matplotlib.org/gallery/index.html#user-interfaces)\n",
    "        - 見ていて面白い\n",
    "        - 「どこをいじるとどう変わるか」が視覚的にわかる\n",
    "        - 公式情報なのできちんとアップデートしてくれている（はず）\n",
    "        - 公式情報にソースがあるので自分でいろいろ書き換えていて破滅したとき、必ずオリジナルを復元できる\n",
    "- Jupyter （IPython）でのはまりどころ解説を作ろう\n",
    "    - いったん変数を作ると他のセルでも読み込める（読み込めてしまう）\n",
    "    - 「セルを上から順に読み込まないと動かない」問題の原因\n",
    "    - カーネル再起動まで変数は残り続ける"
   ]
  },
  {
   "cell_type": "markdown",
   "metadata": {
    "colab_type": "text",
    "id": "Rd4qGbdQwl2T"
   },
   "source": [
    "# 競プロを 2 題解いてみる\n",
    "- https://qiita.com/KoyanagiHitoshi/items/c5e82841b8d0f750851d の最初の2題"
   ]
  },
  {
   "cell_type": "markdown",
   "metadata": {
    "colab_type": "text",
    "id": "Sc1lE_PLw0nE"
   },
   "source": [
    "## ABC 086 A - Product\n",
    "- 標準入力から取るのが本筋（`input`）\n",
    "- 面倒なのでここでは入力部分をハードコードする"
   ]
  },
  {
   "cell_type": "code",
   "execution_count": 0,
   "metadata": {
    "colab": {
     "base_uri": "https://localhost:8080/",
     "height": 210
    },
    "colab_type": "code",
    "executionInfo": {
     "elapsed": 799,
     "status": "ok",
     "timestamp": 1592108474194,
     "user": {
      "displayName": "Yoshitsugu Sekine",
      "photoUrl": "https://lh3.googleusercontent.com/a-/AOh14GimsNckrAflr-jMDGQwV_kIJ56EjAWYV8INkpUv=s64",
      "userId": "13524401322013959426"
     },
     "user_tz": -540
    },
    "id": "qRbqS9Q7xKzw",
    "outputId": "313a9df9-2eb3-4089-b6c1-e80f6c9efacb"
   },
   "outputs": [
    {
     "name": "stdout",
     "output_type": "stream",
     "text": [
      "input_str\n",
      "1 3\n",
      "======\n",
      "['1', '3']\n",
      "======\n",
      "<map object at 0x7f537ad30c88>\n",
      "======\n",
      "[1, 3]\n",
      "1\n",
      "3\n",
      "Odd\n"
     ]
    }
   ],
   "source": [
    "input_str = \"1 3\"\n",
    "\n",
    "print(\"input_str\")\n",
    "print(input_str)\n",
    "\n",
    "print(\"======\")\n",
    "print(input_str.split())\n",
    "\n",
    "print(\"======\")\n",
    "print(map(int, input_str.split()))\n",
    "\n",
    "print(\"======\")\n",
    "print(list(map(int, input_str.split())))\n",
    "\n",
    "a, b = map(int, input_str.split())\n",
    "print(a)\n",
    "print(b)\n",
    "\n",
    "########################\n",
    "a, b = map(int, input_str.split())\n",
    "if a*b % 2 == 0:\n",
    "    print(\"Even\")\n",
    "else:\n",
    "    print(\"Odd\")"
   ]
  },
  {
   "cell_type": "code",
   "execution_count": 0,
   "metadata": {
    "colab": {
     "base_uri": "https://localhost:8080/",
     "height": 87
    },
    "colab_type": "code",
    "executionInfo": {
     "elapsed": 848,
     "status": "ok",
     "timestamp": 1592108264862,
     "user": {
      "displayName": "Yoshitsugu Sekine",
      "photoUrl": "https://lh3.googleusercontent.com/a-/AOh14GimsNckrAflr-jMDGQwV_kIJ56EjAWYV8INkpUv=s64",
      "userId": "13524401322013959426"
     },
     "user_tz": -540
    },
    "id": "nxCGDW_FC3Ij",
    "outputId": "a55ab115-703f-41bc-ce7c-6e972006f1a6"
   },
   "outputs": [
    {
     "name": "stdout",
     "output_type": "stream",
     "text": [
      "1\n",
      "<class 'str'>\n",
      "1\n",
      "<class 'int'>\n"
     ]
    }
   ],
   "source": [
    "s = \"1\"\n",
    "print(s)\n",
    "print(type(s))\n",
    "print(int(s))\n",
    "print(type(int(s)))"
   ]
  },
  {
   "cell_type": "markdown",
   "metadata": {
    "colab_type": "text",
    "id": "Pk9jsOlmcjxn"
   },
   "source": [
    "### map オブジェクトはイテレーター"
   ]
  },
  {
   "cell_type": "code",
   "execution_count": 0,
   "metadata": {
    "colab": {
     "base_uri": "https://localhost:8080/",
     "height": 241
    },
    "colab_type": "code",
    "executionInfo": {
     "elapsed": 828,
     "status": "error",
     "timestamp": 1591745358939,
     "user": {
      "displayName": "Yoshitsugu Sekine",
      "photoUrl": "https://lh3.googleusercontent.com/a-/AOh14GimsNckrAflr-jMDGQwV_kIJ56EjAWYV8INkpUv=s64",
      "userId": "13524401322013959426"
     },
     "user_tz": -540
    },
    "id": "6CERn6VRaVgE",
    "outputId": "08cf37c4-4de2-4688-b2f3-8b2958084d41"
   },
   "outputs": [
    {
     "name": "stdout",
     "output_type": "stream",
     "text": [
      "1\n",
      "3\n"
     ]
    },
    {
     "ename": "StopIteration",
     "evalue": "ignored",
     "output_type": "error",
     "traceback": [
      "\u001b[0;31m---------------------------------------------------------------------------\u001b[0m",
      "\u001b[0;31mStopIteration\u001b[0m                             Traceback (most recent call last)",
      "\u001b[0;32m<ipython-input-3-c797e216c7f4>\u001b[0m in \u001b[0;36m<module>\u001b[0;34m()\u001b[0m\n\u001b[1;32m      3\u001b[0m \u001b[0mprint\u001b[0m\u001b[0;34m(\u001b[0m\u001b[0ma\u001b[0m\u001b[0;34m.\u001b[0m\u001b[0m__next__\u001b[0m\u001b[0;34m(\u001b[0m\u001b[0;34m)\u001b[0m\u001b[0;34m)\u001b[0m\u001b[0;34m\u001b[0m\u001b[0;34m\u001b[0m\u001b[0m\n\u001b[1;32m      4\u001b[0m \u001b[0mprint\u001b[0m\u001b[0;34m(\u001b[0m\u001b[0ma\u001b[0m\u001b[0;34m.\u001b[0m\u001b[0m__next__\u001b[0m\u001b[0;34m(\u001b[0m\u001b[0;34m)\u001b[0m\u001b[0;34m)\u001b[0m\u001b[0;34m\u001b[0m\u001b[0;34m\u001b[0m\u001b[0m\n\u001b[0;32m----> 5\u001b[0;31m \u001b[0mprint\u001b[0m\u001b[0;34m(\u001b[0m\u001b[0ma\u001b[0m\u001b[0;34m.\u001b[0m\u001b[0m__next__\u001b[0m\u001b[0;34m(\u001b[0m\u001b[0;34m)\u001b[0m\u001b[0;34m)\u001b[0m\u001b[0;34m\u001b[0m\u001b[0;34m\u001b[0m\u001b[0m\n\u001b[0m",
      "\u001b[0;31mStopIteration\u001b[0m: "
     ]
    }
   ],
   "source": [
    "input_str = \"1 3\"\n",
    "a = map(int, input_str.split())\n",
    "print(a.__next__())\n",
    "print(a.__next__())\n",
    "print(a.__next__())"
   ]
  },
  {
   "cell_type": "markdown",
   "metadata": {
    "colab_type": "text",
    "id": "wTO8iKFFcdom"
   },
   "source": [
    "### 参考：標準入力\n",
    "- 果てしなくめんどい\n",
    "    - 低レイヤーの話に突撃する：コンソール・ターミナル、リダイレクトなどなど\n",
    "    - 「特殊 ( スペシャル ) ファイル」\n",
    "    - 「ソケット」\n",
    "        - http://e-words.jp/w/%E3%82%BD%E3%82%B1%E3%83%83%E3%83%88.html\n",
    "        - 特定の通信相手（IPネットワーク上の場合はIPアドレスとポートの組み合わせ）と紐付いた通信端点をプログラム上に生成し、これを通じてコネクションの確立やデータの送受信、切断などの処理を行う。具体的な通信方式や通信相手の指定方式が複数用意されており、同じコンピュータ上の他のプロセスとも、TCP/IPなどを利用して他のコンピュータ上のプログラムとも通信できる。\n",
    "- [標準入力について参考ページ](https://qiita.com/angel_p_57/items/03582181e9f7a69f8168#:~:text=%E6%A8%99%E6%BA%96%E5%85%A5%E5%8A%9B%E3%81%A8%E3%81%AF%E3%80%81UNIX,%E8%A3%85%E7%BD%AE%E3%81%AE%E3%81%93%E3%81%A8%E3%81%A7%E3%81%82%E3%82%8B%E3%80%82)\n",
    "- 低レイヤーとは何か\n",
    "    - [参考](http://0xcc.net/binhacks/intro.html#:~:text=%E4%BD%8E%E3%83%AC%E3%82%A4%E3%83%A4%E3%81%A8%E3%81%AF%E3%80%8C%E7%94%9F,%E3%82%A2%E3%82%BB%E3%83%B3%E3%83%96%E3%83%A9%E3%81%AB%E5%AF%BE%E3%81%99%E3%82%8B%E6%8A%BD%E8%B1%A1%E5%8C%96%E3%81%A7%E3%81%99%E3%80%82&text=%E3%81%97%E3%81%8B%E3%81%97%E3%80%81%E4%BD%8E%E3%83%AC%E3%82%A4%E3%83%A4%E3%81%AE%E6%8A%80%E8%A1%93,%E3%81%A8%E3%80%81%E3%81%9D%E3%81%86%E3%82%82%E3%81%84%E3%81%8D%E3%81%BE%E3%81%9B%E3%82%93%E3%80%82)\n",
    "    - 「低レイヤーとは 「生の」コンピュータに近いことを意味します。」\n",
    "    - OS やら CPU やらメモリやら何やら\n",
    "    - 「ハードウェアに近い話」みたいにも言えるかもしれない\n",
    "    - 簡単とか世間的な意味での「低レベル」とは関係ない\n",
    "    - 参考：「高レイヤー」は Web アプリなど\n",
    "        - 参考：[OSI 7階層参照モデル](https://thinkit.co.jp/story/2015/04/28/5799)\n",
    "- この辺は基本情報技術者試験などで「基礎知識」として問われたりする"
   ]
  },
  {
   "cell_type": "markdown",
   "metadata": {
    "colab_type": "text",
    "id": "8GKNd30nxxgE"
   },
   "source": [
    "## 第二問 ABC 081 A - Placing Marbles\n",
    "- 文字列は文字からなるリスト（配列）とみなす\n",
    "- `count()` の説明は例えば[ここ](https://note.nkmk.me/python-collections-counter/)\n",
    "    - 解説が何を言っているかよくわからないこともよくある\n",
    "    - サンプルをいくつか動かす方が早いこともよくある\n",
    "    - 数学でもよくある：一般論・抽象論ばかりではなく例をいじろう"
   ]
  },
  {
   "cell_type": "code",
   "execution_count": 0,
   "metadata": {
    "colab": {
     "base_uri": "https://localhost:8080/",
     "height": 34
    },
    "colab_type": "code",
    "executionInfo": {
     "elapsed": 624,
     "status": "ok",
     "timestamp": 1591483098360,
     "user": {
      "displayName": "Yoshitsugu Sekine",
      "photoUrl": "https://lh3.googleusercontent.com/a-/AOh14GimsNckrAflr-jMDGQwV_kIJ56EjAWYV8INkpUv=s64",
      "userId": "13524401322013959426"
     },
     "user_tz": -540
    },
    "id": "ZHowsi2oyISE",
    "outputId": "1f6a62ea-daa1-42f3-da7c-9f880f7ce359"
   },
   "outputs": [
    {
     "name": "stdout",
     "output_type": "stream",
     "text": [
      "2\n"
     ]
    }
   ],
   "source": [
    "input_str = \"101\"\n",
    "print(input_str.count(\"1\"))"
   ]
  },
  {
   "cell_type": "code",
   "execution_count": 0,
   "metadata": {
    "colab": {
     "base_uri": "https://localhost:8080/",
     "height": 34
    },
    "colab_type": "code",
    "executionInfo": {
     "elapsed": 616,
     "status": "ok",
     "timestamp": 1591483126396,
     "user": {
      "displayName": "Yoshitsugu Sekine",
      "photoUrl": "https://lh3.googleusercontent.com/a-/AOh14GimsNckrAflr-jMDGQwV_kIJ56EjAWYV8INkpUv=s64",
      "userId": "13524401322013959426"
     },
     "user_tz": -540
    },
    "id": "hlD-dqX_yQUP",
    "outputId": "373b07f5-5295-4693-d45e-98cbf44a83ba"
   },
   "outputs": [
    {
     "name": "stdout",
     "output_type": "stream",
     "text": [
      "3\n"
     ]
    }
   ],
   "source": [
    "input_str = \"abcabcab\"\n",
    "print(input_str.count(\"a\"))"
   ]
  },
  {
   "cell_type": "code",
   "execution_count": 0,
   "metadata": {
    "colab": {
     "base_uri": "https://localhost:8080/",
     "height": 34
    },
    "colab_type": "code",
    "executionInfo": {
     "elapsed": 1258,
     "status": "ok",
     "timestamp": 1592109544211,
     "user": {
      "displayName": "Yoshitsugu Sekine",
      "photoUrl": "https://lh3.googleusercontent.com/a-/AOh14GimsNckrAflr-jMDGQwV_kIJ56EjAWYV8INkpUv=s64",
      "userId": "13524401322013959426"
     },
     "user_tz": -540
    },
    "id": "LBlOKBR4H197",
    "outputId": "117a3d9e-97d8-4dbd-d1b2-58419c22e15b"
   },
   "outputs": [
    {
     "name": "stdout",
     "output_type": "stream",
     "text": [
      "2\n"
     ]
    }
   ],
   "source": [
    "input_str = \"abcabcab\"\n",
    "print(input_str.count(\"abc\"))"
   ]
  },
  {
   "cell_type": "markdown",
   "metadata": {
    "colab_type": "text",
    "id": "muAs3b0FQCrE"
   },
   "source": [
    "# プログラミングの一般論\n"
   ]
  },
  {
   "cell_type": "markdown",
   "metadata": {
    "colab_type": "text",
    "id": "4DtP2iATQHta"
   },
   "source": [
    "## インポートまわりの話\n",
    "- 「お行儀」の問題もいろいろある。\n",
    "    - コーディングルールとして言及されることはよくある。\n",
    "- たくさん読み書きしてはじめてわかることもある。\n",
    "    - ある程度の量はこなさないと見えない世界がある"
   ]
  },
  {
   "cell_type": "markdown",
   "metadata": {
    "colab_type": "text",
    "id": "HqMx3OR_p9eR"
   },
   "source": [
    "## 初心者にありがちな話：モジュールの内容を全部インポートする\n",
    "- 「いちいち必要なのだけ選ぶのはめんどい」\n",
    "- 「楽でいいじゃない」"
   ]
  },
  {
   "cell_type": "code",
   "execution_count": 0,
   "metadata": {
    "colab": {},
    "colab_type": "code",
    "id": "feEj-YR1qJmP"
   },
   "outputs": [],
   "source": [
    "from sympy import *\n",
    "from numpy import *\n",
    "x,y,z = symbols(\"x,y,z\")"
   ]
  },
  {
   "cell_type": "markdown",
   "metadata": {
    "colab_type": "text",
    "id": "_k7eG02HqXxW"
   },
   "source": [
    "### 問題点\n",
    "- 知らないモジュールのインポートがたくさんあると、どのクラス・関数がどのモジュールから来ているのかわからない\n",
    "- 似た名前の関数やクラスなどもたくさんある\n",
    "- 他人も読むコードではやめてほしい\n",
    "- **将来、詳細を忘れた自分が読むのも厳しい**\n",
    "- 「わけがわからないので、使うクラスや関数だけインポートしてほしい」\n",
    "    - 例：使うものだけインポート\n",
    "        - https://github.com/django/django/blob/master/django/middleware/cache.py#L48-L50\n",
    "- 「使うクラス・メソッドだけインポートするか、`as` で呼ぶかする」といった規約をつけていることもよくある\n",
    "    - sympy, numpy あたりはお行儀がよくて、必要なモノだけインポートするよう徹底されている模様"
   ]
  },
  {
   "cell_type": "code",
   "execution_count": 0,
   "metadata": {
    "colab": {},
    "colab_type": "code",
    "id": "NhOU7h47MbUG"
   },
   "outputs": [],
   "source": [
    "import numpy as np\n",
    "import matplotlib.pyplot as plt"
   ]
  },
  {
   "cell_type": "markdown",
   "metadata": {
    "colab_type": "text",
    "id": "xxqBeHMmsVhH"
   },
   "source": [
    "## いろいろなインポートの指定\n",
    "- 状況に合わせて都合がいいからそうする\n",
    "- 状況に合わせた方法もいろいろ準備されている\n",
    "    - 必要だったから体系化されて盛り込まれている"
   ]
  },
  {
   "cell_type": "code",
   "execution_count": 0,
   "metadata": {
    "colab": {
     "base_uri": "https://localhost:8080/",
     "height": 35
    },
    "colab_type": "code",
    "executionInfo": {
     "elapsed": 576,
     "status": "ok",
     "timestamp": 1590911220240,
     "user": {
      "displayName": "Yoshitsugu Sekine",
      "photoUrl": "https://lh3.googleusercontent.com/a-/AOh14GimsNckrAflr-jMDGQwV_kIJ56EjAWYV8INkpUv=s64",
      "userId": "13524401322013959426"
     },
     "user_tz": -540
    },
    "id": "HS5IMOWjscti",
    "outputId": "70bbef79-8396-49dd-bdc9-81b3517bbb4a"
   },
   "outputs": [
    {
     "name": "stdout",
     "output_type": "stream",
     "text": [
      "3/4\n"
     ]
    }
   ],
   "source": [
    "from fractions import Fraction\n",
    "q = Fraction(3,4)\n",
    "print(q)"
   ]
  },
  {
   "cell_type": "code",
   "execution_count": 0,
   "metadata": {
    "colab": {
     "base_uri": "https://localhost:8080/",
     "height": 35
    },
    "colab_type": "code",
    "executionInfo": {
     "elapsed": 739,
     "status": "ok",
     "timestamp": 1590911230569,
     "user": {
      "displayName": "Yoshitsugu Sekine",
      "photoUrl": "https://lh3.googleusercontent.com/a-/AOh14GimsNckrAflr-jMDGQwV_kIJ56EjAWYV8INkpUv=s64",
      "userId": "13524401322013959426"
     },
     "user_tz": -540
    },
    "id": "ThBcOsqbskIh",
    "outputId": "144f8c72-2aef-4eff-b4b2-1a4037e6b145"
   },
   "outputs": [
    {
     "name": "stdout",
     "output_type": "stream",
     "text": [
      "3/4\n"
     ]
    }
   ],
   "source": [
    "import fractions\n",
    "r = fractions.Fraction(3,4)\n",
    "print(r)"
   ]
  },
  {
   "cell_type": "markdown",
   "metadata": {
    "colab_type": "text",
    "id": "IZRwxCcNsvPv"
   },
   "source": [
    "- 内容は同じだが後者は長い\n",
    "    - 書くのが面倒\n",
    "    - 読むときも余計なものまで読まされる\n",
    "    - シンプルにしたい\n",
    "- ケースバイケースでいろいろやる\n",
    "    - クラスだけ直接インポート：`from fractions import Fraction`\n",
    "    - `as` で短くする：`import fractions as f`"
   ]
  },
  {
   "cell_type": "code",
   "execution_count": 0,
   "metadata": {
    "colab": {
     "base_uri": "https://localhost:8080/",
     "height": 35
    },
    "colab_type": "code",
    "executionInfo": {
     "elapsed": 665,
     "status": "ok",
     "timestamp": 1590911399579,
     "user": {
      "displayName": "Yoshitsugu Sekine",
      "photoUrl": "https://lh3.googleusercontent.com/a-/AOh14GimsNckrAflr-jMDGQwV_kIJ56EjAWYV8INkpUv=s64",
      "userId": "13524401322013959426"
     },
     "user_tz": -540
    },
    "id": "i5JWb7DutPqC",
    "outputId": "6f78aa9c-9afb-4f00-bdf0-08e24310152a"
   },
   "outputs": [
    {
     "name": "stdout",
     "output_type": "stream",
     "text": [
      "3/4\n"
     ]
    }
   ],
   "source": [
    "import fractions as f\n",
    "a = f.Fraction(3,4)\n",
    "print(a)"
   ]
  },
  {
   "cell_type": "code",
   "execution_count": 0,
   "metadata": {
    "colab": {
     "base_uri": "https://localhost:8080/",
     "height": 34
    },
    "colab_type": "code",
    "executionInfo": {
     "elapsed": 890,
     "status": "ok",
     "timestamp": 1592114232638,
     "user": {
      "displayName": "Yoshitsugu Sekine",
      "photoUrl": "https://lh3.googleusercontent.com/a-/AOh14GimsNckrAflr-jMDGQwV_kIJ56EjAWYV8INkpUv=s64",
      "userId": "13524401322013959426"
     },
     "user_tz": -540
    },
    "id": "bWnwhAilZsYg",
    "outputId": "23f66eb9-acd2-4ed6-a9eb-4ce1150fca4e"
   },
   "outputs": [
    {
     "data": {
      "text/plain": [
       "array([ 0.,  1.,  2.,  3.,  4.,  5.,  6.,  7.,  8.,  9., 10.])"
      ]
     },
     "execution_count": 8,
     "metadata": {
      "tags": []
     },
     "output_type": "execute_result"
    }
   ],
   "source": [
    "from numpy import *\n",
    "linspace(0, 10, 11)"
   ]
  },
  {
   "cell_type": "code",
   "execution_count": 0,
   "metadata": {
    "colab": {
     "base_uri": "https://localhost:8080/",
     "height": 34
    },
    "colab_type": "code",
    "executionInfo": {
     "elapsed": 835,
     "status": "ok",
     "timestamp": 1592114424609,
     "user": {
      "displayName": "Yoshitsugu Sekine",
      "photoUrl": "https://lh3.googleusercontent.com/a-/AOh14GimsNckrAflr-jMDGQwV_kIJ56EjAWYV8INkpUv=s64",
      "userId": "13524401322013959426"
     },
     "user_tz": -540
    },
    "id": "BVx69FtbaWoj",
    "outputId": "839caa94-9ee3-4c0a-b2e5-b9c5b3d7527d"
   },
   "outputs": [
    {
     "data": {
      "text/plain": [
       "array([ 0.,  1.,  2.,  3.,  4.,  5.,  6.,  7.,  8.,  9., 10.])"
      ]
     },
     "execution_count": 10,
     "metadata": {
      "tags": []
     },
     "output_type": "execute_result"
    }
   ],
   "source": [
    "import numpy\n",
    "numpy.linspace(0, 10, 11)"
   ]
  },
  {
   "cell_type": "markdown",
   "metadata": {
    "colab_type": "text",
    "id": "5qBkPe5dwOXk"
   },
   "source": [
    "## 全体像をつかもう\n",
    "- ある程度大きな姿を捕まえないと局所的に何をやっているかもわからないことはよくある\n",
    "    - 料理でも下ごしらえとか\n",
    "        - 「やらなくてもいいが、やらないと美味しくない」\n",
    "    - フグの調理で毒を避けて処理する\n",
    "        - 「死にたいならやればいい」\n",
    "- 知識や見えている範囲が狭い中で考えて判断しようとしても無駄なことはよくある\n",
    "- 意味がわかるかはさておき、ある程度たくさん知っておかないといけないことはよくある\n",
    "    - 単純な知識問題もよくある\n",
    "        - はまることや立ち止まることに意味がない\n",
    "    - 何かを調べたいとき、対応する言葉を知らないと調べようがなければ聞きようもない\n",
    "- 本を読んでいるなら、とにかく四の五の言わずに 2-3 週読んでみるとかした方がいいこともよくある\n",
    "- プログラミングはちょっと突っ込むだけでいきなりコンピューター関係の基礎知識を大量に要求されるので、さっさと諦めてそれらを勉強する\n",
    "    - 基礎からやったところですぐにわかるようになるわけもないが、それらを諦めるところまで込めて諦める"
   ]
  },
  {
   "cell_type": "markdown",
   "metadata": {
    "colab_type": "text",
    "id": "9AMtrYuytdv4"
   },
   "source": [
    "## 膨大な量の経験が大事\n",
    "- 経験を積むと「こうした方がいい」「これはやめてほしい」というのがいろいろたまってくる\n",
    "- コーディングルールとしてノウハウがまとまっていたりする\n",
    "- 数学でもε-δで「なぜこんなεを取るのか」みたいな話はよくあるし、「何でこんな概念を導入するのか」みたいな話はよくある。\n",
    "    - 「便利だから」とか言われてもその便利なところを実感できるのはだいぶ慣れ親しんでから。\n",
    "    - この苦労を経ないとその辺の意味やご利益もわからないことはよくある\n",
    "    - プログラミングでも同じ\n",
    "    - ある程度は量をこなそう"
   ]
  },
  {
   "cell_type": "markdown",
   "metadata": {
    "colab_type": "text",
    "id": "ioBl_eSnt_IQ"
   },
   "source": [
    "## 楽しく量をこなすには？\n",
    "- 楽しいと思えることを探すしかない\n",
    "- 何が楽しいかは自分しかわからない\n",
    "- はじめつまらなくてもやっているうちに楽しくなることもあれば、何かのきっかけで目覚めることもある\n",
    "- いい方向が見つかるまでは試行錯誤するしかない\n",
    "- この中で自然と頭を使いつつ（質を高めつつ）量もこなす必要が出てくる"
   ]
  }
 ],
 "metadata": {
  "colab": {
   "collapsed_sections": [],
   "name": "2020-05-31_hw.ipynb",
   "provenance": [],
   "toc_visible": true
  },
  "kernelspec": {
   "display_name": "Python 3",
   "language": "python",
   "name": "python3"
  },
  "language_info": {
   "codemirror_mode": {
    "name": "ipython",
    "version": 3
   },
   "file_extension": ".py",
   "mimetype": "text/x-python",
   "name": "python",
   "nbconvert_exporter": "python",
   "pygments_lexer": "ipython3",
   "version": "3.8.3"
  }
 },
 "nbformat": 4,
 "nbformat_minor": 1
}
