{
 "cells": [
  {
   "cell_type": "markdown",
   "metadata": {
    "colab_type": "text",
    "id": "UeHS9k8PQlJt"
   },
   "source": [
    "# 2020-06-14 課題\n",
    "- [コンテンツの案内ページ](https://phasetr.com/mthlp1/)\n",
    "- [GitHub へのリンク](https://github.com/phasetr/studygroup/programming-for-junior-highschool-mathphys)\n",
    "- matplotlib を忘れないように、簡単なグラフをいくつか描いてみてください。\n",
    "- TeX でいろいろな式を書いてみましょう。\n",
    "- 実際に競プロの問題をいくつか解いてみましょう。まずは [Beginners' selection](https://atcoder.jp/contests/abs) をやっていきます。\n",
    "    - 今回は [ABC081B](https://atcoder.jp/contests/abs/tasks/abc081_b) と [ABC086C](https://atcoder.jp/contests/abs/tasks/arc089_a) （最後の難しめの問題）をやってみましょう。\n",
    "    - [Pythonで10問解いてみた記事](https://qiita.com/KoyanagiHitoshi/items/c5e82841b8d0f750851d)もあるので参考にしてください。\n",
    "    - 他にも[ここのページ](https://qiita.com/drken/items/fd4e5e3630d0f5859067)を一通り眺めてみてください。"
   ]
  },
  {
   "cell_type": "markdown",
   "metadata": {
    "colab_type": "text",
    "id": "UL1CT7FxWS2W"
   },
   "source": [
    "# 自分用メモ\n",
    "- 常微分方程式で漸化式から微分方程式に流れる部分の書き直し\n",
    "- 勉強のおすすめ：AtCoder はどうか？C++の解説もあるし、仕事・評価にも割と直結するし、具体的な問題つきで勉強できる。\n",
    "    - https://atcoder.jp/contests/apg4b\n",
    "        - C++のコードをPythonで書き直してみるだけでもかなりの勉強になるはず\n",
    "    - Python によるアルゴリズム https://qiita.com/cabernet_rock/items/cdd12b07d213b67d0530\n",
    "- 文と式の説明\n",
    "- IT 基礎知識みたいなやつ\n",
    "- 数値計算に関わるクラス・オブジェクトの説明\n",
    "    - まずは辞書・構造体の拡大版として導入するか？\n",
    "    - 変な誤解を生まないような書き方を考える\n",
    "- 遅延型方程式に対するコメント追加\n",
    "- import に関する実演\n",
    "- matplotlib のチュートリアルを読もうの会\n",
    "- matplotlib 回では実際に matplotlib のチュートリアルを読もう\n",
    "    - 公式情報に触れる重要性\n",
    "    - 古い情報が古いと書いてあったりする：たとえば `pylab`\n",
    "        - [参考: これの Note](https://matplotlib.org/tutorials/introductory/usage.html#sphx-glr-tutorials-introductory-usage-py)\n",
    "    - [Gallery](https://matplotlib.org/gallery/index.html#user-interfaces)\n",
    "        - 見ていて面白い\n",
    "        - 「どこをいじるとどう変わるか」が視覚的にわかる\n",
    "        - 公式情報なのできちんとアップデートしてくれている（はず）\n",
    "        - 公式情報にソースがあるので自分でいろいろ書き換えていて破滅したとき、必ずオリジナルを復元できる\n",
    "- Jupyter （IPython）でのはまりどころ解説を作ろう\n",
    "    - いったん変数を作ると他のセルでも読み込める（読み込めてしまう）\n",
    "    - 「セルを上から順に読み込まないと動かない」問題の原因\n",
    "    - カーネル再起動まで変数は残り続ける"
   ]
  },
  {
   "cell_type": "markdown",
   "metadata": {
    "colab_type": "text",
    "id": "MDGadbjNGtiY"
   },
   "source": [
    "# Matplotlib\n",
    "- とりあえず本当に簡単な図を描く"
   ]
  },
  {
   "cell_type": "code",
   "execution_count": null,
   "metadata": {
    "colab": {
     "base_uri": "https://localhost:8080/",
     "height": 320
    },
    "colab_type": "code",
    "executionInfo": {
     "elapsed": 689,
     "status": "ok",
     "timestamp": 1592260421369,
     "user": {
      "displayName": "Yoshitsugu Sekine",
      "photoUrl": "https://lh3.googleusercontent.com/a-/AOh14GimsNckrAflr-jMDGQwV_kIJ56EjAWYV8INkpUv=s64",
      "userId": "13524401322013959426"
     },
     "user_tz": -540
    },
    "id": "e0LE3OzIG1Ug",
    "outputId": "d60302fb-968f-4ae1-8a58-20a49ce58031"
   },
   "outputs": [
    {
     "name": "stderr",
     "output_type": "stream",
     "text": [
      "/usr/local/lib/python3.6/dist-packages/ipykernel_launcher.py:14: MatplotlibDeprecationWarning: Adding an axes using the same arguments as a previous axes currently reuses the earlier instance.  In a future version, a new instance will always be created and returned.  Meanwhile, this warning can be suppressed, and the future behavior ensured, by passing a unique label to each axes instance.\n",
      "  \n"
     ]
    },
    {
     "data": {
      "image/png": "[encoded data removed]",
      "text/plain": [
       "<Figure size 432x288 with 1 Axes>"
      ]
     },
     "metadata": {
      "needs_background": "light",
      "tags": []
     },
     "output_type": "display_data"
    }
   ],
   "source": [
    "import numpy as np\n",
    "import matplotlib.pyplot as plt\n",
    "\n",
    "x = np.linspace(-4, 4, 201)\n",
    "y1 = - 0.5 * x + 1\n",
    "y2 = np.sin(x)\n",
    "y3 = np.cos(x)\n",
    "\n",
    "plt.plot(x, y1)\n",
    "plt.plot(x, y2)\n",
    "plt.plot(x, y3)\n",
    "\n",
    "plt.grid()\n",
    "plt.axes().set_aspect('equal', 'datalim') # アスペクト比を合わせる\n",
    "plt.show()"
   ]
  },
  {
   "cell_type": "markdown",
   "metadata": {
    "colab_type": "text",
    "id": "qHsmcqhdT0Kg"
   },
   "source": [
    "# 勉強ネタ紹介\n",
    "- 前回も言ったように、自分に合った、楽しめるネタを探す必要がある\n",
    "    - 勉強しなければいけないことと、やっていて楽しめること・長続きすることが一致しないこともよくある\n",
    "- 教材がある事案\n",
    "    - 統計学 100 本ノック系：本もある\n",
    "    - 自然言語処理 100 本ノック系：例えば[このページ](https://nlp100.github.io/ja/)\n",
    "    - 離散数学：[The Haskell Road To Logic, Maths And Programming](https://www.amazon.co.jp/Haskell-Logic-Maths-Programming-Computing/dp/0954300696)\n",
    "    - [Project Euler](https://projecteuler.net/)\n",
    "        - [日本語 wikipedia](https://ja.wikipedia.org/wiki/%E3%83%97%E3%83%AD%E3%82%B8%E3%82%A7%E3%82%AF%E3%83%88%E3%83%BB%E3%82%AA%E3%82%A4%E3%83%A9%E3%83%BC)\n",
    "- 最近の私の趣味と実益を兼ねた対象がデータ構造とアルゴリズムなので、ここでもその辺を試してみている\n",
    "- 例えば上の中でも興味のあるネタがあればそれは取り上げるので、要望があれば挙げてほしい。\n",
    "    - 自然言語処理の UNIX コマンドとか"
   ]
  },
  {
   "cell_type": "markdown",
   "metadata": {
    "colab_type": "text",
    "id": "Rd4qGbdQwl2T"
   },
   "source": [
    "# 競プロを 2 題解いてみる\n",
    "- https://qiita.com/KoyanagiHitoshi/items/c5e82841b8d0f750851d の 3 題目と最後の問題\n",
    "- [AOJ](http://judge.u-aizu.ac.jp/onlinejudge/finder.jsp?course=ALDS1) も勉強用にお勧め\n",
    "    - 素因数分解など数学ネタもある\n",
    "    - これをもとにした[本](https://tatsu-zine.com/books/algorithm-and-datastructure)もある\n",
    "    - 言語が C/C++ なのが難点といえば難点\n",
    "    - C/C++ の方が低レイヤーを意識しやすくなる利点はある\n",
    "- 最近は Python によるデータ構造とアルゴリズムの本も出ているし、ネット上に資料もある"
   ]
  },
  {
   "cell_type": "markdown",
   "metadata": {
    "colab_type": "text",
    "id": "p-ceisQXvEV_"
   },
   "source": [
    "##  [ABC081B](https://atcoder.jp/contests/abs/tasks/abc081_b)、Shift only"
   ]
  },
  {
   "cell_type": "code",
   "execution_count": null,
   "metadata": {
    "colab": {
     "base_uri": "https://localhost:8080/",
     "height": 70
    },
    "colab_type": "code",
    "executionInfo": {
     "elapsed": 592,
     "status": "ok",
     "timestamp": 1592354347996,
     "user": {
      "displayName": "Yoshitsugu Sekine",
      "photoUrl": "https://lh3.googleusercontent.com/a-/AOh14GimsNckrAflr-jMDGQwV_kIJ56EjAWYV8INkpUv=s64",
      "userId": "13524401322013959426"
     },
     "user_tz": -540
    },
    "id": "ai3PoIVrtGY4",
    "outputId": "b9f07884-ea65-411c-c3a1-3dad2d64658d"
   },
   "outputs": [
    {
     "name": "stdout",
     "output_type": "stream",
     "text": [
      "2\n",
      "0\n",
      "8\n"
     ]
    }
   ],
   "source": [
    "# https://atcoder.jp/contests/abs/submissions/14323299\n",
    "#input()\n",
    "#A = list(map(int, input().split()))\n",
    "\n",
    "def f(A):\n",
    "    count = 0\n",
    "    while all(a % 2 == 0 for a in A):\n",
    "        A = [a/2 for a in A]\n",
    "        count += 1\n",
    "    print(count)\n",
    "\n",
    "A = [8, 12, 40]\n",
    "f(A)\n",
    "\n",
    "A = [5, 6, 8, 10]\n",
    "f(A)\n",
    "\n",
    "A = [382253568, 723152896, 37802240, 379425024, 404894720, 471526144]\n",
    "f(A)"
   ]
  },
  {
   "cell_type": "markdown",
   "metadata": {
    "colab_type": "text",
    "id": "s519aO9KNqwY"
   },
   "source": [
    "### Python の `all`\n",
    "- [参考ページ](https://note.nkmk.me/python-all-any-usage/)\n",
    "\n",
    "> Pythonでリストやタプルなどのイテラブルオブジェクトの要素がすべてTrue（真）か、いずれか一つでもTrueか、あるいは、すべてFalse（偽）かを判定するには組み込み関数all(), any()を使う。"
   ]
  },
  {
   "cell_type": "code",
   "execution_count": 1,
   "metadata": {
    "colab": {
     "base_uri": "https://localhost:8080/",
     "height": 52
    },
    "colab_type": "code",
    "executionInfo": {
     "elapsed": 1381,
     "status": "ok",
     "timestamp": 1592648001367,
     "user": {
      "displayName": "Yoshitsugu Sekine",
      "photoUrl": "https://lh3.googleusercontent.com/a-/AOh14GimsNckrAflr-jMDGQwV_kIJ56EjAWYV8INkpUv=s64",
      "userId": "13524401322013959426"
     },
     "user_tz": -540
    },
    "id": "QZVrwS1TNp9E",
    "outputId": "341b6367-83b6-4674-ac16-ebd2460476e7"
   },
   "outputs": [
    {
     "name": "stdout",
     "output_type": "stream",
     "text": [
      "True\n",
      "False\n"
     ]
    }
   ],
   "source": [
    "print(all([True, True, True]))\n",
    "print(all([True, False]))"
   ]
  },
  {
   "cell_type": "markdown",
   "metadata": {
    "colab_type": "text",
    "id": "NcKI8QzsvLSM"
   },
   "source": [
    "## [ABC086C](https://atcoder.jp/contests/abs/tasks/arc089_a)、Traveling\n",
    "- 止まれない条件\n",
    "    - 止まってよければ問題は簡単：時間に関する制約だけでいい\n",
    "    - 非現実的な問題設定にしたおかげで難しくなっている\n",
    "    - cf. たいていの場合は現実が難しすぎるから簡単にした問題を解く\n",
    "- 「距離」\n",
    "    - 京都・札幌・マンハッタンのような碁盤目状に道が整備された街での 2 点間の距離をどう測るといいか？\n",
    "        - 普通の2点間の距離（ユークリッド距離）$\\sqrt{(x_1 - x_2)^2 + (y_1 - y_2)^2}$ では不適切。\n",
    "        - $|x_1 - x_2| + |x_1 - x_2|$ で測る方が適切。\n",
    "        - 機械学習でも $L^1$ 正則化などで出てくる。\n",
    "        - 情報系（？）だとマンハッタン距離と呼ぶ。\n",
    "        - 数学では $L^1$ ノルムと呼ぶ。\n",
    "            - 一般には $L^p$ ノルムという概念がある"
   ]
  },
  {
   "cell_type": "code",
   "execution_count": null,
   "metadata": {
    "colab": {
     "base_uri": "https://localhost:8080/",
     "height": 70
    },
    "colab_type": "code",
    "executionInfo": {
     "elapsed": 702,
     "status": "ok",
     "timestamp": 1592355043795,
     "user": {
      "displayName": "Yoshitsugu Sekine",
      "photoUrl": "https://lh3.googleusercontent.com/a-/AOh14GimsNckrAflr-jMDGQwV_kIJ56EjAWYV8INkpUv=s64",
      "userId": "13524401322013959426"
     },
     "user_tz": -540
    },
    "id": "m55HKFJKut_i",
    "outputId": "9a3f726c-c0ca-4adf-9930-e4520d63fc17"
   },
   "outputs": [
    {
     "name": "stdout",
     "output_type": "stream",
     "text": [
      "Yes\n",
      "No\n",
      "No\n"
     ]
    }
   ],
   "source": [
    "#N = int(input())\n",
    "def f(N, course):\n",
    "    count = 0\n",
    "    T, X, Y = 0, 0, 0\n",
    "    for i in range(N):\n",
    "        #t, x, y = map(int, input().split()) # 都度読み込み：駄目な経路があれば即終了\n",
    "        t, x, y = course[i]\n",
    "        if abs(x-X)+abs(y-Y) <= t-T and t % 2 == (x+y) % 2:\n",
    "            count += 1\n",
    "        T, X, Y = t, x, y\n",
    "    print(\"Yes\" if count == N else \"No\")\n",
    "\n",
    "N = 2\n",
    "course = [(3, 1, 2,), (6, 1, 1)]\n",
    "f(N, courses)\n",
    "\n",
    "N = 1\n",
    "course = [(2, 100, 100)]\n",
    "f(N, course)\n",
    "\n",
    "N = 2\n",
    "course = [(5, 1, 1), (100, 1, 1)]\n",
    "f(N, course)"
   ]
  },
  {
   "cell_type": "code",
   "execution_count": null,
   "metadata": {
    "colab": {},
    "colab_type": "code",
    "id": "I1Ycdc8HhQER"
   },
   "outputs": [],
   "source": [
    "if count == N:\n",
    "    s = \"Yes\"\n",
    "    if a == B:\n",
    "        s = \"a\"\n",
    "    elif a == C:\n",
    "        s = \"b\"\n",
    "else:\n",
    "    s = \"No\""
   ]
  },
  {
   "cell_type": "markdown",
   "metadata": {
    "colab_type": "text",
    "id": "1O_DbyVmvUvl"
   },
   "source": [
    "### 現実的なスケジューリングの問題\n",
    "- Google Map の経路探索\n",
    "- Yahoo 路線情報などの経路探索\n",
    "- 野球・サッカーなどの年間試合日程\n",
    "- PASMO などでの運賃清算"
   ]
  },
  {
   "cell_type": "markdown",
   "metadata": {
    "colab_type": "text",
    "id": "Zqw4GIBgHncS"
   },
   "source": [
    "### PASMO などの運賃計算\n",
    "- 論文が出るほどの問題\n",
    "    - [解説記事](https://www.publickey1.jp/blog/12/_1040.html)\n",
    "    - https://www.orsj.or.jp/~archive/pdf/j_mag/Vol.54_J_001.pdf\n",
    "    - https://www.seikei.ac.jp/university/rikou/pdf/JFST440213.pdf\n",
    "    - https://ci.nii.ac.jp/naid/110008913789\n",
    "- 何が難しいか：乗車情報を使って東京の複雑な路線図から「最安運賃」を**即座に**計算させる\n",
    "    - 使える時間は 0.2 秒\n",
    "    - 運賃が高く計算されたら怒られる\n",
    "    - 安ければ文句がでない\n",
    "    - いくらでも変な経路がありうる\n",
    "    - 余計な枝をはじいて重要な部分だけ計算する\n",
    "- どうやって：これがアルゴリズム研究\n",
    "    - ほぼ純粋なプログラムだけの問題\n",
    "- テストの視点\n",
    "    - どんな始点・終点であっても問題なく動くか、プログラムを検証する問題もある\n",
    "    - 検証すべきパターンは $10^{40}$ 程度あるとか：[解説記事](https://www.publickey1.jp/blog/12/_1040.html)"
   ]
  },
  {
   "cell_type": "markdown",
   "metadata": {
    "colab_type": "text",
    "id": "EAJKNR29JJYK"
   },
   "source": [
    "### プロスポーツのスケジュール決定\n",
    "- [OR](http://www.orsj.or.jp/archive2/or65-3/or65_3_157.pdf) の研究課題\n",
    "- 多数のステークホルダーの利害調整問題\n",
    "    - ドームなどはコンサートもある\n",
    "        - 著名アイドル・歌手の結成何周年イベントなどは「この時期、できれば第何週」というレベルで細かい指定が入る\n",
    "        - ドル箱はもちろん優先\n",
    "    - 春夏の甲子園の時期は高校野球に占拠される\n",
    "    - 各チームが過酷な移動スケジュールにならないような配慮\n",
    "        - 「九州から北海道に順に移動していき、逆順に移動していく」みたいな形だと移動の負担は少ない\n",
    "        - 必ずしもそううまくは組めない\n",
    "        - 長時間移動だけでも体力消費があり選手パフォーマンスに影響する\n",
    "        - 旅費もかさむ\n",
    "- どうするか？\n",
    "    - これも組み合わせは膨大で、電車ほど激しくはないが短時間で計算させたい\n",
    "    - 最終的には人間の目も入れる必要があるだろう\n",
    "    - コンピューターにいくつか候補を計算させたい\n",
    "    - 適当にイベントと時期に重みづけ（ペナルティ）をつけて「一定程度以上ペナルティが積まれたスケジュールはもう考えない」といった工夫がいる\n",
    "    - いい感じのスケジュールにならなければパラメータ調整して再計算させたい\n",
    "        - このサイクルはなるべく早く回したい\n",
    "        - 高速計算の需要\n",
    "        - この辺は最近はやりの機械学習でもまさに同じような事情がある"
   ]
  },
  {
   "cell_type": "markdown",
   "metadata": {
    "colab_type": "text",
    "id": "muAs3b0FQCrE"
   },
   "source": [
    "# プログラミングの一般論\n",
    "- Web システムを例にした速度問題\n",
    "- データ構造とアルゴリズム\n",
    "    - 連結リストと配列：どんな特性があるか？\n",
    "    - スタックとキュー：いつどこで使うか？どう実装するか？"
   ]
  },
  {
   "cell_type": "markdown",
   "metadata": {
    "colab_type": "text",
    "id": "czi_wJx1MFCq"
   },
   "source": [
    "## web システムの事例\n",
    "- [参考](https://github.com/donnemartin/system-design-primer/blob/master/README-ja.md#%E3%82%B7%E3%82%B9%E3%83%86%E3%83%A0%E8%A8%AD%E8%A8%88%E7%9B%AE%E6%AC%A1)\n",
    "    - [レイテンシーの具体的な値](https://github.com/donnemartin/system-design-primer/blob/master/README-ja.md#%E5%85%A8%E3%81%A6%E3%81%AE%E3%83%97%E3%83%AD%E3%82%B0%E3%83%A9%E3%83%9E%E3%83%BC%E3%81%8C%E7%9F%A5%E3%82%8B%E3%81%B9%E3%81%8D%E3%83%AC%E3%82%A4%E3%83%86%E3%83%B3%E3%82%B7%E3%83%BC%E5%80%A4)\n",
    "- システムが重いというときどこにどんな原因があるか？\n",
    "    - ソシャゲでもよくある「障害発生」はどこでどう起こるか？\n",
    "    - どこかのサーバーが物理的に壊れることもある\n",
    "- データ構造とアルゴリズム（いわゆる「プログラミング」）がかかわるのはどこか？\n",
    "    - web サーバーでの処理（プログラム）\n",
    "    - データベースの（インデックス）設計\n",
    "    - ソフトによる問題なら基本的にはどこにでもありうる"
   ]
  },
  {
   "cell_type": "markdown",
   "metadata": {
    "colab_type": "text",
    "id": "VZn4HcgvNIZu"
   },
   "source": [
    "## データ構造とアルゴリズム\n",
    "- 鶏と卵で、同時に考えるべきテーマ：何かをするためにはどうデータを持ってどんな処理をすれば効率がいいか？\n",
    "    - 効率にもいろいろある\n",
    "    - 単純な処理速度・メモリ消費量・計算量"
   ]
  },
  {
   "cell_type": "markdown",
   "metadata": {
    "colab_type": "text",
    "id": "eonerSWFNeYK"
   },
   "source": [
    "### （連結）リストと配列\n",
    "- 何が違うのか？\n",
    "- メモリ上の配置やデータの「つなぎ方」\n",
    "- 状況によって使い分ける"
   ]
  },
  {
   "cell_type": "markdown",
   "metadata": {
    "colab_type": "text",
    "id": "EyWSwrjmrF1_"
   },
   "source": [
    "### リストの特徴\n",
    "- 要素数は変わることが前提\n",
    "- データを（先頭に）追加するのは簡単\n",
    "- データの削除も比較的簡単\n",
    "- 先頭から 1 つずつ順に処理するならそれなり\n",
    "- 検索やデータの書き換えが遅い：連結構造をたどる必要がある"
   ]
  },
  {
   "cell_type": "markdown",
   "metadata": {
    "colab_type": "text",
    "id": "tyanBhJhrSae"
   },
   "source": [
    "### 配列の特徴\n",
    "- 要素数は固定\n",
    "- データの追加・削除が重め\n",
    "- データの参照・書き換えが速い：アドレスが連続なので先頭さえわかれば「そこから何番先」と直指定できる\n",
    "- 「リストで遅ければ配列で書き直す」みたいなことはよくある"
   ]
  },
  {
   "cell_type": "markdown",
   "metadata": {
    "colab_type": "text",
    "id": "pp10lhpLrV2b"
   },
   "source": [
    "### ベクター（[参考](https://stackoverrun.com/ja/q/8964376)）\n",
    "- 「要素数可変の配列」\n",
    "- リストのように要素追加・削除が比較的低コストで、要素の参照・書き換えも配列のように速い\n",
    "- 何が問題か：要素の追加が楽なように余計なメモリ領域を確保する\n",
    "- ハードウェア組み込みプログラムのように、メモリがカツカツの状況では使えない\n",
    "    - 「メモリがカツカツ」という意味が理解できるか？"
   ]
  }
 ],
 "metadata": {
  "colab": {
   "collapsed_sections": [],
   "name": "2020-06-14_hw.ipynb",
   "provenance": [],
   "toc_visible": true
  },
  "kernelspec": {
   "display_name": "Python 3",
   "language": "python",
   "name": "python3"
  },
  "language_info": {
   "codemirror_mode": {
    "name": "ipython",
    "version": 3
   },
   "file_extension": ".py",
   "mimetype": "text/x-python",
   "name": "python",
   "nbconvert_exporter": "python",
   "pygments_lexer": "ipython3",
   "version": "3.8.3"
  }
 },
 "nbformat": 4,
 "nbformat_minor": 1
}
