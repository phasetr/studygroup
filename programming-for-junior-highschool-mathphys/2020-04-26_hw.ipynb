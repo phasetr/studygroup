{
 "cells": [
  {
   "cell_type": "markdown",
   "metadata": {
    "colab_type": "text",
    "id": "UeHS9k8PQlJt"
   },
   "source": [
    "# 2020-04-26 課題\n",
    "- [コンテンツの案内ページ](https://phasetr.com/mthlp1/)\n",
    "- [GitHub へのリンク](https://github.com/phasetr/studygroup/programming-for-junior-highschool-mathphys)\n",
    "- 少なくとも英語・フランス語・ドイツ語・ウクライナ語・スペイン語では別行立ての式に句読点がついていました.\n",
    "  式に句読点がついている外国語, 特に英語の文献を探してみてください.\n",
    "  英語については [arxiv](https://arxiv.org/) が探しやすいでしょう.\n",
    "  ドイツ語についてはアインシュタインの論文, フランス語では Serre の論文あたりが探しやすいだろうと思います.\n",
    "- 引き続き TeX でいろいろな式を書いてみましょう.\n",
    "  [arxiv](https://arxiv.org/) を彷徨って格好よさそうな式を https://mathpix.com/ で TeX 化してみると楽しいかもしれません.  \n",
    "- 引き続きプログラムをいろいろいじってみましょう. 例えば次のような方針があります. コンテンツからのコピペで構いません. 適切にコピペして動かすだけでも割と大変なので.\n",
    "    - (numpy を使って) いろいろな関数のグラフを描いてみましょう.\n",
    "    - (sympy を使って) いろいろな連立方程式を解いてみましょう.\n",
    "    - いろいろな微分方程式を解いてみましょう. 実際にコンテンツでも紹介しているように, 分点を自分でも変えていじってみるとのが第一歩です.\n",
    "- (難しいのでやらなくても構いません) 近似について考えてみましょう.\n",
    "  もとの関数 $f$ がほとんど 0 であるにも関わらず, 導関数が 0 とはかけ離れた関数を考えてみてください.\n",
    "  - 近似の基準として差の絶対値の最大値,\n",
    "  つまり $\\max_x |f(x) - g(x)|$ を取ることにします.\n",
    "  この量が小さくても,\n",
    "  導関数に対する $\\max_x |f'(x) - g'(x)|$ が小さいとは限らない関数を具体例を作ることで示したことにあたります.\n",
    "  エネルギーは適当な導関数によって定義されるので,\n",
    "  近似に関する微妙なさじ加減が少し体験できます.\n",
    "  (エネルギーは積分が絡むので実はもう少し面倒です.)\n",
    "  - 数値計算と微分方程式の近似解法についてはシンプレクティック積分法などの話題もあります.\n"
   ]
  },
  {
   "cell_type": "markdown",
   "metadata": {
    "colab_type": "text",
    "id": "Nl3B9cr71BvZ"
   },
   "source": [
    "$F(x)=0$ という関数があったとする。\n",
    "これは導関数の $F'(x)$ も $F'(x)=0$ である。"
   ]
  },
  {
   "cell_type": "markdown",
   "metadata": {
    "colab_type": "text",
    "id": "UL1CT7FxWS2W"
   },
   "source": [
    "# 自分用メモ\n",
    "- 遅延型方程式に対するコメント追加\n",
    "- 06 の introduction と overview の統合\n",
    "- 人口論の説明のブラッシュアップ\n",
    "- import に関する実演：めんどいのでローカルの Jupyter で。"
   ]
  },
  {
   "cell_type": "markdown",
   "metadata": {
    "colab_type": "text",
    "id": "7uZ47VRwF0iX"
   },
   "source": [
    "# 解答例：忘れる前にメモしておく"
   ]
  },
  {
   "cell_type": "markdown",
   "metadata": {
    "colab_type": "text",
    "id": "DoDfOqWITHoA"
   },
   "source": [
    "## 句読点問題\n",
    "- 英語: <https://arxiv.org/pdf/2004.10785.pdf>\n",
    "- ドイツ語: [Einstein, Zur Elektrodynamik bewegter Körper](https://onlinelibrary.wiley.com/doi/pdf/10.1002/andp.19053221004)\n",
    "- フランス語: [Serre, Géométrie algébrique et géométrie analytique](http://www.numdam.org/article/AIF_1956__6__1_0.pdf)"
   ]
  },
  {
   "cell_type": "markdown",
   "metadata": {
    "colab_type": "text",
    "id": "mOBgcxhrb59m"
   },
   "source": [
    "## TeX でいろいろな式を書こう\n",
    "\\begin{align}\n",
    " \\int_0^\\infty x^{2n} e^{-ax^2} \\, dx\n",
    " &=\n",
    " \\frac{(2n+1)!!}{2^{n+1}} \\sqrt{\\pi} a^{- n - 1/2}.\n",
    "\\end{align}\n",
    "\n",
    "\\begin{align}\n",
    "\\langle f, e^{-tH} g \\rangle\n",
    "=\n",
    "\\int_{\\mathbb{R}^d} \\mathbb{E}_W^x \\left[ \\overline{f(B_0)} g(B_t) e^{- \\int_0^t V(B_s) ds} \\right] dx.\n",
    "\\end{align}"
   ]
  },
  {
   "cell_type": "markdown",
   "metadata": {
    "colab_type": "text",
    "id": "mPwPkxnkt-AI"
   },
   "source": [
    "$\\mathrm{R}$"
   ]
  },
  {
   "cell_type": "markdown",
   "metadata": {
    "colab_type": "text",
    "id": "eAdBzNw5fUCC"
   },
   "source": [
    "## いろいろなプログラムを書こう"
   ]
  },
  {
   "cell_type": "markdown",
   "metadata": {
    "colab_type": "text",
    "id": "z7sctJxifXYD"
   },
   "source": [
    "### numpy でのグラフ"
   ]
  },
  {
   "cell_type": "code",
   "execution_count": 0,
   "metadata": {
    "colab": {
     "base_uri": "https://localhost:8080/",
     "height": 359
    },
    "colab_type": "code",
    "executionInfo": {
     "elapsed": 558,
     "status": "ok",
     "timestamp": 1588479278994,
     "user": {
      "displayName": "Yoshitsugu Sekine",
      "photoUrl": "https://lh3.googleusercontent.com/a-/AOh14GimsNckrAflr-jMDGQwV_kIJ56EjAWYV8INkpUv=s64",
      "userId": "13524401322013959426"
     },
     "user_tz": -540
    },
    "id": "NaMJ03unvJsT",
    "outputId": "90ce314b-8b42-492a-aef6-630ac7d0cdaf"
   },
   "outputs": [
    {
     "name": "stdout",
     "output_type": "stream",
     "text": [
      "[0.01       0.05061224 0.09122449 0.13183673 0.17244898 0.21306122\n",
      " 0.25367347 0.29428571 0.33489796 0.3755102  0.41612245 0.45673469\n",
      " 0.49734694 0.53795918 0.57857143 0.61918367 0.65979592 0.70040816\n",
      " 0.74102041 0.78163265 0.8222449  0.86285714 0.90346939 0.94408163\n",
      " 0.98469388 1.02530612 1.06591837 1.10653061 1.14714286 1.1877551\n",
      " 1.22836735 1.26897959 1.30959184 1.35020408 1.39081633 1.43142857\n",
      " 1.47204082 1.51265306 1.55326531 1.59387755 1.6344898  1.67510204\n",
      " 1.71571429 1.75632653 1.79693878 1.83755102 1.87816327 1.91877551\n",
      " 1.95938776 2.        ]\n",
      "[-4.60517019 -2.98356174 -2.39443189 -2.02619098 -1.75765386 -1.54617572\n",
      " -1.37170739 -1.22320417 -1.09392939 -0.97946963 -0.87677571 -0.7836526\n",
      " -0.69846743 -0.61997259 -0.54719327 -0.47935332 -0.41582471 -0.35609202\n",
      " -0.29972711 -0.2463704  -0.195717   -0.14750614 -0.10151305 -0.05754264\n",
      " -0.01542447  0.02499122  0.06383674  0.10122955  0.13727438  0.17206506\n",
      "  0.20568593  0.23821311  0.26971551  0.30025575  0.32989086  0.35867295\n",
      "  0.38664975  0.4138651   0.44035936  0.46616976  0.4913307   0.51587408\n",
      "  0.53982949  0.56322443  0.58608454  0.60843372  0.63029431  0.65168723\n",
      "  0.67263205  0.69314718]\n",
      "0.0\n"
     ]
    }
   ],
   "source": [
    "import numpy as np\n",
    "import math\n",
    "x = np.linspace(0.01, 2)\n",
    "print(np.linspace(0.01, 2))\n",
    "print(np.log(x))\n",
    "\n",
    "print(np.log(1))"
   ]
  },
  {
   "cell_type": "code",
   "execution_count": 0,
   "metadata": {
    "colab": {
     "base_uri": "https://localhost:8080/",
     "height": 288
    },
    "colab_type": "code",
    "executionInfo": {
     "elapsed": 562,
     "status": "ok",
     "timestamp": 1588479437646,
     "user": {
      "displayName": "Yoshitsugu Sekine",
      "photoUrl": "https://lh3.googleusercontent.com/a-/AOh14GimsNckrAflr-jMDGQwV_kIJ56EjAWYV8INkpUv=s64",
      "userId": "13524401322013959426"
     },
     "user_tz": -540
    },
    "id": "7T6bFRpdceiY",
    "outputId": "94016db4-cb90-47cc-8334-90d52557fcd5"
   },
   "outputs": [
    {
     "data": {
      "image/png": "[encoded data removed]",
      "text/plain": [
       "<Figure size 432x288 with 1 Axes>"
      ]
     },
     "metadata": {
      "needs_background": "light",
      "tags": []
     },
     "output_type": "display_data"
    }
   ],
   "source": [
    "import numpy as np\n",
    "import matplotlib.pyplot as plt\n",
    "\n",
    "x = np.linspace(0.01, 2)  # x を 0 にできない\n",
    "y = np.log(x)  # 自然対数\n",
    "\n",
    "plt.plot(x, y)\n",
    "\n",
    "plt.xlabel(\"x\", size=20)\n",
    "plt.ylabel(\"y\", size=14)\n",
    "plt.grid()\n",
    "\n",
    "plt.show()"
   ]
  },
  {
   "cell_type": "code",
   "execution_count": 0,
   "metadata": {
    "colab": {
     "base_uri": "https://localhost:8080/",
     "height": 54
    },
    "colab_type": "code",
    "executionInfo": {
     "elapsed": 1273,
     "status": "ok",
     "timestamp": 1588257861494,
     "user": {
      "displayName": "Yoshitsugu Sekine",
      "photoUrl": "https://lh3.googleusercontent.com/a-/AOh14GimsNckrAflr-jMDGQwV_kIJ56EjAWYV8INkpUv=s64",
      "userId": "13524401322013959426"
     },
     "user_tz": -540
    },
    "id": "-_40Eli1cnxz",
    "outputId": "b5a49365-d9b7-451d-cfe4-deffaa8e5394"
   },
   "outputs": [
    {
     "name": "stderr",
     "output_type": "stream",
     "text": [
      "/usr/local/lib/python3.6/dist-packages/ipykernel_launcher.py:5: RuntimeWarning: divide by zero encountered in log\n",
      "  \"\"\"\n"
     ]
    }
   ],
   "source": [
    "import numpy as np\n",
    "import matplotlib.pyplot as plt\n",
    "\n",
    "x = np.linspace(0, 2)  # 0 を含めるとエラー\n",
    "y = np.log(x)  # 自然対数"
   ]
  },
  {
   "cell_type": "markdown",
   "metadata": {
    "colab_type": "text",
    "id": "Yy-06i1Ufh-1"
   },
   "source": [
    "### sympy での連立方程式\n",
    "実際に解があるか目で見て確かめる。"
   ]
  },
  {
   "cell_type": "code",
   "execution_count": 0,
   "metadata": {
    "colab": {},
    "colab_type": "code",
    "id": "1jjc9rnTl2bg",
    "outputId": "3fe46e82-ca04-4142-c1c8-a63212bba8ef"
   },
   "outputs": [
    {
     "data": {
      "image/png": "[encoded data removed]",
      "text/plain": [
       "<Figure size 432x288 with 1 Axes>"
      ]
     },
     "metadata": {
      "needs_background": "light",
      "tags": []
     },
     "output_type": "display_data"
    }
   ],
   "source": [
    "import numpy as np\n",
    "import matplotlib.pyplot as plt\n",
    "\n",
    "x = np.linspace(-2, 2, 100)  # x を 0 にできない\n",
    "y1 = x**2 - 1\n",
    "y2 = x\n",
    "plt.plot(x, y1, label=\"x^2 - 1\")\n",
    "plt.plot(x, y2, label=\"x\")\n",
    "plt.legend()\n",
    "plt.show()"
   ]
  },
  {
   "cell_type": "code",
   "execution_count": 0,
   "metadata": {
    "colab": {
     "base_uri": "https://localhost:8080/",
     "height": 99
    },
    "colab_type": "code",
    "executionInfo": {
     "elapsed": 600,
     "status": "ok",
     "timestamp": 1588258649941,
     "user": {
      "displayName": "Yoshitsugu Sekine",
      "photoUrl": "https://lh3.googleusercontent.com/a-/AOh14GimsNckrAflr-jMDGQwV_kIJ56EjAWYV8INkpUv=s64",
      "userId": "13524401322013959426"
     },
     "user_tz": -540
    },
    "id": "qlDttIRaLBIp",
    "outputId": "b89ddd51-6983-49b1-fa14-73413096d553"
   },
   "outputs": [
    {
     "data": {
      "application/javascript": [
       "window.MathJax = {\n",
       "        tex2jax: {\n",
       "            inlineMath: [ ['$','$'] ],\n",
       "            processEscapes: true\n",
       "        }\n",
       "        };\n",
       "//# sourceURL=js_498bee0571"
      ],
      "text/plain": [
       "<IPython.core.display.Javascript object>"
      ]
     },
     "metadata": {
      "tags": []
     },
     "output_type": "display_data"
    },
    {
     "data": {
      "text/html": [
       "<script src='https://cdnjs.cloudflare.com/ajax/libs/mathjax/2.7.7/MathJax.js?config=TeX-AMS_CHTML'></script>"
      ],
      "text/plain": [
       "<IPython.core.display.HTML object>"
      ]
     },
     "metadata": {
      "tags": []
     },
     "output_type": "display_data"
    },
    {
     "data": {
      "text/latex": [
       "$$\\left [ \\frac{1}{2} + \\frac{\\sqrt{5}}{2}, \\quad - \\frac{\\sqrt{5}}{2} + \\frac{1}{2}\\right ]$$"
      ],
      "text/plain": [
       "⎡1   √5    √5   1⎤\n",
       "⎢─ + ──, - ── + ─⎥\n",
       "⎣2   2     2    2⎦"
      ]
     },
     "metadata": {
      "tags": []
     },
     "output_type": "display_data"
    }
   ],
   "source": [
    "from sympy import *\n",
    "#from sympy.plotting import plot\n",
    "from IPython.display import display\n",
    "\n",
    "def custom_latex_printer(expr, **options):\n",
    "    from IPython.display import Math, HTML\n",
    "    from google.colab.output._publish import javascript\n",
    "    url = \"https://cdnjs.cloudflare.com/ajax/libs/mathjax/2.7.7/MathJax.js?config=TeX-AMS_CHTML\"\n",
    "    javascript(content=\"\"\"window.MathJax = {\n",
    "        tex2jax: {\n",
    "            inlineMath: [ ['$','$'] ],\n",
    "            processEscapes: true\n",
    "        }\n",
    "        };\"\"\")\n",
    "    javascript(url=url)\n",
    "    return latex(expr, **options)\n",
    "\n",
    "init_printing(use_latex=\"mathjax\", latex_printer=custom_latex_printer)\n",
    "\n",
    "x = Symbol('x')\n",
    "expr1 = x**2 - 1\n",
    "expr2 = x\n",
    "sol = solve(expr1 - expr2, x) # 「引き算 = 0」にすれば連立方程式を解いたことになる\n",
    "display(sol)"
   ]
  },
  {
   "cell_type": "markdown",
   "metadata": {
    "colab_type": "text",
    "id": "gzhDoXfDfrCt"
   },
   "source": [
    "### 微分方程式"
   ]
  },
  {
   "cell_type": "code",
   "execution_count": 0,
   "metadata": {
    "colab": {},
    "colab_type": "code",
    "id": "8-QN5AtXeFBc"
   },
   "outputs": [],
   "source": [
    "import numpy as np\n",
    "import matplotlib.pyplot as plt\n",
    "from IPython.display import HTML\n",
    "from matplotlib import animation\n",
    "\n",
    "lx = 2  # 計算領域の長さ\n",
    "nx = 41 # 領域の分割数\n",
    "xs = np.linspace(0, lx, nx)\n",
    "\n",
    "def diffusion(nx):\n",
    "    dx = lx / (nx - 1) # 空間方向の刻み\n",
    "    dt = 0.001         # 時間刻み\n",
    "    nt = 200           # 計算回数\n",
    "    nu = 1.0           # 拡散係数\n",
    "\n",
    "    # 初期条件：中央以外すべて 0\n",
    "    u0 = np.zeros(nx)\n",
    "    # 真ん中に物質を置く\n",
    "    x_center = int((nx - 1) / 2)\n",
    "    u0[x_center-2: x_center+2] = 1\n",
    "\n",
    "    # 結果の配列と nt, nx の次元を持つ配列で初期化\n",
    "    us = np.zeros((nt, len(u0)))\n",
    "\n",
    "    # 初期条件を結果の配列の各行にコピー\n",
    "    us[:,:] = u0.copy()\n",
    "\n",
    "    for i in range(0, nt-1):\n",
    "        us[i+1, 1:-1] = us[i, 1:-1] + nu * dt / dx**2 *  (us[i, 2:] - 2 * us[i, 1:-1] + us[i, :-2])\n",
    "\n",
    "    return us\n",
    "\n",
    "us = diffusion(nx)\n",
    "\n",
    "fig = plt.figure()\n",
    "# グラフの軸の設定\n",
    "ax = plt.axes(xlim=(0, lx), ylim=(0, 1.2));\n",
    "line, = ax.plot([], [], lw=2)\n",
    "\n",
    "def animate(u):\n",
    "    line.set_data(xs, u)\n",
    "    return line\n",
    "\n",
    "anim = animation.FuncAnimation(fig, animate, frames=us, interval=50)\n",
    "plt.close(anim._fig)\n",
    "HTML(anim.to_jshtml(default_mode='reflect'))"
   ]
  },
  {
   "cell_type": "markdown",
   "metadata": {
    "colab_type": "text",
    "id": "IG2Z_SUMfyJR"
   },
   "source": [
    "## 関数の近似"
   ]
  },
  {
   "cell_type": "markdown",
   "metadata": {
    "colab_type": "text",
    "id": "jmUECCnWeKb0"
   },
   "source": [
    "### 例\n",
    "十分大きな $n$ に対する次の関数があります。\n",
    "\\begin{align}\n",
    "f(x) &= \\frac{1}{n} \\sin (e^n x), \\\\\n",
    "f'(x) &= \\frac{e^n}{n} \\cos (e^n x).\n",
    "\\end{align}\n",
    "グラフを描いてみましょう。"
   ]
  },
  {
   "cell_type": "code",
   "execution_count": 0,
   "metadata": {
    "colab": {
     "base_uri": "https://localhost:8080/"
    },
    "colab_type": "code",
    "executionInfo": {
     "elapsed": 633,
     "status": "error",
     "timestamp": 1588257332982,
     "user": {
      "displayName": "Yoshitsugu Sekine",
      "photoUrl": "https://lh3.googleusercontent.com/a-/AOh14GimsNckrAflr-jMDGQwV_kIJ56EjAWYV8INkpUv=s64",
      "userId": "13524401322013959426"
     },
     "user_tz": -540
    },
    "id": "Mx6gC1y7fuIw",
    "outputId": "30df3ba6-a1ea-4885-90a0-86f8333bb7dd"
   },
   "outputs": [
    {
     "data": {
      "image/png": "[encoded data removed]",
      "text/plain": [
       "<Figure size 432x288 with 1 Axes>"
      ]
     },
     "metadata": {
      "needs_background": "light",
      "tags": []
     },
     "output_type": "display_data"
    }
   ],
   "source": [
    "import numpy as np\n",
    "import matplotlib.pyplot as plt\n",
    "\n",
    "n = 10\n",
    "x = np.linspace(0, 2 * np.pi, 100)\n",
    "y1 = np.sin(np.exp(n) * x) / n\n",
    "y2 = np.exp(n) * np.cos(np.exp(n) * x) / n\n",
    "plt.plot(x, y1, label=\"$f$\")\n",
    "plt.plot(x, y2, label=\"$df/dx$\")\n",
    "plt.legend()\n",
    "plt.show()"
   ]
  },
  {
   "cell_type": "markdown",
   "metadata": {
    "colab_type": "text",
    "id": "shlE7mAOlN41"
   },
   "source": [
    "### コメント\n",
    "これは次のように思ってください。\n",
    "\n",
    "- 関数 $f_n$ は元の関数 $f_0 = 0$ を（最大値ノルムで）よく近似できている。\n",
    "- 関数 $f'_n$ は元の関数の導関数 $f'_0 = 0$ をよく近似できていない.\n",
    "\n",
    "関数の近似はいろいろ難しいところがあって, それだけで論文になるレベルです.\n",
    "同じ事情はベクトルの近似にもあります.\n",
    "いま流行りの統計学の応用としての自然言語処理でも, 言語の近さを量的にどう判定するかという問題があり, これはまさに言葉をどうベクトルで表現するか, 表したベクトルの近さを何でどう判定するかが問われています.\n",
    "例えば, よくある「変換候補」遊びは, ある単語を打ち込んだとき, その人の入力の癖という観点から次にどのような語が来るか (どのような語が近いか) を統計的に判定する自然言語処理の事情が絡んでいます.\n",
    "このあたり, 既に「身近」なテーマで, そして身近なことは本当に難しいのでちょっと考えた程度でわかるような話ではありません. 何せ十分な精度で使いやすくかつ役に立ってもらわないといけないので."
   ]
  }
 ],
 "metadata": {
  "colab": {
   "collapsed_sections": [],
   "name": "2020-04-26_hw.ipynb",
   "provenance": [],
   "toc_visible": true
  },
  "kernelspec": {
   "display_name": "Python 3",
   "language": "python",
   "name": "python3"
  },
  "language_info": {
   "codemirror_mode": {
    "name": "ipython",
    "version": 3
   },
   "file_extension": ".py",
   "mimetype": "text/x-python",
   "name": "python",
   "nbconvert_exporter": "python",
   "pygments_lexer": "ipython3",
   "version": "3.8.3"
  }
 },
 "nbformat": 4,
 "nbformat_minor": 1
}
