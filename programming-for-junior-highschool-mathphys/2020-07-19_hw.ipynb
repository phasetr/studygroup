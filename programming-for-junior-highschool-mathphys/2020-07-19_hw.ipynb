{
 "cells": [
  {
   "cell_type": "markdown",
   "metadata": {
    "colab_type": "text",
    "id": "UeHS9k8PQlJt"
   },
   "source": [
    "# 2020-07-19 課題\n",
    "- [コンテンツの案内ページ](https://phasetr.com/mthlp1/)\n",
    "- [GitHub へのリンク](https://github.com/phasetr/studygroup/programming-for-junior-highschool-mathphys)\n",
    "- matplotlib を忘れないように、簡単なグラフをいくつか描いてみてください。\n",
    "- TeX でいろいろな式を書いてみましょう。\n",
    "- 実際に競プロの問題をいくつか解いてみましょう。まずは [Beginners' selection](https://atcoder.jp/contests/abs) をやっていきます。\n",
    "    - 今回は [ABC088B - Card Game for Two](https://atcoder.jp/contests/abs/tasks/abc088_b) と [ABC085B - Kagami Mochi](https://atcoder.jp/contests/abs/tasks/abc085_b) です。\n",
    "    - [Pythonで10問解いてみた記事](https://qiita.com/KoyanagiHitoshi/items/c5e82841b8d0f750851d)もあるので参考にしてください。\n",
    "    - 他にも[ここのページ](https://qiita.com/drken/items/fd4e5e3630d0f5859067)を一通り眺めてみてください。\n",
    "- 自分の宿題（気になるので調べる）\n",
    "    - SSD の話：記憶の仕方、書き込み耐性\n",
    "    - HDD の最小単位\n",
    "- [東大の AWS クラウド講義資料](https://tomomano.gitlab.io/intro-aws/#_hands_on_5_bashoutter)を眺めてみてください。せっかくなので状況を見て（私の勉強も兼ねて）「勉強会前半パート」で取り上げようと思います。"
   ]
  },
  {
   "cell_type": "markdown",
   "metadata": {
    "colab_type": "text",
    "id": "eHijM0qZCnuk"
   },
   "source": [
    "# メモ：先に進む前に録画してあるか確認しよう"
   ]
  },
  {
   "cell_type": "markdown",
   "metadata": {
    "colab_type": "text",
    "id": "UL1CT7FxWS2W"
   },
   "source": [
    "# 自分用メモ\n",
    "- 勉強のおすすめ：AtCoder はどうか？C++の解説もあるし、仕事・評価にも割と直結するし、具体的な問題つきで勉強できる。\n",
    "    - https://atcoder.jp/contests/apg4b\n",
    "        - C++のコードをPythonで書き直してみるだけでもかなりの勉強になるはず\n",
    "    - Python によるアルゴリズム https://qiita.com/cabernet_rock/items/cdd12b07d213b67d0530\n",
    "- 遅延型方程式に対するコメント追加\n",
    "- matplotlib のチュートリアルを読もうの会\n",
    "    - 公式情報に触れる重要性\n",
    "    - 古い情報が古いと書いてあったりする：たとえば `pylab`\n",
    "        - [参考: これの Note](https://matplotlib.org/tutorials/introductory/usage.html#sphx-glr-tutorials-introductory-usage-py)\n",
    "    - [Gallery](https://matplotlib.org/gallery/index.html#user-interfaces)\n",
    "        - 見ていて面白い\n",
    "        - 「どこをいじるとどう変わるか」が視覚的にわかる\n",
    "        - 公式情報なのできちんとアップデートしてくれている（はず）\n",
    "        - 公式情報にソースがあるので自分でいろいろ書き換えていて破滅したとき、必ずオリジナルを復元できる"
   ]
  },
  {
   "cell_type": "markdown",
   "metadata": {
    "colab_type": "text",
    "id": "MDGadbjNGtiY"
   },
   "source": [
    "# Matplotlib\n",
    "- とりあえず本当に簡単な図を描く\n",
    "- 今回は減衰振動\n",
    "\n",
    "\\begin{align}\n",
    "x(t)\n",
    "=\n",
    "e^{-\\gamma t} \\sin \\omega t.\n",
    "\\end{align}\n",
    "\n",
    "- ついでなのでこれの TeX も紹介する"
   ]
  },
  {
   "cell_type": "code",
   "execution_count": null,
   "metadata": {
    "colab": {
     "base_uri": "https://localhost:8080/",
     "height": 269
    },
    "colab_type": "code",
    "executionInfo": {
     "elapsed": 1459,
     "status": "ok",
     "timestamp": 1595736301806,
     "user": {
      "displayName": "Yoshitsugu Sekine",
      "photoUrl": "https://lh3.googleusercontent.com/a-/AOh14GimsNckrAflr-jMDGQwV_kIJ56EjAWYV8INkpUv=s64",
      "userId": "13524401322013959426"
     },
     "user_tz": -540
    },
    "id": "e0LE3OzIG1Ug",
    "outputId": "aa690b1c-6118-4fc7-8efa-7fdf3237d156"
   },
   "outputs": [
    {
     "data": {
      "image/png": "[encoded data removed]",
      "text/plain": [
       "<Figure size 432x288 with 1 Axes>"
      ]
     },
     "metadata": {
      "needs_background": "light",
      "tags": []
     },
     "output_type": "display_data"
    }
   ],
   "source": [
    "import numpy as np\n",
    "import matplotlib.pyplot as plt\n",
    "\n",
    "x = np.linspace(0, 10, 501)\n",
    "y = np.exp(-x) * np.sin(5*x)\n",
    "\n",
    "plt.plot(x, y, label=\"dump wave\")\n",
    "\n",
    "plt.grid()\n",
    "plt.legend()\n",
    "#plt.axes().set_aspect('equal', 'datalim') # アスペクト比を合わせる\n",
    "plt.show()"
   ]
  },
  {
   "cell_type": "markdown",
   "metadata": {
    "colab_type": "text",
    "id": "tLEgW79quL7a"
   },
   "source": [
    "# TeX の記録\n",
    "- 熱核\n",
    "- まず名前が格好いい\n",
    "\n",
    "\\begin{align}\n",
    "k(x,y,t)\n",
    "=\n",
    "t^{N - \\frac{m}{2}} e^{-\\frac{d^2(x,y)}{4t}} \\mathcal{K}(x,y,t).\n",
    "\\end{align}"
   ]
  },
  {
   "cell_type": "markdown",
   "metadata": {
    "colab_type": "text",
    "id": "6mrrNYm2T_Ix"
   },
   "source": [
    "# 競プロ、AtCoder\n",
    "- 実際に競プロの問題をいくつか解いてみましょう。まずは [Beginners' selection](https://atcoder.jp/contests/abs) をやっていきます。\n",
    "    - 今回は [ABC088B - Card Game for Two](https://atcoder.jp/contests/abs/tasks/abc088_b) と [ABC085B - Kagami Mochi](https://atcoder.jp/contests/abs/tasks/abc085_b) です。\n",
    "    - [Pythonで10問解いてみた記事](https://qiita.com/KoyanagiHitoshi/items/c5e82841b8d0f750851d)もあるので参考にしてください。\n",
    "    - 他にも[ここのページ](https://qiita.com/drken/items/fd4e5e3630d0f5859067)を一通り眺めてみてください。"
   ]
  },
  {
   "cell_type": "markdown",
   "metadata": {
    "colab_type": "text",
    "id": "146tUHWRaIcd"
   },
   "source": [
    "## [ABC088B - Card Game for Two](https://atcoder.jp/contests/abs/tasks/abc088_b)\n",
    "\n",
    "> $N$枚のカードがあります. $i$ 枚目のカードには, $a_i$ という数が書かれています.\n",
    "Alice と Bob は, これらのカードを使ってゲームを行います. ゲームでは, Alice と Bob が交互に 1 枚ずつカードを取っていきます. Alice が先にカードを取ります.\n",
    "2 人がすべてのカードを取ったときゲームは終了し, 取ったカードの数の合計がその人の得点になります. 2 人とも自分の得点を最大化するように最適な戦略を取った時, Alice は Bob より何点多く取るか求めてください."
   ]
  },
  {
   "cell_type": "markdown",
   "metadata": {
    "colab_type": "text",
    "id": "7e0VqYnv7uHV"
   },
   "source": [
    "#### 例\n",
    "```\n",
    "2\n",
    "3 1\n",
    "```\n",
    "\n",
    "> 最初, Alice は 3 が書かれたカードを取ります. 次に, Bob は 1 が書かれたカードを取ります. 得点差は 3 - 1 = 2 となります."
   ]
  },
  {
   "cell_type": "markdown",
   "metadata": {
    "colab_type": "text",
    "id": "GHGxmhM48fvm"
   },
   "source": [
    "#### 説明\n",
    "- 逆順（大きい順、`sorted(lst, reverse=True`）に並べる\n",
    "- 最初からお互いに取っていく\n",
    "- これで最適戦略になる\n",
    "- 相互の得点をどう計算するかも重要"
   ]
  },
  {
   "cell_type": "code",
   "execution_count": null,
   "metadata": {
    "colab": {
     "base_uri": "https://localhost:8080/",
     "height": 126
    },
    "colab_type": "code",
    "executionInfo": {
     "elapsed": 835,
     "status": "ok",
     "timestamp": 1595461964444,
     "user": {
      "displayName": "Yoshitsugu Sekine",
      "photoUrl": "https://lh3.googleusercontent.com/a-/AOh14GimsNckrAflr-jMDGQwV_kIJ56EjAWYV8INkpUv=s64",
      "userId": "13524401322013959426"
     },
     "user_tz": -540
    },
    "id": "fEFOg8fP7PAL",
    "outputId": "e8e0ddf4-cb16-43e8-ffe7-1c362d4904f8"
   },
   "outputs": [
    {
     "name": "stdout",
     "output_type": "stream",
     "text": [
      "[3, 1]\n",
      "2\n",
      "[7, 4, 2]\n",
      "5\n",
      "[20, 18, 18, 2]\n",
      "18\n"
     ]
    }
   ],
   "source": [
    "#N = int(input())\n",
    "#a = sorted(map(int, input().split()))[::-1]\n",
    "def solve(lst):\n",
    "    a = sorted(lst, reverse=True)\n",
    "    print(a)\n",
    "    return sum(a[::2]) - sum(a[1::2])\n",
    "\n",
    "lst = [3, 1]\n",
    "print(solve(lst)) # 2\n",
    "\n",
    "lst = [2, 7, 4]\n",
    "print(solve(lst)) # 5\n",
    "\n",
    "lst = [20, 18, 2, 18] # 18\n",
    "print(solve(lst))"
   ]
  },
  {
   "cell_type": "markdown",
   "metadata": {
    "colab_type": "text",
    "id": "6rH3fDroyryd"
   },
   "source": [
    "## [ABC085B - Kagami Mochi](https://atcoder.jp/contests/abs/tasks/abc085_b)\n",
    "\n",
    "- いわゆるハノイの塔：ただし同じ半径の円盤が複数枚ある\n",
    "\n",
    "> $X$ 段重ねの鏡餅 ($X \\geq 1$) とは、$X$ 枚の円形の餅を縦に積み重ねたものであって、どの餅もその真下の餅より直径が小さい（一番下の餅を除く）もののことです。例えば、直径 10、8、6 センチメートルの餅をこの順に下から積み重ねると 3 段重ねの鏡餅になり、餅を一枚だけ置くと 1 段重ねの鏡餅になります。\n",
    "ダックスフンドのルンルンは $N$ 枚の円形の餅を持っていて、そのうち $i$ 枚目の餅の直径は $d_i$ センチメートルです。これらの餅のうち一部または全部を使って鏡餅を作るとき、最大で何段重ねの鏡餅を作ることができるでしょうか。\n"
   ]
  },
  {
   "cell_type": "markdown",
   "metadata": {
    "colab_type": "text",
    "id": "VKY_MpNJ9sAs"
   },
   "source": [
    "#### 解法\n",
    "- 重複をなくせば勝手に順序がつく\n",
    "- 餅の積み方や積む順序を聞かれているわけではない\n",
    "- 最大数しか聞かれていない\n",
    "- 余計な計算をしないことも重要：高速化"
   ]
  },
  {
   "cell_type": "markdown",
   "metadata": {
    "colab_type": "text",
    "id": "hcRBvd82-Isv"
   },
   "source": [
    "#### 仮定\n",
    "- めんどいので実際の入力例とは違う入力を想定する。\n",
    "- 縦に並んだ数を最初からリストにする\n",
    "- 実際には次のように入力を取る必要がある\n",
    "\n",
    "```python\n",
    "N = int(input())\n",
    "d = [input() for i in range(N)]\n",
    "```\n",
    "\n",
    "- これを次のように入力を取る\n",
    "\n",
    "```python\n",
    "d = [1,2,3]\n",
    "```"
   ]
  },
  {
   "cell_type": "code",
   "execution_count": null,
   "metadata": {
    "colab": {
     "base_uri": "https://localhost:8080/",
     "height": 72
    },
    "colab_type": "code",
    "executionInfo": {
     "elapsed": 930,
     "status": "ok",
     "timestamp": 1595462617214,
     "user": {
      "displayName": "Yoshitsugu Sekine",
      "photoUrl": "https://lh3.googleusercontent.com/a-/AOh14GimsNckrAflr-jMDGQwV_kIJ56EjAWYV8INkpUv=s64",
      "userId": "13524401322013959426"
     },
     "user_tz": -540
    },
    "id": "bde4PgEk-AL_",
    "outputId": "6f21d6ff-891a-4eea-db1e-03f92210386b"
   },
   "outputs": [
    {
     "name": "stdout",
     "output_type": "stream",
     "text": [
      "3\n",
      "1\n",
      "4\n"
     ]
    }
   ],
   "source": [
    "def solve(lst):\n",
    "    return len(set(lst)) # set で重複をつぶす\n",
    "\n",
    "lst = [10, 8, 8, 6]\n",
    "print(solve(lst)) # 3\n",
    "\n",
    "lst = [15, 15, 15]\n",
    "print(solve(lst)) # 1\n",
    "\n",
    "lst = [50, 30, 50, 100, 50, 80, 30]\n",
    "print(solve(lst)) # 4"
   ]
  },
  {
   "cell_type": "markdown",
   "metadata": {
    "colab_type": "text",
    "id": "6UWPG8WXXofB"
   },
   "source": [
    "# IT 基礎知識\n",
    "- SSD の話：記憶の仕方、書き込み耐性\n",
    "- HDD の最小単位"
   ]
  },
  {
   "cell_type": "markdown",
   "metadata": {
    "colab_type": "text",
    "id": "VG4GtDw1CDOs"
   },
   "source": [
    "## SSD の話"
   ]
  },
  {
   "cell_type": "markdown",
   "metadata": {
    "colab_type": "text",
    "id": "zGcJzrPaCFR7"
   },
   "source": [
    "### [参考記事：SSDの寿命はどれくらい？SSDの寿命に関する情報（SSDの特徴・データ記憶媒体比較・故障予兆・故障症状・寿命延ばす対策）](https://www.a-d.co.jp/datarecovery/column/ssd01.html)\n",
    "- HDDと比べてSSDは読み書き速度が速い\n",
    "- 使用環境によっては寿命が短くなってしまう"
   ]
  },
  {
   "cell_type": "markdown",
   "metadata": {
    "colab_type": "text",
    "id": "7A_cim5SCa3I"
   },
   "source": [
    "#### 寿命\n",
    "- SSDの寿命を決める要素は3つ\n",
    "    - 書き込み回数、空き容量、そして使用時間\n",
    "- SSD：基本的には半導体\n",
    "    - NAND型フラッシュメモリ\n",
    "        - メモリーカードやスマートフォンの記憶媒体と同じタイプのメモリ\n",
    "    - 参考：HDD は磁気ディスク\n",
    "- データの上書きができない\n",
    "    - 「データの空き容量に新しいデータを書き込み、前のデータを消去する」\n",
    "    - これがSSDの寿命に大きく影響\n",
    "- SSDは書き込み回数が増えると、次第に劣化\n",
    "    - ゴリゴリの物理の話なので省略：結論だけ受け入れる\n",
    "- 書き込み可能回数はデータの保持形式にも依存\n",
    "    - TLC：低価格大容量SSDの場合\n",
    "        - 1セルあたりの書き込み可能回数は1千回\n",
    "        - TLC：Triple、1つのセルに電子3つ\n",
    "            - 単電子制御というのは尋常ではない\n",
    "    - 参考：SLC（シングルレベルセル、Single Level Cell）\n",
    "        - 最も耐久性が高い\n",
    "        - 1セルに電子が1つ：セルの中の電子の有無で01が記録\n",
    "        - 1セルに1ビットしか記録できない：データ容量は少ない→高価\n",
    "            - 10万回程度の書き込みに耐え、信頼性と速度は高くなる\n",
    "- 長い間使っていても SSD は劣化"
   ]
  },
  {
   "cell_type": "markdown",
   "metadata": {
    "colab_type": "text",
    "id": "N5a4MwhcDWjV"
   },
   "source": [
    "#### SSD・HDD・eMMC\n",
    "- SSD（ソリッドステートドライブ）\n",
    "    - NAND型メモリにデータを記録\n",
    "    - 高速で読み書きできる、広く使われているフラッシュメモリ\n",
    "    - 近年大容量化と低価格化\n",
    "- HDD（ハードディスクドライブ）\n",
    "    - プラッタと呼ばれる円盤型の磁気記憶媒体に磁気ヘッドでデータを書き込み・読み出し\n",
    "    - 構造上SSDに比べるとデータの読み書き速度が低速\n",
    "    - 物理的に複雑な構造\n",
    "        - SSDやeMMCにて比べて大型で重く、電源消費量が多い\n",
    "        - 衝撃に弱い：物理的に針を使っているため\n",
    "    - 大容量のデータを保持するのが得意で安価\n",
    "        - 速度にあまり影響されない画像や動画のバックアップ用\n",
    "- eMMC（embedded Multi Media Card）\n",
    "    - SSDと同様：フラッシュメモリを使用した記憶ストレージ\n",
    "    - SSDと比較すると読み書きの速度は劣る\n",
    "    - 消費電力は3つの記憶媒体の中で一番低い\n",
    "    - SSDよりもさらに小型\n",
    "    - スマートフォンやタブレットなどモバイル端末用\n",
    "    - UMPC などにも詰まれている"
   ]
  },
  {
   "cell_type": "markdown",
   "metadata": {
    "colab_type": "text",
    "id": "ExQFXUOCDmKV"
   },
   "source": [
    "#### SSDの寿命が近いときの症状とその対策\n",
    "- SSDの寿命が近づいてくるといくつかの予兆がパソコンに現れる\n",
    "    - 処理速度が低下する\n",
    "    - 作業時にフリーズする\n",
    "    - SSDドライブが認識されない\n",
    "    - エラーメッセージが表示される\n",
    "    - ブルースクリーン画面（※）が表示される\n",
    "- 個人メモ：デスクトップでよくブルースクリーンが出るようになった。画面にはメモリエラーと出ていたが、SSD がまずいかもしれない。"
   ]
  },
  {
   "cell_type": "markdown",
   "metadata": {
    "colab_type": "text",
    "id": "f2cMwJW1n65I"
   },
   "source": [
    "## HDD の書き込み最小単位\n",
    "- もともとの問題意識：なぜ最小単位があるのか？"
   ]
  },
  {
   "cell_type": "markdown",
   "metadata": {
    "colab_type": "text",
    "id": "zTrgELUcoSbM"
   },
   "source": [
    "### セクタの話\n",
    "- [参考記事](http://qa.elecom.co.jp/faq_detail.html?id=5439)\n",
    "- セクタとは、ディスクに記録する最小記録単位の事です。\n",
    "- 512 セクタと 4K セクタ\n",
    "- 4K セクタのメリット：OSで扱える容量が格段に増える\n",
    "    - 今までの【WindowsXP】では、512セクタのハードディスクの場合、2TBまでしか認識できない\n",
    "    - 4Kセクタ対応ハードディスクを使うと大容量ハードディスクを認識できる\n",
    "- 2TBバイトまでの認識問題\n",
    "    - [参考](https://www.dospara.co.jp/5info/cts_review-3tbhdd)\n",
    "    - 2TBの壁：OSやマザーボードの仕様で壁を超える容量の製品を使えない\n",
    "        - 使えても壁を超える部分は認識しない\n",
    "    - 詳細\n",
    "        - MBRが管理できるセクタ数が4,294,967,296(約43億)\n",
    "            - [MBR](http://e-words.jp/w/MBR.html)：Master Boot Record\n",
    "            - ハードディスクなどのストレージ（外部記憶装置）の最も先頭にある、起動に必要なプログラムや情報を記録した小さな領域。コンピュータの起動時に最初に読み込まれる。\n",
    "        - １セクタが512バイト\n",
    "        管理可能な容量は4,294,967,296　×　512　＝　2,199,023,255,552（約2兆2000億）バイト\n",
    "            - これが2TB"
   ]
  },
  {
   "cell_type": "markdown",
   "metadata": {
    "colab_type": "text",
    "id": "MNW6NZ7Mpbqw"
   },
   "source": [
    "### [セクターとクラスター](https://www.efnavi.com/safe-mode/2012/06/post-4.html)\n",
    "- クラスタとは\n",
    "    - HDDなどのドライブにデータを記録して管理する際に使う最小の単位\n",
    "- 「クラスタ」より小さい「セクタ」という単位がある\n",
    "    - クラスタは複数のセクタで作られる\n",
    "- HDD上ではセクター単位ではなくクラスター単位でデータを管理\n",
    "- なぜセクタではなくクラスタ単位でデータを管理するのか？\n",
    "    - HDDの容量が以前に比べて大きくなったため\n",
    "    - セクタのような小さな単位で読み書きをすると、時間がかかる\n",
    "    - 効率悪化\n",
    "    - 「1 ファイル」自体の容量も大きくなっている\n",
    "    - クラスタで処理しても問題は小さいはず\n",
    "- クラスタのサイズは HDD 容量によって変わる\n",
    "    - 同容量の HDD を使ってもクラスタのサイズが小さい方がデータを効率的に管理できる\n",
    "    - HDD 内のデータの管理を行うファイルシステムがFATやNTFS\n",
    "    - 大昔「ファイルをフォーマットします。Macなどでは使えなくなります」とか出てきた理由がこれ：ファイルシステムが違う形でフォーマットするから\n",
    "    - [参考：実は危険？？「exFATフォーマット」との付き合い方](https://www.note.lespace.co.jp/n/n50b26ef76f88)"
   ]
  }
 ],
 "metadata": {
  "colab": {
   "collapsed_sections": [],
   "name": "2020-07-19_hw.ipynb",
   "provenance": [
    {
     "file_id": "1HVAg1OW69H52dIVaaHN0qDPWbwoF6VCp",
     "timestamp": 1595199376559
    },
    {
     "file_id": "1I9bGhteFcsuk37_86sUkatSTzDMD55bl",
     "timestamp": 1593327407554
    },
    {
     "file_id": "1mWsGop81VnfsQG7y3FI5a67P_VlPaOYJ",
     "timestamp": 1592657632462
    }
   ],
   "toc_visible": true
  },
  "kernelspec": {
   "display_name": "Python 3",
   "language": "python",
   "name": "python3"
  },
  "language_info": {
   "codemirror_mode": {
    "name": "ipython",
    "version": 3
   },
   "file_extension": ".py",
   "mimetype": "text/x-python",
   "name": "python",
   "nbconvert_exporter": "python",
   "pygments_lexer": "ipython3",
   "version": "3.8.3"
  }
 },
 "nbformat": 4,
 "nbformat_minor": 1
}
