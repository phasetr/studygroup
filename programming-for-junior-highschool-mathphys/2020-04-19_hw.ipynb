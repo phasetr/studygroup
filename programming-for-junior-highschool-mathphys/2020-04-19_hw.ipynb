{
 "cells": [
  {
   "cell_type": "markdown",
   "metadata": {
    "colab_type": "text",
    "id": "UeHS9k8PQlJt"
   },
   "source": [
    "# 2020-04-19 課題\n",
    "- [コンテンツの案内ページ](https://phasetr.com/mthlp1/)\n",
    "- [GitHub へのリンク](https://github.com/phasetr/studygroup/programming-for-junior-highschool-mathphys)\n",
    "- `00-introduction_02_jupyter.ipynb` を一通り読んで Jupyter notebook（大雑把には Google Colab も同じ）の概要を把握してください。特に次の点に注意して読んでください。\n",
    "    - コードセルとテキストセルがあること\n",
    "        - 文章を書く（まさに「このセル」）はテキストセル\n",
    "        - プログラムを書くのはコードセル\n",
    "        - コードセルには「実行」という概念・操作がある\n",
    "    - Colab の操作についての参考ページメモ\n",
    "        - <https://www.atmarkit.co.jp/ait/articles/1812/11/news146.htm(https://www.atmarkit.co.jp/ait/articles/1812/11/news146.html>\n",
    "        - <https://www.codexa.net/how-to-use-google-colaboratory/>\n",
    "- テキストセルを作ってください。\n",
    "    - テキストセルに何か文章を書いてみてください。文章は「あ」だけでも構いません。\n",
    "    - TeX 形式で次のような式を打ってみてください。「このセル」をダブルクリックで開くとどうすれば式が打てるかわかるので、そのコピペで構いません。他にも資料を漁ってどんな風に書くとどう表示されるか眺めてみるといいでしょう。\n",
    "\n",
    "$$\\int_0^1 f(x) \\, dx$$\n",
    "\n",
    "- コードセルを作ってください。\n",
    "    - `01-basic_01_fundamental.ipynb` を参考に `print(\"Hello, World!\")` を実行してみてください。「実行結果出力欄」に「Hello, World!」と出れば成功です。\n",
    "- もう 1 つコードセルを作ってください。\n",
    "    - `01-basic_03_matplotlib.ipynb` を参考に、グラフを 1 つ書いてみてください。コピペでグラフが出てくることを確認するだけで十分です。\n",
    "    - お好みでの追加タスク：いろいろ推測しながらプログラムを少しいじってみて、直線以外のグラフを描いたり、グラフを描く範囲を変えてみてください。"
   ]
  },
  {
   "cell_type": "markdown",
   "metadata": {
    "colab_type": "text",
    "id": "zgBKmnazUY75"
   },
   "source": [
    "# プログラムを勉強するときの注意\n",
    "- プログラミング「言語」と言われるように、いわゆる語学を勉強するときのコツがある程度流用できます。\n",
    "- 「英作文は英借文」というように、既に動いている（通じる）「例文」をコピペしてみましょう。そこからパーツを少し変えてみてどうなるか試します。\n",
    "- プログラミング言語は機械が意味を判定するので、文法に厳格に沿っていないと「きちんと文法通りに話せ」と怒られます。\n",
    "    - ある程度まで来たらこの文法もきちんと勉強する必要があります。\n",
    "    - よほどの趣味を持っていない限り、文法の勉強は初学の段階であまり面白いものでもないので、まずは `01-basic_01_fundamental.ipynb` に書いてあることを雑に眺めて気分を掴んでください。\n",
    "    - [公式のチュートリアル](https://wiki.python.org/moin/BeginnersGuide)も参考になります。\n",
    "        - Web 上の資源の問題として、リンクがたくさん張られている関係でいろいろな所に飛ばされる（飛びたくなる）ことがあります。本だと自分でページを飛ばさない限り一直線の道を歩むしかないので、Web 上の資源で勉強すると気が散るなら本を買ってざっと眺めるのも一手です。\n",
    "- 一般の語学でも実際に読み書きしないと身につかないように、プログラムも実際に読み書きしないと身につきません。Jupyter notebook 配布のいいところはすぐにコード実行できるところにあります。パチパチ実行してみてください。"
   ]
  },
  {
   "cell_type": "markdown",
   "metadata": {
    "colab_type": "text",
    "id": "7uZ47VRwF0iX"
   },
   "source": [
    "# 解答例"
   ]
  },
  {
   "cell_type": "markdown",
   "metadata": {
    "colab_type": "text",
    "id": "vG1TdTt0GGzs"
   },
   "source": [
    "## 参考：TeX\n",
    "- `$f(x)$` のように 1 つのドルマークで囲むと地の文に普通に埋め込まれる式として $\\int f(x) dx$ が書けます。\n",
    "- `$$\\int f(x) dx, \\left{a\\in A \\mid a>0, b>0 \\text{かつ} c>0\\right}$$` と 2 つのドルマークで囲むと別行立ての式 $$\\int f(x) dx$$ が書けます。\n",
    "- `\\begin{align} \\int f(x) dx \\end{align}` などと書くと、数式環境下での式が書けます。\n",
    "  \\begin{align} \\int f(x) dx \\end{align}\n",
    "  - 複数行ある複雑な式を書くときは数式環境下で式を書きます：[参考リンク](https://qiita.com/t_kemmochi/items/a4c390b4967b13f3afb7)。\n",
    "- 数式環境と `$$\\int f(x)dx$$` 型との違い・使い分けについては次のように考えましょう.\n",
    "  - `$$\\int f(x) dx$$` はあくまで地の文に埋め込みたいが縦・横に長い式なので別行立ての方が見やすい場合に使う\n",
    "  - `\\begin{align} \\int f(x) dx \\end{align}` は複数行にわたるハードな式展開・計算を書くときに使う."
   ]
  },
  {
   "cell_type": "markdown",
   "metadata": {
    "colab_type": "text",
    "id": "hIe5d-6ltupZ"
   },
   "source": [
    "$\\epsilon$\n",
    "$\\varepsilon$\n",
    "\n",
    "$$A = (a_{ij}) = \\begin{pmatrix}  a_{11} & a_{12} & \\cdots & a_{1n} \\\\  a_{21} & a_{22} & \\cdots & a_{2n} \\\\  \\vdots & \\vdots & \\ddots & \\vdots \\\\  a_{m1} & a_{m2} & \\cdots & a_{mn} \\end{pmatrix}.$$"
   ]
  },
  {
   "cell_type": "markdown",
   "metadata": {
    "colab_type": "text",
    "id": "y9WO-DfSF8oV"
   },
   "source": [
    "## 参考：Markdown\n",
    "- テキストセルは TeX の他, markdown という形式で書けます.\n",
    "  - [参考リンク](https://www.markdown.jp/what-is-markdown/)\n",
    "  - [参考リンク](https://qiita.com/tbpgr/items/989c6badefff69377da7)\n",
    "  - [参考リンク](https://qiita.com/kamorits/items/6f342da395ad57468ae3)\n",
    "- 段落分けや文字の強調などはこの形式に沿っています.\n",
    "- 主に技術系の文書を書くために使われる書式なので, 過度な装飾はできません (そもそもそういう機能がない)."
   ]
  },
  {
   "cell_type": "markdown",
   "metadata": {
    "colab_type": "text",
    "id": "9X9JRfbgKJWF"
   },
   "source": [
    "## コード例\n",
    "- sympy のサンプルを紹介します。\n",
    "- Google Colab 上ではオリジナルの Jupyter より面倒で、追加処理が必要です。\n",
    "    - オリジナルの Jupyter では動くのに Google Colab 上では動かない (らしい) プログラムもあります\n",
    "    - 例：4 次方程式の解の公式の表示.\n",
    "- 実際に一通り眺めて sympy をできる限り Google Colab 上でも動くようにするのはこの勉強会の目的の 1 つです."
   ]
  },
  {
   "cell_type": "code",
   "execution_count": null,
   "metadata": {
    "colab": {
     "base_uri": "https://localhost:8080/",
     "height": 202
    },
    "colab_type": "code",
    "executionInfo": {
     "elapsed": 16895,
     "status": "ok",
     "timestamp": 1587873674985,
     "user": {
      "displayName": "Yoshitsugu Sekine",
      "photoUrl": "https://lh3.googleusercontent.com/a-/AOh14GimsNckrAflr-jMDGQwV_kIJ56EjAWYV8INkpUv=s64",
      "userId": "13524401322013959426"
     },
     "user_tz": -540
    },
    "id": "qlDttIRaLBIp",
    "outputId": "e94752a4-d3c9-4388-c10d-49f26272780f"
   },
   "outputs": [
    {
     "name": "stdout",
     "output_type": "stream",
     "text": [
      "Collecting sympy\n",
      "\u001b[?25l  Downloading https://files.pythonhosted.org/packages/ce/5b/acc12e3c0d0be685601fc2b2d20ed18dc0bf461380e763afc9d0a548deb0/sympy-1.5.1-py2.py3-none-any.whl (5.6MB)\n",
      "\u001b[K     |████████████████████████████████| 5.6MB 8.4MB/s \n",
      "\u001b[?25hRequirement already satisfied, skipping upgrade: mpmath>=0.19 in /usr/local/lib/python3.6/dist-packages (from sympy) (1.1.0)\n",
      "Installing collected packages: sympy\n",
      "  Found existing installation: sympy 1.1.1\n",
      "    Uninstalling sympy-1.1.1:\n",
      "      Successfully uninstalled sympy-1.1.1\n",
      "Successfully installed sympy-1.5.1\n"
     ]
    },
    {
     "data": {
      "application/javascript": [
       "window.MathJax = {\n",
       "        tex2jax: {\n",
       "            inlineMath: [ ['$','$'] ],\n",
       "            processEscapes: true\n",
       "        }\n",
       "        };\n",
       "//# sourceURL=js_498bee0571"
      ],
      "text/plain": [
       "<IPython.core.display.Javascript object>"
      ]
     },
     "metadata": {
      "tags": []
     },
     "output_type": "display_data"
    },
    {
     "data": {
      "text/html": [
       "<script src='https://cdnjs.cloudflare.com/ajax/libs/mathjax/2.7.7/MathJax.js?config=TeX-AMS_CHTML'></script>"
      ],
      "text/plain": [
       "<IPython.core.display.HTML object>"
      ]
     },
     "metadata": {
      "tags": []
     },
     "output_type": "display_data"
    },
    {
     "data": {
      "text/latex": [
       "$\\displaystyle x^{2} - 12 x + 8$"
      ],
      "text/plain": [
       " 2           \n",
       "x  - 12⋅x + 8"
      ]
     },
     "metadata": {
      "tags": []
     },
     "output_type": "display_data"
    }
   ],
   "source": [
    "!pip install --upgrade sympy\n",
    "\n",
    "import sympy as sp\n",
    "from sympy.plotting import plot\n",
    "from IPython.display import display\n",
    "\n",
    "def custom_latex_printer(expr, **options):\n",
    "    from IPython.display import Math, HTML\n",
    "    from google.colab.output._publish import javascript\n",
    "    url = \"https://cdnjs.cloudflare.com/ajax/libs/mathjax/2.7.7/MathJax.js?config=TeX-AMS_CHTML\"\n",
    "    javascript(content=\"\"\"window.MathJax = {\n",
    "        tex2jax: {\n",
    "            inlineMath: [ ['$','$'] ],\n",
    "            processEscapes: true\n",
    "        }\n",
    "        };\"\"\")\n",
    "    javascript(url=url)\n",
    "    return sp.latex(expr, **options)\n",
    "\n",
    "sp.init_printing(use_latex=\"mathjax\", latex_printer=custom_latex_printer)\n",
    "\n",
    "x = sp.Symbol('x')\n",
    "expr = x**2-12*x+8\n",
    "display(expr)"
   ]
  },
  {
   "cell_type": "code",
   "execution_count": null,
   "metadata": {
    "colab": {
     "base_uri": "https://localhost:8080/",
     "height": 53
    },
    "colab_type": "code",
    "executionInfo": {
     "elapsed": 1174,
     "status": "ok",
     "timestamp": 1587873678683,
     "user": {
      "displayName": "Yoshitsugu Sekine",
      "photoUrl": "https://lh3.googleusercontent.com/a-/AOh14GimsNckrAflr-jMDGQwV_kIJ56EjAWYV8INkpUv=s64",
      "userId": "13524401322013959426"
     },
     "user_tz": -540
    },
    "id": "t5mcDrxOLwd9",
    "outputId": "0a3b2dc2-6c3e-4df1-f8d0-0bf9653a81df"
   },
   "outputs": [
    {
     "data": {
      "application/javascript": [
       "window.MathJax = {\n",
       "        tex2jax: {\n",
       "            inlineMath: [ ['$','$'] ],\n",
       "            processEscapes: true\n",
       "        }\n",
       "        };\n",
       "//# sourceURL=js_498bee0571"
      ],
      "text/plain": [
       "<IPython.core.display.Javascript object>"
      ]
     },
     "metadata": {
      "tags": []
     },
     "output_type": "display_data"
    },
    {
     "data": {
      "text/html": [
       "<script src='https://cdnjs.cloudflare.com/ajax/libs/mathjax/2.7.7/MathJax.js?config=TeX-AMS_CHTML'></script>"
      ],
      "text/plain": [
       "<IPython.core.display.HTML object>"
      ]
     },
     "metadata": {
      "tags": []
     },
     "output_type": "display_data"
    },
    {
     "data": {
      "text/latex": [
       "$\\displaystyle 2 x + 3 y - 6$"
      ],
      "text/plain": [
       "2⋅x + 3⋅y - 6"
      ]
     },
     "metadata": {
      "tags": []
     },
     "output_type": "display_data"
    },
    {
     "data": {
      "application/javascript": [
       "window.MathJax = {\n",
       "        tex2jax: {\n",
       "            inlineMath: [ ['$','$'] ],\n",
       "            processEscapes: true\n",
       "        }\n",
       "        };\n",
       "//# sourceURL=js_498bee0571"
      ],
      "text/plain": [
       "<IPython.core.display.Javascript object>"
      ]
     },
     "metadata": {
      "tags": []
     },
     "output_type": "display_data"
    },
    {
     "data": {
      "text/html": [
       "<script src='https://cdnjs.cloudflare.com/ajax/libs/mathjax/2.7.7/MathJax.js?config=TeX-AMS_CHTML'></script>"
      ],
      "text/plain": [
       "<IPython.core.display.HTML object>"
      ]
     },
     "metadata": {
      "tags": []
     },
     "output_type": "display_data"
    },
    {
     "data": {
      "text/latex": [
       "$\\displaystyle 3 x + 2 y - 12$"
      ],
      "text/plain": [
       "3⋅x + 2⋅y - 12"
      ]
     },
     "metadata": {
      "tags": []
     },
     "output_type": "display_data"
    }
   ],
   "source": [
    "x = sp.Symbol('x')\n",
    "y = sp.Symbol('y')\n",
    "expr1 = 2*x + 3*y - 6\n",
    "expr2 = 3*x + 2*y - 12\n",
    "display(expr1)\n",
    "display(expr2)\n",
    "# display(sp.solve((expr1, expr2))) # Math Processing error になる"
   ]
  },
  {
   "cell_type": "code",
   "execution_count": null,
   "metadata": {
    "colab": {
     "base_uri": "https://localhost:8080/",
     "height": 61
    },
    "colab_type": "code",
    "executionInfo": {
     "elapsed": 1065,
     "status": "ok",
     "timestamp": 1587873714850,
     "user": {
      "displayName": "Yoshitsugu Sekine",
      "photoUrl": "https://lh3.googleusercontent.com/a-/AOh14GimsNckrAflr-jMDGQwV_kIJ56EjAWYV8INkpUv=s64",
      "userId": "13524401322013959426"
     },
     "user_tz": -540
    },
    "id": "ZrDnnbFJMoqL",
    "outputId": "7c633bbf-28de-48d4-b42f-aabea5de35d2"
   },
   "outputs": [
    {
     "data": {
      "application/javascript": [
       "window.MathJax = {\n",
       "        tex2jax: {\n",
       "            inlineMath: [ ['$','$'] ],\n",
       "            processEscapes: true\n",
       "        }\n",
       "        };\n",
       "//# sourceURL=js_498bee0571"
      ],
      "text/plain": [
       "<IPython.core.display.Javascript object>"
      ]
     },
     "metadata": {
      "tags": []
     },
     "output_type": "display_data"
    },
    {
     "data": {
      "text/html": [
       "<script src='https://cdnjs.cloudflare.com/ajax/libs/mathjax/2.7.7/MathJax.js?config=TeX-AMS_CHTML'></script>"
      ],
      "text/plain": [
       "<IPython.core.display.HTML object>"
      ]
     },
     "metadata": {
      "tags": []
     },
     "output_type": "display_data"
    },
    {
     "data": {
      "text/latex": [
       "$\\displaystyle \\left\\{ x : \\frac{24}{5}, \\  y : - \\frac{6}{5}\\right\\}$"
      ],
      "text/plain": [
       "{x: 24/5, y: -6/5}"
      ]
     },
     "metadata": {
      "tags": []
     },
     "output_type": "display_data"
    }
   ],
   "source": [
    "display(sp.solve((expr1, expr2)))"
   ]
  },
  {
   "cell_type": "markdown",
   "metadata": {
    "colab_type": "text",
    "id": "Li3TgUyBz3aE"
   },
   "source": [
    "*  上の方程式は厳密解として $x=4.8,y=-1.2$ を持つ。\n",
    "*  これの近似解として例えば $x=4.78888888,y=-1.1999999$"
   ]
  },
  {
   "cell_type": "code",
   "execution_count": null,
   "metadata": {
    "colab": {
     "base_uri": "https://localhost:8080/",
     "height": 406
    },
    "colab_type": "code",
    "executionInfo": {
     "elapsed": 1199,
     "status": "ok",
     "timestamp": 1587873717819,
     "user": {
      "displayName": "Yoshitsugu Sekine",
      "photoUrl": "https://lh3.googleusercontent.com/a-/AOh14GimsNckrAflr-jMDGQwV_kIJ56EjAWYV8INkpUv=s64",
      "userId": "13524401322013959426"
     },
     "user_tz": -540
    },
    "id": "6KHpZW73Mxn_",
    "outputId": "e28c41aa-c146-4d7e-fb3e-7984b5e4c1c2"
   },
   "outputs": [
    {
     "name": "stderr",
     "output_type": "stream",
     "text": [
      "/usr/local/lib/python3.6/dist-packages/sympy/plotting/plot.py:1065: MatplotlibDeprecationWarning: \n",
      "The set_smart_bounds function was deprecated in Matplotlib 3.2 and will be removed two minor releases later.\n",
      "  self.ax[i].spines['left'].set_smart_bounds(True)\n",
      "/usr/local/lib/python3.6/dist-packages/sympy/plotting/plot.py:1066: MatplotlibDeprecationWarning: \n",
      "The set_smart_bounds function was deprecated in Matplotlib 3.2 and will be removed two minor releases later.\n",
      "  self.ax[i].spines['bottom'].set_smart_bounds(False)\n"
     ]
    },
    {
     "data": {
      "image/png": "[encoded data removed]",
      "text/plain": [
       "<Figure size 432x288 with 1 Axes>"
      ]
     },
     "metadata": {
      "needs_background": "light",
      "tags": []
     },
     "output_type": "display_data"
    }
   ],
   "source": [
    "p = plot(-(2/3)*x - 2, - (3/2)*x - 6, legend=True, show=False)\n",
    "p[0].line_color = 'b'\n",
    "p[1].line_color = 'r'\n",
    "p.show()"
   ]
  },
  {
   "cell_type": "code",
   "execution_count": null,
   "metadata": {
    "colab": {
     "base_uri": "https://localhost:8080/",
     "height": 515
    },
    "colab_type": "code",
    "executionInfo": {
     "elapsed": 1473,
     "status": "ok",
     "timestamp": 1587873845129,
     "user": {
      "displayName": "Yoshitsugu Sekine",
      "photoUrl": "https://lh3.googleusercontent.com/a-/AOh14GimsNckrAflr-jMDGQwV_kIJ56EjAWYV8INkpUv=s64",
      "userId": "13524401322013959426"
     },
     "user_tz": -540
    },
    "id": "hD0LR_Wnp1Pf",
    "outputId": "0a6fb09c-83dd-4058-de01-29b594d201de"
   },
   "outputs": [
    {
     "name": "stderr",
     "output_type": "stream",
     "text": [
      "/usr/local/lib/python3.6/dist-packages/sympy/plotting/plot.py:1065: MatplotlibDeprecationWarning: \n",
      "The set_smart_bounds function was deprecated in Matplotlib 3.2 and will be removed two minor releases later.\n",
      "  self.ax[i].spines['left'].set_smart_bounds(True)\n",
      "/usr/local/lib/python3.6/dist-packages/sympy/plotting/plot.py:1066: MatplotlibDeprecationWarning: \n",
      "The set_smart_bounds function was deprecated in Matplotlib 3.2 and will be removed two minor releases later.\n",
      "  self.ax[i].spines['bottom'].set_smart_bounds(False)\n",
      "/usr/local/lib/python3.6/dist-packages/sympy/plotting/plot.py:1096: MatplotlibDeprecationWarning: \n",
      "The set_smart_bounds function was deprecated in Matplotlib 3.2 and will be removed two minor releases later.\n",
      "  ax.spines['left'].set_smart_bounds(False)\n",
      "/usr/local/lib/python3.6/dist-packages/sympy/plotting/plot.py:1097: MatplotlibDeprecationWarning: \n",
      "The set_smart_bounds function was deprecated in Matplotlib 3.2 and will be removed two minor releases later.\n",
      "  ax.spines['bottom'].set_smart_bounds(False)\n"
     ]
    },
    {
     "data": {
      "image/png": "[encoded data removed]",
      "text/plain": [
       "<Figure size 432x288 with 1 Axes>"
      ]
     },
     "metadata": {
      "needs_background": "light",
      "tags": []
     },
     "output_type": "display_data"
    }
   ],
   "source": [
    "eq1 = x**2 + y**2 - 1\n",
    "eq2 = x - y\n",
    "\n",
    "plot1 = sp.plot_implicit(eq1, line_color=\"blue\", show=False)\n",
    "plot2 = sp.plot_implicit(eq2, line_color=\"green\", show=False)\n",
    "plot1.extend(plot2)\n",
    "plot1.show()"
   ]
  },
  {
   "cell_type": "code",
   "execution_count": null,
   "metadata": {
    "colab": {
     "base_uri": "https://localhost:8080/",
     "height": 207
    },
    "colab_type": "code",
    "executionInfo": {
     "elapsed": 1760,
     "status": "ok",
     "timestamp": 1587873911246,
     "user": {
      "displayName": "Yoshitsugu Sekine",
      "photoUrl": "https://lh3.googleusercontent.com/a-/AOh14GimsNckrAflr-jMDGQwV_kIJ56EjAWYV8INkpUv=s64",
      "userId": "13524401322013959426"
     },
     "user_tz": -540
    },
    "id": "uc8Ing1-qE8S",
    "outputId": "f000c4af-0480-4aa6-e6eb-1c8528848a6f"
   },
   "outputs": [
    {
     "data": {
      "image/png": "[encoded data removed]",
      "text/latex": [
       "$\\displaystyle \\left[ \\left\\{ x : - \\frac{- \\frac{3 c}{a} + \\frac{b^{2}}{a^{2}}}{3 \\sqrt[3]{\\frac{\\sqrt{- 4 \\left(- \\frac{3 c}{a} + \\frac{b^{2}}{a^{2}}\\right)^{3} + \\left(\\frac{27 d}{a} - \\frac{9 b c}{a^{2}} + \\frac{2 b^{3}}{a^{3}}\\right)^{2}}}{2} + \\frac{27 d}{2 a} - \\frac{9 b c}{2 a^{2}} + \\frac{b^{3}}{a^{3}}}} - \\frac{\\sqrt[3]{\\frac{\\sqrt{- 4 \\left(- \\frac{3 c}{a} + \\frac{b^{2}}{a^{2}}\\right)^{3} + \\left(\\frac{27 d}{a} - \\frac{9 b c}{a^{2}} + \\frac{2 b^{3}}{a^{3}}\\right)^{2}}}{2} + \\frac{27 d}{2 a} - \\frac{9 b c}{2 a^{2}} + \\frac{b^{3}}{a^{3}}}}{3} - \\frac{b}{3 a}\\right\\}, \\  \\left\\{ x : - \\frac{- \\frac{3 c}{a} + \\frac{b^{2}}{a^{2}}}{3 \\left(- \\frac{1}{2} - \\frac{\\sqrt{3} i}{2}\\right) \\sqrt[3]{\\frac{\\sqrt{- 4 \\left(- \\frac{3 c}{a} + \\frac{b^{2}}{a^{2}}\\right)^{3} + \\left(\\frac{27 d}{a} - \\frac{9 b c}{a^{2}} + \\frac{2 b^{3}}{a^{3}}\\right)^{2}}}{2} + \\frac{27 d}{2 a} - \\frac{9 b c}{2 a^{2}} + \\frac{b^{3}}{a^{3}}}} - \\frac{\\left(- \\frac{1}{2} - \\frac{\\sqrt{3} i}{2}\\right) \\sqrt[3]{\\frac{\\sqrt{- 4 \\left(- \\frac{3 c}{a} + \\frac{b^{2}}{a^{2}}\\right)^{3} + \\left(\\frac{27 d}{a} - \\frac{9 b c}{a^{2}} + \\frac{2 b^{3}}{a^{3}}\\right)^{2}}}{2} + \\frac{27 d}{2 a} - \\frac{9 b c}{2 a^{2}} + \\frac{b^{3}}{a^{3}}}}{3} - \\frac{b}{3 a}\\right\\}, \\  \\left\\{ x : - \\frac{- \\frac{3 c}{a} + \\frac{b^{2}}{a^{2}}}{3 \\left(- \\frac{1}{2} + \\frac{\\sqrt{3} i}{2}\\right) \\sqrt[3]{\\frac{\\sqrt{- 4 \\left(- \\frac{3 c}{a} + \\frac{b^{2}}{a^{2}}\\right)^{3} + \\left(\\frac{27 d}{a} - \\frac{9 b c}{a^{2}} + \\frac{2 b^{3}}{a^{3}}\\right)^{2}}}{2} + \\frac{27 d}{2 a} - \\frac{9 b c}{2 a^{2}} + \\frac{b^{3}}{a^{3}}}} - \\frac{\\left(- \\frac{1}{2} + \\frac{\\sqrt{3} i}{2}\\right) \\sqrt[3]{\\frac{\\sqrt{- 4 \\left(- \\frac{3 c}{a} + \\frac{b^{2}}{a^{2}}\\right)^{3} + \\left(\\frac{27 d}{a} - \\frac{9 b c}{a^{2}} + \\frac{2 b^{3}}{a^{3}}\\right)^{2}}}{2} + \\frac{27 d}{2 a} - \\frac{9 b c}{2 a^{2}} + \\frac{b^{3}}{a^{3}}}}{3} - \\frac{b}{3 a}\\right\\}\\right]$"
      ],
      "text/plain": [
       "⎡⎧                                                                            \n",
       "⎢⎪                                                                            \n",
       "⎢⎪                                                                            \n",
       "⎢⎪                                                                            \n",
       "⎢⎪                                                                            \n",
       "⎢⎪                                                                            \n",
       "⎢⎪                                                    2                       \n",
       "⎢⎪                                             3⋅c   b                        \n",
       "⎢⎪                                           - ─── + ──                       \n",
       "⎢⎪                                              a     2                       \n",
       "⎢⎪                                                   a                        \n",
       "⎢⎨x: - ───────────────────────────────────────────────────────────────────────\n",
       "⎢⎪                  __________________________________________________________\n",
       "⎢⎪                 ╱        ____________________________________________      \n",
       "⎢⎪                ╱        ╱                 3                        2       \n",
       "⎢⎪               ╱        ╱      ⎛         2⎞    ⎛                  3⎞        \n",
       "⎢⎪              ╱        ╱       ⎜  3⋅c   b ⎟    ⎜27⋅d   9⋅b⋅c   2⋅b ⎟        \n",
       "⎢⎪             ╱        ╱    - 4⋅⎜- ─── + ──⎟  + ⎜──── - ───── + ────⎟        \n",
       "⎢⎪            ╱        ╱         ⎜   a     2⎟    ⎜ a        2      3 ⎟        \n",
       "⎢⎪           ╱       ╲╱          ⎝        a ⎠    ⎝         a      a  ⎠     27⋅\n",
       "⎢⎪     3⋅   ╱        ─────────────────────────────────────────────────── + ───\n",
       "⎢⎪       3 ╱                                  2                            2⋅a\n",
       "⎣⎩       ╲╱                                                                   \n",
       "\n",
       "                             _________________________________________________\n",
       "                            ╱        _________________________________________\n",
       "                           ╱        ╱                 3                       \n",
       "                          ╱        ╱      ⎛         2⎞    ⎛                  3\n",
       "                         ╱        ╱       ⎜  3⋅c   b ⎟    ⎜27⋅d   9⋅b⋅c   2⋅b \n",
       "                        ╱        ╱    - 4⋅⎜- ─── + ──⎟  + ⎜──── - ───── + ────\n",
       "                       ╱        ╱         ⎜   a     2⎟    ⎜ a        2      3 \n",
       "                      ╱       ╲╱          ⎝        a ⎠    ⎝         a      a  \n",
       "                     ╱        ────────────────────────────────────────────────\n",
       "                  3 ╱                                  2                      \n",
       "                  ╲╱                                                          \n",
       "─────────────── - ────────────────────────────────────────────────────────────\n",
       "_______________                                            3                  \n",
       "                                                                              \n",
       "                                                                              \n",
       "                                                                              \n",
       "                                                                              \n",
       "                                                                              \n",
       "             3                                                                \n",
       "d   9⋅b⋅c   b                                                                 \n",
       "─ - ───── + ──                                                                \n",
       "        2    3                                                                \n",
       "     2⋅a    a                                                                 \n",
       "\n",
       "________________________      ⎫  ⎧                                            \n",
       "___                           ⎪  ⎪                                            \n",
       " 2                            ⎪  ⎪                                            \n",
       "⎞                             ⎪  ⎪                                            \n",
       "⎟                             ⎪  ⎪                                            \n",
       "⎟                             ⎪  ⎪                                            \n",
       "⎟                     3       ⎪  ⎪                                            \n",
       "⎠     27⋅d   9⋅b⋅c   b        ⎪  ⎪                                            \n",
       "─── + ──── - ───── + ──       ⎪  ⎪                                            \n",
       "      2⋅a        2    3       ⎪  ⎪                                            \n",
       "              2⋅a    a      b ⎪  ⎪                                            \n",
       "──────────────────────── - ───⎬, ⎨x: - ───────────────────────────────────────\n",
       "                           3⋅a⎪  ⎪                               _____________\n",
       "                              ⎪  ⎪                              ╱        _____\n",
       "                              ⎪  ⎪                             ╱        ╱     \n",
       "                              ⎪  ⎪                            ╱        ╱      \n",
       "                              ⎪  ⎪                           ╱        ╱       \n",
       "                              ⎪  ⎪                          ╱        ╱    - 4⋅\n",
       "                              ⎪  ⎪                         ╱        ╱         \n",
       "                              ⎪  ⎪       ⎛  1   √3⋅ⅈ⎞     ╱       ╲╱          \n",
       "                              ⎪  ⎪     3⋅⎜- ─ - ────⎟⋅   ╱        ────────────\n",
       "                              ⎪  ⎪       ⎝  2    2  ⎠ 3 ╱                     \n",
       "                              ⎭  ⎩                    ╲╱                      \n",
       "\n",
       "                                                                              \n",
       "                                                                              \n",
       "                                                                              \n",
       "                                                                              \n",
       "                                                                              \n",
       "                                                                              \n",
       "               2                                                              \n",
       "        3⋅c   b                                                ⎛  1   √3⋅ⅈ⎞   \n",
       "      - ─── + ──                                               ⎜- ─ - ────⎟⋅  \n",
       "         a     2                                               ⎝  2    2  ⎠ 3 \n",
       "              a                                                             ╲╱\n",
       "──────────────────────────────────────────────────────────── - ───────────────\n",
       "____________________________________________________________                  \n",
       "_______________________________________                                       \n",
       "            3                        2                                        \n",
       "⎛         2⎞    ⎛                  3⎞                                         \n",
       "⎜  3⋅c   b ⎟    ⎜27⋅d   9⋅b⋅c   2⋅b ⎟                                         \n",
       "⎜- ─── + ──⎟  + ⎜──── - ───── + ────⎟                                         \n",
       "⎜   a     2⎟    ⎜ a        2      3 ⎟                     3                   \n",
       "⎝        a ⎠    ⎝         a      a  ⎠     27⋅d   9⋅b⋅c   b                    \n",
       "─────────────────────────────────────── + ──── - ───── + ──                   \n",
       "             2                            2⋅a        2    3                   \n",
       "                                                  2⋅a    a                    \n",
       "\n",
       "         _____________________________________________________________________\n",
       "        ╱        ____________________________________________                 \n",
       "       ╱        ╱                 3                        2                  \n",
       "      ╱        ╱      ⎛         2⎞    ⎛                  3⎞                   \n",
       "     ╱        ╱       ⎜  3⋅c   b ⎟    ⎜27⋅d   9⋅b⋅c   2⋅b ⎟                   \n",
       "    ╱        ╱    - 4⋅⎜- ─── + ──⎟  + ⎜──── - ───── + ────⎟                   \n",
       "   ╱        ╱         ⎜   a     2⎟    ⎜ a        2      3 ⎟                   \n",
       "  ╱       ╲╱          ⎝        a ⎠    ⎝         a      a  ⎠     27⋅d   9⋅b⋅c  \n",
       " ╱        ─────────────────────────────────────────────────── + ──── - ───── +\n",
       "╱                                  2                            2⋅a        2  \n",
       "                                                                        2⋅a   \n",
       "──────────────────────────────────────────────────────────────────────────────\n",
       "                                 3                                            \n",
       "                                                                              \n",
       "                                                                              \n",
       "                                                                              \n",
       "                                                                              \n",
       "                                                                              \n",
       "                                                                              \n",
       "                                                                              \n",
       "                                                                              \n",
       "                                                                              \n",
       "                                                                              \n",
       "\n",
       "____      ⎫  ⎧                                                                \n",
       "          ⎪  ⎪                                                                \n",
       "          ⎪  ⎪                                                                \n",
       "          ⎪  ⎪                                                                \n",
       "          ⎪  ⎪                                                                \n",
       "          ⎪  ⎪                                                                \n",
       "  3       ⎪  ⎪                                                           2    \n",
       " b        ⎪  ⎪                                                    3⋅c   b     \n",
       " ──       ⎪  ⎪                                                  - ─── + ──    \n",
       "  3       ⎪  ⎪                                                     a     2    \n",
       " a      b ⎪  ⎪                                                          a     \n",
       "──── - ───⎬, ⎨x: - ───────────────────────────────────────────────────────────\n",
       "       3⋅a⎪  ⎪                               _________________________________\n",
       "          ⎪  ⎪                              ╱        _________________________\n",
       "          ⎪  ⎪                             ╱        ╱                 3       \n",
       "          ⎪  ⎪                            ╱        ╱      ⎛         2⎞    ⎛   \n",
       "          ⎪  ⎪                           ╱        ╱       ⎜  3⋅c   b ⎟    ⎜27⋅\n",
       "          ⎪  ⎪                          ╱        ╱    - 4⋅⎜- ─── + ──⎟  + ⎜───\n",
       "          ⎪  ⎪                         ╱        ╱         ⎜   a     2⎟    ⎜ a \n",
       "          ⎪  ⎪       ⎛  1   √3⋅ⅈ⎞     ╱       ╲╱          ⎝        a ⎠    ⎝   \n",
       "          ⎪  ⎪     3⋅⎜- ─ + ────⎟⋅   ╱        ────────────────────────────────\n",
       "          ⎪  ⎪       ⎝  2    2  ⎠ 3 ╱                                  2      \n",
       "          ⎭  ⎩                    ╲╱                                          \n",
       "\n",
       "                                                                   ___________\n",
       "                                                                  ╱        ___\n",
       "                                                                 ╱        ╱   \n",
       "                                                                ╱        ╱    \n",
       "                                                               ╱        ╱     \n",
       "                                                              ╱        ╱    - \n",
       "                                                             ╱        ╱       \n",
       "                                           ⎛  1   √3⋅ⅈ⎞     ╱       ╲╱        \n",
       "                                           ⎜- ─ + ────⎟⋅   ╱        ──────────\n",
       "                                           ⎝  2    2  ⎠ 3 ╱                   \n",
       "                                                        ╲╱                    \n",
       "──────────────────────────────────────── - ───────────────────────────────────\n",
       "________________________________________                                      \n",
       "___________________                                                           \n",
       "                 2                                                            \n",
       "               3⎞                                                             \n",
       "d   9⋅b⋅c   2⋅b ⎟                                                             \n",
       "─ - ───── + ────⎟                                                             \n",
       "       2      3 ⎟                     3                                       \n",
       "      a      a  ⎠     27⋅d   9⋅b⋅c   b                                        \n",
       "─────────────────── + ──── - ───── + ──                                       \n",
       "                      2⋅a        2    3                                       \n",
       "                              2⋅a    a                                        \n",
       "\n",
       "______________________________________________________________      ⎫⎤\n",
       "_________________________________________                           ⎪⎥\n",
       "              3                        2                            ⎪⎥\n",
       "  ⎛         2⎞    ⎛                  3⎞                             ⎪⎥\n",
       "  ⎜  3⋅c   b ⎟    ⎜27⋅d   9⋅b⋅c   2⋅b ⎟                             ⎪⎥\n",
       "4⋅⎜- ─── + ──⎟  + ⎜──── - ───── + ────⎟                             ⎪⎥\n",
       "  ⎜   a     2⎟    ⎜ a        2      3 ⎟                     3       ⎪⎥\n",
       "  ⎝        a ⎠    ⎝         a      a  ⎠     27⋅d   9⋅b⋅c   b        ⎪⎥\n",
       "───────────────────────────────────────── + ──── - ───── + ──       ⎪⎥\n",
       "               2                            2⋅a        2    3       ⎪⎥\n",
       "                                                    2⋅a    a      b ⎪⎥\n",
       "────────────────────────────────────────────────────────────── - ───⎬⎥\n",
       "             3                                                   3⋅a⎪⎥\n",
       "                                                                    ⎪⎥\n",
       "                                                                    ⎪⎥\n",
       "                                                                    ⎪⎥\n",
       "                                                                    ⎪⎥\n",
       "                                                                    ⎪⎥\n",
       "                                                                    ⎪⎥\n",
       "                                                                    ⎪⎥\n",
       "                                                                    ⎪⎥\n",
       "                                                                    ⎪⎥\n",
       "                                                                    ⎭⎦"
      ]
     },
     "metadata": {
      "tags": []
     },
     "output_type": "display_data"
    }
   ],
   "source": [
    "import sympy as sp\n",
    "from sympy.plotting import plot\n",
    "from IPython.display import display\n",
    "\n",
    "def custom_latex_printer(expr, **options):\n",
    "    from IPython.display import Math, HTML\n",
    "    from google.colab.output._publish import javascript\n",
    "    url = \"https://cdnjs.cloudflare.com/ajax/libs/mathjax/2.7.7/MathJax.js?config=TeX-AMS_CHTML\"\n",
    "    javascript(content=\"\"\"window.MathJax = {\n",
    "        tex2jax: {\n",
    "            inlineMath: [ ['$','$'] ],\n",
    "            processEscapes: true\n",
    "        }\n",
    "        };\"\"\")\n",
    "    javascript(url=url)\n",
    "    return sp.latex(expr, **options)\n",
    "\n",
    "a,b,c,d,x = sp.symbols('a,b,c,d,x')\n",
    "expr = a*x**3 + b*x**2 + c*x + d\n",
    "\n",
    "display(sp.solve(expr, x, dict=True))"
   ]
  }
 ],
 "metadata": {
  "colab": {
   "authorship_tag": "ABX9TyPATSGkq+hha2IIL7q3iou1",
   "collapsed_sections": [],
   "name": "2020-04-19_hw.ipynb",
   "provenance": [],
   "toc_visible": true
  },
  "kernelspec": {
   "display_name": "Python 3",
   "language": "python",
   "name": "python3"
  },
  "language_info": {
   "codemirror_mode": {
    "name": "ipython",
    "version": 3
   },
   "file_extension": ".py",
   "mimetype": "text/x-python",
   "name": "python",
   "nbconvert_exporter": "python",
   "pygments_lexer": "ipython3",
   "version": "3.8.3"
  }
 },
 "nbformat": 4,
 "nbformat_minor": 1
}
