{
 "cells": [
  {
   "cell_type": "markdown",
   "metadata": {
    "colab_type": "text",
    "id": "UeHS9k8PQlJt"
   },
   "source": [
    "# 2020-07-26 課題\n",
    "- [コンテンツの案内ページ](https://phasetr.com/mthlp1/)\n",
    "- [GitHub へのリンク](https://github.com/phasetr/studygroup/programming-for-junior-highschool-mathphys)\n",
    "- matplotlib を忘れないように、簡単なグラフをいくつか描いてみてください。\n",
    "- TeX でいろいろな式を書いてみましょう。\n",
    "- 実際に競プロの問題をいくつか解いてみましょう。まずは [Beginners' selection](https://atcoder.jp/contests/abs) をやっていきます。\n",
    "    - 今回は次の 2 つです。\n",
    "        - [ABC085C - Otoshidama](https://atcoder.jp/contests/abs/tasks/abc085_c)\n",
    "        - [ABC049C - 白昼夢](https://atcoder.jp/contests/abs/tasks/arc065_a)\n",
    "    - [Pythonで10問解いてみた記事](https://qiita.com/KoyanagiHitoshi/items/c5e82841b8d0f750851d)もあるので参考にしてください。\n",
    "    - 他にも[ここのページ](https://qiita.com/drken/items/fd4e5e3630d0f5859067)を一通り眺めてみてください。\n",
    "- [東大の AWS クラウド講義資料](https://tomomano.gitlab.io/intro-aws/#_hands_on_5_bashoutter)を眺めてみてください。せっかくなので状況を見て（私の勉強も兼ねて）「勉強会前半パート」で取り上げようと思います。（とりあえず当面はやらない感じにする？）"
   ]
  },
  {
   "cell_type": "markdown",
   "metadata": {
    "colab_type": "text",
    "id": "eHijM0qZCnuk"
   },
   "source": [
    "# メモ：先に進む前に録画してあるか確認しよう"
   ]
  },
  {
   "cell_type": "markdown",
   "metadata": {
    "colab_type": "text",
    "id": "UL1CT7FxWS2W"
   },
   "source": [
    "# 自分用メモ\n",
    "- 勉強のおすすめ：AtCoder はどうか？C++の解説もあるし、仕事・評価にも割と直結するし、具体的な問題つきで勉強できる。\n",
    "    - https://atcoder.jp/contests/apg4b\n",
    "        - C++のコードをPythonで書き直してみるだけでもかなりの勉強になるはず\n",
    "    - Python によるアルゴリズム https://qiita.com/cabernet_rock/items/cdd12b07d213b67d0530\n",
    "- 遅延型方程式に対するコメント追加\n",
    "- matplotlib のチュートリアルを読もうの会\n",
    "    - 公式情報に触れる重要性\n",
    "    - 古い情報が古いと書いてあったりする：たとえば `pylab`\n",
    "        - [参考: これの Note](https://matplotlib.org/tutorials/introductory/usage.html#sphx-glr-tutorials-introductory-usage-py)\n",
    "    - [Gallery](https://matplotlib.org/gallery/index.html#user-interfaces)\n",
    "        - 見ていて面白い\n",
    "        - 「どこをいじるとどう変わるか」が視覚的にわかる\n",
    "        - 公式情報なのできちんとアップデートしてくれている（はず）\n",
    "        - 公式情報にソースがあるので自分でいろいろ書き換えていて破滅したとき、必ずオリジナルを復元できる"
   ]
  },
  {
   "cell_type": "markdown",
   "metadata": {
    "colab_type": "text",
    "id": "MDGadbjNGtiY"
   },
   "source": [
    "# Matplotlib\n",
    "- とりあえず本当に簡単な図を描く\n",
    "- 今回は有限フーリエ級数\n",
    "\n",
    "\\begin{align}\n",
    "f(x)\n",
    "=\n",
    "\\frac{4}{\\pi} \\left( \\sin x + \\frac{1}{3} \\sin 3 x + \\frac{1}{5} \\sin 5 x + \\cdots \\right)\n",
    "\\end{align}\n",
    "\n",
    "- ついでなのでこれの TeX も紹介する"
   ]
  },
  {
   "cell_type": "code",
   "execution_count": null,
   "metadata": {
    "colab": {
     "base_uri": "https://localhost:8080/",
     "height": 265
    },
    "colab_type": "code",
    "executionInfo": {
     "elapsed": 766,
     "status": "ok",
     "timestamp": 1595805675683,
     "user": {
      "displayName": "Yoshitsugu Sekine",
      "photoUrl": "https://lh3.googleusercontent.com/a-/AOh14GimsNckrAflr-jMDGQwV_kIJ56EjAWYV8INkpUv=s64",
      "userId": "13524401322013959426"
     },
     "user_tz": -540
    },
    "id": "e0LE3OzIG1Ug",
    "outputId": "355e3020-1112-42bd-f229-4ad3030f1a02"
   },
   "outputs": [
    {
     "data": {
      "image/png": "[encoded data removed]",
      "text/plain": [
       "<Figure size 432x288 with 1 Axes>"
      ]
     },
     "metadata": {
      "needs_background": "light",
      "tags": []
     },
     "output_type": "display_data"
    }
   ],
   "source": [
    "import numpy as np\n",
    "import matplotlib.pyplot as plt\n",
    "\n",
    "x = np.linspace(-3, 3, 1001)\n",
    "y = (4 / np.pi) * (np.sin(x) + np.sin(3*x) / 3 + np.sin(5*x) / 5 + np.sin(7*x) / 7 + np.sin(9*x) / 9)\n",
    "y1 = np.ones(len(x))\n",
    "y2 = -1 * np.ones(len(x))\n",
    "\n",
    "plt.plot(x, y, label=\"finite fourier\")\n",
    "plt.plot(x, y1, label=\"y=1\")\n",
    "plt.plot(x, y2, label=\"y=-1\")\n",
    "\n",
    "plt.grid()\n",
    "plt.legend()\n",
    "#plt.axes().set_aspect('equal', 'datalim') # アスペクト比を合わせる\n",
    "plt.show()"
   ]
  },
  {
   "cell_type": "markdown",
   "metadata": {
    "colab_type": "text",
    "id": "tLEgW79quL7a"
   },
   "source": [
    "# TeX の記録\n",
    "- コンパクト多様体上のラプラシアンの固有値の漸近評価\n",
    "\n",
    "\\begin{align}\n",
    "\\lambda_k\n",
    "=\n",
    "4 \\pi \\left(\\frac{\\Gamma (\\frac{m}{2} + 1)}{\\binom{m}{p} \\mathrm{vol}(M)} \\right) k^{m/2} + o (k^{m/2}).\n",
    "\\end{align}"
   ]
  },
  {
   "cell_type": "markdown",
   "metadata": {
    "colab_type": "text",
    "id": "6mrrNYm2T_Ix"
   },
   "source": [
    "# 競プロ、AtCoder\n",
    "- 実際に競プロの問題をいくつか解いてみましょう。まずは [Beginners' selection](https://atcoder.jp/contests/abs) をやっていきます。\n",
    "    - 今回は次の 2 つです。\n",
    "        - [ABC085C - Otoshidama](https://atcoder.jp/contests/abs/tasks/abc085_c)\n",
    "        - [ABC049C - 白昼夢](https://atcoder.jp/contests/abs/tasks/arc065_a)\n",
    "    - [Pythonで10問解いてみた記事](https://qiita.com/KoyanagiHitoshi/items/c5e82841b8d0f750851d)もあるので参考にしてください。\n",
    "    - 他にも[ここのページ](https://qiita.com/drken/items/fd4e5e3630d0f5859067)を一通り眺めてみてください。"
   ]
  },
  {
   "cell_type": "markdown",
   "metadata": {
    "colab_type": "text",
    "id": "G5d80BwvdKpq"
   },
   "source": [
    "## [ABC085C - Otoshidama](https://atcoder.jp/contests/abs/tasks/abc085_c)\n",
    "> 日本でよく使われる紙幣は、10000 円札、5000 円札、1000 円札です。以下、「お札」とはこれらのみを指します。\n",
    "> 青橋くんが言うには、彼が祖父から受け取ったお年玉袋にはお札が $N$ 枚入っていて、合計で $Y$ 円だったそうですが、嘘かもしれません。このような状況がありうるか判定し、ありうる場合はお年玉袋の中身の候補を一つ見つけてください。なお、彼の祖父は十分裕福であり、お年玉袋は十分大きかったものとします。\n",
    "\n",
    "> N 枚のお札の合計金額が Y 円となることがありえない場合は、`-1 -1 -1` と出力せよ。\n",
    "N 枚のお札の合計金額が Y 円となることがありうる場合は、そのような N 枚のお札の組み合わせの一例を「\n",
    "10000 円札 x 枚、5000 円札 y 枚、1000 円札 z 枚」として、x、y、z を空白で区切って出力せよ。複数の可能性が考えられるときは、そのうちどれを出力してもよい。"
   ]
  },
  {
   "cell_type": "markdown",
   "metadata": {
    "colab_type": "text",
    "id": "4A3wGMwMdrHJ"
   },
   "source": [
    "### 入力・出力例 1 \n",
    "```\n",
    "# 入力\n",
    "9 45000\n",
    "# 出力\n",
    "4 0 5\n",
    "```\n",
    "お年玉袋に 10000 円札 4 枚と 1000 円札 5 枚が入っていれば、合計枚数が 9 枚、合計金額が 45000 円になります。\n",
    "5000 円札 9 枚という可能性も考えられるため、0 9 0 も正しい出力です。"
   ]
  },
  {
   "cell_type": "markdown",
   "metadata": {
    "colab_type": "text",
    "id": "2_nUOinFeHP_"
   },
   "source": [
    "### 入出力例 2\n",
    "不適格な場合の出力チェックにあたる。\n",
    "\n",
    "```\n",
    "# 入力\n",
    "20 196000\n",
    "# 出力\n",
    "-1 -1 -1\n",
    "```\n",
    "\n",
    "合計枚数が 20 枚の場合、すべてが 10000 円札であれば合計金額は 200000 円になり、そうでなければ 195000 円以下になるため、196000 円という合計金額はありえません。"
   ]
  },
  {
   "cell_type": "markdown",
   "metadata": {
    "colab_type": "text",
    "id": "XJLzpg2EeN_r"
   },
   "source": [
    "### 入出力例 4\n",
    "変なアルゴリズムを組むと指定計算時間内に終わらない。\n",
    "\n",
    "```\n",
    "# 入力\n",
    "2000 20000000\n",
    "# 出力例 \n",
    "2000 0 0\n",
    "```"
   ]
  },
  {
   "cell_type": "markdown",
   "metadata": {
    "colab_type": "text",
    "id": "j8HeFuBse69N"
   },
   "source": [
    "### 基本方針\n",
    "- 全探索をするしかないが一ひねりして計算量（ループの数）を減らす\n",
    "- 合計 $Y$ 円が嘘かどうかであり、「何枚以下だったかもしれない」みたいな条件は付いていない"
   ]
  },
  {
   "cell_type": "code",
   "execution_count": null,
   "metadata": {
    "colab": {
     "base_uri": "https://localhost:8080/",
     "height": 90
    },
    "colab_type": "code",
    "executionInfo": {
     "elapsed": 1566,
     "status": "ok",
     "timestamp": 1595890835527,
     "user": {
      "displayName": "Yoshitsugu Sekine",
      "photoUrl": "https://lh3.googleusercontent.com/a-/AOh14GimsNckrAflr-jMDGQwV_kIJ56EjAWYV8INkpUv=s64",
      "userId": "13524401322013959426"
     },
     "user_tz": -540
    },
    "id": "OT0M9oGverES",
    "outputId": "0d45797b-efe7-42fb-f988-23d5bb827203"
   },
   "outputs": [
    {
     "name": "stdout",
     "output_type": "stream",
     "text": [
      "0 9 0\n",
      "-1 -1 -1\n",
      "2 54 944\n",
      "2000 0 0\n"
     ]
    }
   ],
   "source": [
    "# N, Y = map(int, input().split())\n",
    "def solve(N, Y):\n",
    "    for x in range(N+1):\n",
    "        for y in range(N-x+1):\n",
    "            z = N-x-y # z のループはせずにこれで固定\n",
    "            if 0 <= z <= 2000 and 10000*x+5000*y+1000*z == Y:\n",
    "                return \"%s %s %s\" % (x, y, z)\n",
    "                exit() # ヒットしたので処理終了\n",
    "    # ここまで来たら不適格だったと判断\n",
    "    return \"-1 -1 -1\"\n",
    "\n",
    "print(solve(9, 45000)) # 4 0 5\n",
    "print(solve(20, 196000)) # -1 -1 -1\n",
    "print(solve(1000, 1234000)) # 14 27 959 他にもありうるはず\n",
    "print(solve(2000, 20000000)) # 2000 0 0"
   ]
  },
  {
   "cell_type": "markdown",
   "metadata": {
    "colab_type": "text",
    "id": "ku_cmrDueulW"
   },
   "source": [
    "## [ABC049C - 白昼夢](https://atcoder.jp/contests/abs/tasks/arc065_a)\n",
    "\n",
    "> 英小文字からなる文字列 $S$ が与えられます。 $T$ が空文字列である状態から始め、以下の操作を好きな回数繰り返すことで $S=T$ とすることができるか判定してください。\n",
    "\n",
    "> $T$ の末尾に `dream dreamer erase eraser` のいずれかを追加する。"
   ]
  },
  {
   "cell_type": "markdown",
   "metadata": {
    "colab_type": "text",
    "id": "_lScSPb1m8na"
   },
   "source": [
    "### 例\n",
    "```\n",
    "# 入力例 1\n",
    "erasedream\n",
    "# 出力例 1 \n",
    "YES\n",
    "```\n",
    "erase dream の順で T の末尾に追加することで S = T とすることができます。\n",
    "\n",
    "```\n",
    "# 入力例 2\n",
    "dreameraser\n",
    "# 出力例 2 \n",
    "YES\n",
    "```\n",
    "\n",
    "```\n",
    "# 入力例 3\n",
    "dreamerer\n",
    "# 出力例 3\n",
    "NO\n",
    "```"
   ]
  },
  {
   "cell_type": "code",
   "execution_count": null,
   "metadata": {
    "colab": {
     "base_uri": "https://localhost:8080/",
     "height": 72
    },
    "colab_type": "code",
    "executionInfo": {
     "elapsed": 674,
     "status": "ok",
     "timestamp": 1595976665573,
     "user": {
      "displayName": "Yoshitsugu Sekine",
      "photoUrl": "https://lh3.googleusercontent.com/a-/AOh14GimsNckrAflr-jMDGQwV_kIJ56EjAWYV8INkpUv=s64",
      "userId": "13524401322013959426"
     },
     "user_tz": -540
    },
    "id": "xK4ICSUXnew7",
    "outputId": "8f9a760b-ac1c-461f-b026-ed184214f335"
   },
   "outputs": [
    {
     "name": "stdout",
     "output_type": "stream",
     "text": [
      "YES\n",
      "YES\n",
      "NO\n"
     ]
    }
   ],
   "source": [
    "import re\n",
    "#S = input()\n",
    "def solve(S):\n",
    "    # 正規表現を使って特定 4 文字列の繰り返しだけかどうかを判定する\n",
    "    return \"YES\" if re.match(\"^(dream|dreamer|erase|eraser)+$\", S) else \"NO\"\n",
    "\n",
    "print(solve(\"erasedream\")) # YES\n",
    "print(solve(\"dreameraser\")) # YES\n",
    "print(solve(\"dreamerer\")) # NO"
   ]
  },
  {
   "cell_type": "markdown",
   "metadata": {
    "colab_type": "text",
    "id": "U4wMpjS-oBZy"
   },
   "source": [
    "### メモ\n",
    "- 正規表現マッチの速度：そんなに速いか？\n",
    "    - 正規表現自体をいろいろ調べないといけない\n",
    "    - ケースバイケースでの実測\n",
    "- [公式の解説](https://img.atcoder.jp/arc065/editorial.pdf)：後ろから文字列マッチしていく\n",
    "\n",
    "> 文字列 S を dream, dreamer, erase, eraser に分解していくことを考えます。先頭から分解していこうとす\n",
    "ると、例えば dreamer まで読んだとき、dream で切るべきなのか、dreamer で切るべきなのか判定するこ\n",
    "とができません。(dreameraser は dream eraser と切らなければならないので、dreamer まで読んだときに\n",
    "dream で切らなければいけない場合が存在することが分かります)\n",
    "逆に、後ろから読んでみましょう。4 つの単語を後ろから読むと、それぞれ maerd, remaerd, esare, resare\n",
    "となります。この 4 つの文字列は、ある文字列が他の文字列の接頭辞 (prefix) になっていないため、後ろか\n",
    "ら読んで当てはまるものが見つかれば即座に分解するしかありません。(参考: 語頭符号) S を最終的に分解す\n",
    "ることができなかった場合 NO を、そうでない場合 YES を出力します。\n",
    "\n",
    "- 後ろからのマッチ：今の場合の文字列設定だからできることではある\n",
    "    - むしろ問題ごとにその勘所を見抜いて問題ごとに適切な手法を見つけて実装する"
   ]
  },
  {
   "cell_type": "markdown",
   "metadata": {
    "colab_type": "text",
    "id": "6UWPG8WXXofB"
   },
   "source": [
    "# IT 基礎知識\n",
    "- [東大の AWS クラウド講義資料](https://tomomano.gitlab.io/intro-aws/)を眺めてみてください。せっかくなので状況を見て（私の勉強も兼ねて）「勉強会前半パート」で取り上げようと思います。\n",
    "    - これはこれで眺めると大事な用語・概念・操作などがわかる\n",
    "    - ハードル高そうなのでとりあえず保留\n",
    "- 応用情報技術者試験の本を使って浅く広く眺めてみる\n",
    "    - 根本的にそういう試験\n",
    "    - 横のつながりを見つつ浅く広く知る"
   ]
  },
  {
   "cell_type": "markdown",
   "metadata": {
    "colab_type": "text",
    "id": "u5bzsF9e648w"
   },
   "source": [
    "## 7 章 ネットワーク\n",
    "- OSI基本参照モデル、TCP/IP、MACアドレスあたりの話と他のところの関係\n",
    "- OSI 基本参照モデル\n",
    "    - 上の方が「アプリケーション」\n",
    "    - 下の方はハードウェア\n",
    "- 例えばセキュリティの話をしているとポンと出てくる\n",
    "    - 「下の方（ハードウェア）」レベルでやった方が処理が速いが、複雑なことはできない\n",
    "        - 高負荷のシステムで手早く最低限の前処理だけしたい場合に有効\n",
    "        - 複雑なことをしない（できない）からこそ速い\n",
    "    - 「上の方（ソフトウェア）」レベルでやると処理は遅いが、複雑な処理ができる\n",
    "        - システムに多少負荷をかけてもいいから、セキュリティを高めたい\n",
    "        - 複雑な処理・計算が必要なのでその分時間がかかる"
   ]
  },
  {
   "cell_type": "markdown",
   "metadata": {
    "colab_type": "text",
    "id": "8YlJRVRp7hFi"
   },
   "source": [
    "### [OSI参照モデルとは｜ファイアウォールの種類をわかりやすく解説](https://it-trend.jp/firewall/article/60-0003)\n",
    "- レイヤー１：物理層 階層の１段階目は「物理層」です。ハードウェアに最も近い部分であり、電気信号やアナログ信号などによる通信を行っています。主にLANケーブルなどの回線を使って通信を行っています。カプセル化されたデータの単位は「ビット」です。\n",
    "- レイヤー２：データリンク層 階層の２段階目は「データリンク層」です。同一ネットワーク上での通信を行う階層で、直接的に接続された通信のための規定です。この通信規定により、LANやWANの間の通信を実現できます。カプセル化されたデータの単位は「フレーム」です。\n",
    "- レイヤー３：ネットワーク層 インターネットでの通信を実現するものが、第３階層である「ネットワーク層」です。この階層ではネットワーク間の通信に関する取り決めが行われています。主にIPアドレスが使われ、ルータによって通信が管理されている階層です。カプセル化されたデータの単位は「パケット」であり、この階層からファイアウォールで通信を制御しています。\n",
    "    - 遥か昔、「ケータイ」のころのパケット通信料は名前が同じだけで本質的には関係ない模様"
   ]
  },
  {
   "cell_type": "markdown",
   "metadata": {
    "colab_type": "text",
    "id": "9CeUfzaU7yPg"
   },
   "source": [
    "### セキュリティ\n",
    "- パケットフィルタリング：レイヤー３・４で動作\n",
    "パケットフィルタリング型のファイアウォールは「ネットワーク層」「トランスポート層」で動作します。\n",
    "    - レイヤー３の情報である「送信元IPアドレス」「宛先IPアドレス」をもとに判断することが可能です。このタイプのファイアウォールは構成がシンプルで、ほかの種類よりも処理が速いという特徴があります。\n",
    "    - しかし、安全性はほかの種類よりも低く、フィルタリングの設定が煩雑になることがデメリットです。\n",
    "- サーキットゲートウェイ：レイヤー５で動作\n",
    "セッション層で動作するファイアウォールが「サーキットゲートウェイ型」という種類です。\n",
    "    - 先程のパケットフィルタリングの動作に加え、ポート指定や制御ができます。使用するアプリケーションごとに細かく通信の制御を設定することが可能です。\n",
    "- アプリケーションレベルゲートウェイ：レイヤー５・６・７で動作\n",
    "    - 比較的新しいタイプのファイアウォールが「アプリケーションレベルゲートウェイ」です。\n",
    "    - 主にレイヤー５から７までで動作を行い、アプリケーションレベルのデータをもとに通信を判断します。細かい単位で通信を判断するため、高度な識別が可能です。従来のファイアウォールよりも通信速度が少し落ちますが、なりすましなどの対策ができます。"
   ]
  },
  {
   "cell_type": "markdown",
   "metadata": {
    "colab_type": "text",
    "id": "lMlYD_LU831M"
   },
   "source": [
    "### もう 1 つ参考：[ネットワーク各レイヤーのセキュリティを強化するには](https://eset-info.canon-its.jp/malware_info/special/detail/150916_1.html)\n",
    "> - トランスポートモード：パケットのペイロードだけを暗号化し、それにIPヘッダを付けて開いて送信する。\n",
    "> - トンネルモード：IPヘッダを含めて暗号化されるため、ネットワーク間の安全な接続に用いられる。\n",
    "\n",
    "> - 「SSL」「TLS」「SSH」といった第4層の通信プロトコルを使用すると、データを暗号化することによって傍受などから守ることが可能になる（「SSL」は「セキュア・ソケッツ・レイヤー」、「TLS」は「トランスポート・レイヤー・セキュリティ」、「SSH」は「セキュア・シェル」の略）。特に機器をリモートで管理するためにネットワーク接続を行う際に十分考慮に入れるべきものである。\n",
    "\n",
    "- SSL：https の s\n",
    "- SSH：Linux サーバーにログインするときによく使う。東大のクラウド講義資料でも「SSH で云々」というのがよく出てくる\n",
    "- こういう感じで横断的にいろいろ出てくる"
   ]
  }
 ],
 "metadata": {
  "colab": {
   "collapsed_sections": [],
   "name": "2020-07-26_hw.ipynb",
   "provenance": [
    {
     "file_id": "1ACxtRe3JYOTAiSQRcPIeEPBbik4N3OIs",
     "timestamp": 1595747226152
    },
    {
     "file_id": "1HVAg1OW69H52dIVaaHN0qDPWbwoF6VCp",
     "timestamp": 1595199376559
    },
    {
     "file_id": "1I9bGhteFcsuk37_86sUkatSTzDMD55bl",
     "timestamp": 1593327407554
    },
    {
     "file_id": "1mWsGop81VnfsQG7y3FI5a67P_VlPaOYJ",
     "timestamp": 1592657632462
    }
   ],
   "toc_visible": true
  },
  "kernelspec": {
   "display_name": "Python 3",
   "language": "python",
   "name": "python3"
  },
  "language_info": {
   "codemirror_mode": {
    "name": "ipython",
    "version": 3
   },
   "file_extension": ".py",
   "mimetype": "text/x-python",
   "name": "python",
   "nbconvert_exporter": "python",
   "pygments_lexer": "ipython3",
   "version": "3.8.3"
  }
 },
 "nbformat": 4,
 "nbformat_minor": 1
}
