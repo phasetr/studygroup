{
 "cells": [
  {
   "cell_type": "markdown",
   "metadata": {
    "colab_type": "text",
    "id": "UeHS9k8PQlJt"
   },
   "source": [
    "# 2020-07-12 課題\n",
    "- [コンテンツの案内ページ](https://phasetr.com/mthlp1/)\n",
    "- [GitHub へのリンク](https://github.com/phasetr/studygroup/programming-for-junior-highschool-mathphys)\n",
    "- matplotlib を忘れないように、簡単なグラフをいくつか描いてみてください。\n",
    "- TeX でいろいろな式を書いてみましょう。\n",
    "- 実際に競プロの問題をいくつか解いてみましょう。まずは [Beginners' selection](https://atcoder.jp/contests/abs) をやっていきます。\n",
    "    - 今回は [ABC087B](https://atcoder.jp/contests/abs/tasks/abc087_b) と [ABC083B](https://atcoder.jp/contests/abs/tasks/abc083_b) です。\n",
    "    - [Pythonで10問解いてみた記事](https://qiita.com/KoyanagiHitoshi/items/c5e82841b8d0f750851d)もあるので参考にしてください。\n",
    "    - 他にも[ここのページ](https://qiita.com/drken/items/fd4e5e3630d0f5859067)を一通り眺めてみてください。\n",
    "- [東大の AWS クラウド講義資料](https://tomomano.gitlab.io/intro-aws/#_hands_on_5_bashoutter)を眺めてみてください。せっかくなので状況を見て（私の勉強も兼ねて）「勉強会前半パート」で取り上げようと思います。\n",
    "- 自分の宿題（気になるので調べる）\n",
    "    - SSD の話：記憶の仕方、書き込み耐性\n",
    "    - HDD の最小単位\n"
   ]
  },
  {
   "cell_type": "markdown",
   "metadata": {
    "colab_type": "text",
    "id": "eHijM0qZCnuk"
   },
   "source": [
    "# メモ：先に進む前に録画してあるか確認しよう"
   ]
  },
  {
   "cell_type": "markdown",
   "metadata": {
    "colab_type": "text",
    "id": "UL1CT7FxWS2W"
   },
   "source": [
    "# 自分用メモ\n",
    "- 勉強のおすすめ：AtCoder はどうか？C++の解説もあるし、仕事・評価にも割と直結するし、具体的な問題つきで勉強できる。\n",
    "    - https://atcoder.jp/contests/apg4b\n",
    "        - C++のコードをPythonで書き直してみるだけでもかなりの勉強になるはず\n",
    "    - Python によるアルゴリズム https://qiita.com/cabernet_rock/items/cdd12b07d213b67d0530\n",
    "- 遅延型方程式に対するコメント追加\n",
    "- matplotlib のチュートリアルを読もうの会\n",
    "    - 公式情報に触れる重要性\n",
    "    - 古い情報が古いと書いてあったりする：たとえば `pylab`\n",
    "        - [参考: これの Note](https://matplotlib.org/tutorials/introductory/usage.html#sphx-glr-tutorials-introductory-usage-py)\n",
    "    - [Gallery](https://matplotlib.org/gallery/index.html#user-interfaces)\n",
    "        - 見ていて面白い\n",
    "        - 「どこをいじるとどう変わるか」が視覚的にわかる\n",
    "        - 公式情報なのできちんとアップデートしてくれている（はず）\n",
    "        - 公式情報にソースがあるので自分でいろいろ書き換えていて破滅したとき、必ずオリジナルを復元できる"
   ]
  },
  {
   "cell_type": "markdown",
   "metadata": {
    "colab_type": "text",
    "id": "MDGadbjNGtiY"
   },
   "source": [
    "# Matplotlib\n",
    "- とりあえず本当に簡単な図を描く\n",
    "- 今回はシグモイド関数\n",
    "\n",
    "\\begin{align}\n",
    "\\sigma(x)\n",
    "=\n",
    "\\frac{1}{1 + e^{-x}}.\n",
    "\\end{align}\n",
    "\n",
    "- ついでなのでこれの TeX も紹介する"
   ]
  },
  {
   "cell_type": "code",
   "execution_count": null,
   "metadata": {
    "colab": {
     "base_uri": "https://localhost:8080/",
     "height": 265
    },
    "colab_type": "code",
    "executionInfo": {
     "elapsed": 1181,
     "status": "ok",
     "timestamp": 1594595603597,
     "user": {
      "displayName": "Yoshitsugu Sekine",
      "photoUrl": "https://lh3.googleusercontent.com/a-/AOh14GimsNckrAflr-jMDGQwV_kIJ56EjAWYV8INkpUv=s64",
      "userId": "13524401322013959426"
     },
     "user_tz": -540
    },
    "id": "e0LE3OzIG1Ug",
    "outputId": "2805405f-2059-49f8-fcee-85fc9546117a"
   },
   "outputs": [
    {
     "data": {
      "image/png": "[encoded data removed]",
      "text/plain": [
       "<Figure size 432x288 with 1 Axes>"
      ]
     },
     "metadata": {
      "needs_background": "light",
      "tags": []
     },
     "output_type": "display_data"
    }
   ],
   "source": [
    "import numpy as np\n",
    "import matplotlib.pyplot as plt\n",
    "\n",
    "x = np.linspace(-10, 10, 501)\n",
    "y = 1 / (1 + np.exp(-x))\n",
    "\n",
    "plt.plot(x, y, label=\"sigmoid\")\n",
    "\n",
    "plt.grid()\n",
    "plt.legend()\n",
    "#plt.axes().set_aspect('equal', 'datalim') # アスペクト比を合わせる\n",
    "plt.show()"
   ]
  },
  {
   "cell_type": "markdown",
   "metadata": {
    "colab_type": "text",
    "id": "tLEgW79quL7a"
   },
   "source": [
    "# TeX の記録\n",
    "- 凸不等式\n",
    "- geq, nabla, langle, rangle\n",
    "\n",
    "\\begin{align}\n",
    "f(y)\n",
    "\\geq\n",
    "f(x) + \\langle \\nabla f(x), \\, y-x \\rangle.\n",
    "\\end{align}"
   ]
  },
  {
   "cell_type": "markdown",
   "metadata": {
    "colab_type": "text",
    "id": "6mrrNYm2T_Ix"
   },
   "source": [
    "# 競プロ、AtCoder\n",
    "- 実際に競プロの問題をいくつか解いてみましょう。まずは [Beginners' selection](https://atcoder.jp/contests/abs) をやっていきます。\n",
    "    - 今回は [ABC087B](https://atcoder.jp/contests/abs/tasks/abc087_b) と [ABC083B](https://atcoder.jp/contests/abs/tasks/abc083_b) です。\n",
    "    - [Pythonで10問解いてみた記事](https://qiita.com/KoyanagiHitoshi/items/c5e82841b8d0f750851d)もあるので参考にしてください。\n",
    "    - 他にも[ここのページ](https://qiita.com/drken/items/fd4e5e3630d0f5859067)を一通り眺めてみてください。"
   ]
  },
  {
   "cell_type": "markdown",
   "metadata": {
    "colab_type": "text",
    "id": "146tUHWRaIcd"
   },
   "source": [
    "## ABC087B - Coins\n",
    "- [ABC087B](https://atcoder.jp/contests/abs/tasks/abc087_b)\n",
    "\n",
    "> あなたは、500 円玉を A 枚、100 円玉を B 枚、50 円玉を C 枚持っています。 これらの硬貨の中から何枚かを選び、合計金額をちょうど X 円にする方法は何通りありますか。\n",
    "> 同じ種類の硬貨どうしは区別できません。2 通りの硬貨の選び方は、ある種類の硬貨についてその硬貨を選ぶ枚数が異なるとき区別されます。"
   ]
  },
  {
   "cell_type": "code",
   "execution_count": null,
   "metadata": {
    "colab": {
     "base_uri": "https://localhost:8080/",
     "height": 52
    },
    "colab_type": "code",
    "executionInfo": {
     "elapsed": 862,
     "status": "ok",
     "timestamp": 1594939208798,
     "user": {
      "displayName": "Yoshitsugu Sekine",
      "photoUrl": "https://lh3.googleusercontent.com/a-/AOh14GimsNckrAflr-jMDGQwV_kIJ56EjAWYV8INkpUv=s64",
      "userId": "13524401322013959426"
     },
     "user_tz": -540
    },
    "id": "GcHSNxxMbJZs",
    "outputId": "65cd6908-759e-4994-b066-8752432d96f1"
   },
   "outputs": [
    {
     "name": "stdout",
     "output_type": "stream",
     "text": [
      "2\n",
      "213\n"
     ]
    }
   ],
   "source": [
    "def solve(A, B, C, X):\n",
    "    lst = []\n",
    "    for a in range(A+1):\n",
    "        for b in range(B+1):\n",
    "            for c in range(C+1):\n",
    "                lst.append(500*a+100*b+50*c == X)\n",
    "    # 下のセルで補足\n",
    "    return sum(lst) #len(list(filter(lambda x: x == True, lst)))\n",
    "\n",
    "[A, B, C, X] = [2, 2, 2, 100]\n",
    "print(solve(A, B, C, X)) # 2\n",
    "\n",
    "[A, B, C, X] = [30, 40, 50, 6000]\n",
    "print(solve(A, B, C, X)) # 213"
   ]
  },
  {
   "cell_type": "markdown",
   "metadata": {
    "colab_type": "text",
    "id": "NjrR7S6OyV9L"
   },
   "source": [
    "### 注意\n",
    "ブール値は `True = 1`、`False = 0` として足せるらしい。"
   ]
  },
  {
   "cell_type": "code",
   "execution_count": null,
   "metadata": {
    "colab": {
     "base_uri": "https://localhost:8080/",
     "height": 34
    },
    "colab_type": "code",
    "executionInfo": {
     "elapsed": 817,
     "status": "ok",
     "timestamp": 1594939180281,
     "user": {
      "displayName": "Yoshitsugu Sekine",
      "photoUrl": "https://lh3.googleusercontent.com/a-/AOh14GimsNckrAflr-jMDGQwV_kIJ56EjAWYV8INkpUv=s64",
      "userId": "13524401322013959426"
     },
     "user_tz": -540
    },
    "id": "yMxsBqwTyA1x",
    "outputId": "abc79e9f-ae49-4bc5-b132-357865f7b389"
   },
   "outputs": [
    {
     "data": {
      "text/plain": [
       "2"
      ]
     },
     "execution_count": 2,
     "metadata": {
      "tags": []
     },
     "output_type": "execute_result"
    }
   ],
   "source": [
    "sum([True, False, True, False, False])"
   ]
  },
  {
   "cell_type": "markdown",
   "metadata": {
    "colab_type": "text",
    "id": "eNw9e-5Lyf88"
   },
   "source": [
    "### 上のコードをリスト内包表記で簡潔に"
   ]
  },
  {
   "cell_type": "code",
   "execution_count": null,
   "metadata": {
    "colab": {
     "base_uri": "https://localhost:8080/",
     "height": 54
    },
    "colab_type": "code",
    "executionInfo": {
     "elapsed": 524,
     "status": "ok",
     "timestamp": 1594899783725,
     "user": {
      "displayName": "Yoshitsugu Sekine",
      "photoUrl": "https://lh3.googleusercontent.com/a-/AOh14GimsNckrAflr-jMDGQwV_kIJ56EjAWYV8INkpUv=s64",
      "userId": "13524401322013959426"
     },
     "user_tz": -540
    },
    "id": "DFhC3a9XZooD",
    "outputId": "847c3861-ed70-4aa1-9679-c7ea6e3b0fa0"
   },
   "outputs": [
    {
     "name": "stdout",
     "output_type": "stream",
     "text": [
      "2\n",
      "213\n"
     ]
    }
   ],
   "source": [
    "#A, B, C, X = [int(input()) for i in range(4)]\n",
    "def solve(A, B, C, X):\n",
    "    return sum(500*a+100*b+50*c == X \n",
    "               for a in range(A+1) \n",
    "               for b in range(B+1)\n",
    "               for c in range(C+1))\n",
    "\n",
    "[A, B, C, X] = [2, 2, 2, 100]\n",
    "print(solve(A, B, C, X)) # 2\n",
    "\n",
    "[A, B, C, X] = [30, 40, 50, 6000]\n",
    "print(solve(A, B, C, X)) # 213"
   ]
  },
  {
   "cell_type": "markdown",
   "metadata": {
    "colab_type": "text",
    "id": "6rH3fDroyryd"
   },
   "source": [
    "## [ABC083B](https://atcoder.jp/contests/abs/tasks/abc083_b)\n",
    "- 参考：[Pythonで10問解いてみた記事](https://qiita.com/KoyanagiHitoshi/items/c5e82841b8d0f750851d)[リンクテキスト](https://)\n",
    "\n",
    "> 1 以上 N 以下の整数のうち、10 進法での各桁の和が A 以上 B 以下であるものの総和を求めてください。"
   ]
  },
  {
   "cell_type": "markdown",
   "metadata": {
    "colab_type": "text",
    "id": "6mGXVbwtzM2B"
   },
   "source": [
    "### サンプル\n",
    "- 20 以下の整数のうち、各桁の和が 2 以上 5 以下なのは 2,3,4,5,11,12,13,14,20 です。これらの合計である 84 を出力します。"
   ]
  },
  {
   "cell_type": "code",
   "execution_count": 5,
   "metadata": {
    "colab": {
     "base_uri": "https://localhost:8080/",
     "height": 34
    },
    "colab_type": "code",
    "executionInfo": {
     "elapsed": 844,
     "status": "ok",
     "timestamp": 1595132670057,
     "user": {
      "displayName": "Yoshitsugu Sekine",
      "photoUrl": "https://lh3.googleusercontent.com/a-/AOh14GimsNckrAflr-jMDGQwV_kIJ56EjAWYV8INkpUv=s64",
      "userId": "13524401322013959426"
     },
     "user_tz": -540
    },
    "id": "2CDyNatMUJYm",
    "outputId": "47c835a4-68cf-4629-ca52-7e232efb9526"
   },
   "outputs": [
    {
     "data": {
      "text/plain": [
       "[1, 2, 3, 4, 5, 6, 7, 8, 9, 10, 11, 12, 13, 14, 15, 16, 17, 18, 19, 20]"
      ]
     },
     "execution_count": 5,
     "metadata": {
      "tags": []
     },
     "output_type": "execute_result"
    }
   ],
   "source": [
    "list(range(1, 20+1))"
   ]
  },
  {
   "cell_type": "code",
   "execution_count": null,
   "metadata": {
    "colab": {},
    "colab_type": "code",
    "id": "ocULD-UeUanE"
   },
   "outputs": [],
   "source": [
    "a <= b && b <= c\n",
    "a <= b <= c"
   ]
  },
  {
   "cell_type": "code",
   "execution_count": null,
   "metadata": {
    "colab": {
     "base_uri": "https://localhost:8080/",
     "height": 70
    },
    "colab_type": "code",
    "executionInfo": {
     "elapsed": 833,
     "status": "ok",
     "timestamp": 1594939927929,
     "user": {
      "displayName": "Yoshitsugu Sekine",
      "photoUrl": "https://lh3.googleusercontent.com/a-/AOh14GimsNckrAflr-jMDGQwV_kIJ56EjAWYV8INkpUv=s64",
      "userId": "13524401322013959426"
     },
     "user_tz": -540
    },
    "id": "wqqyf8mB0VvK",
    "outputId": "b38f200a-38a1-4706-e812-265a7999eed5"
   },
   "outputs": [
    {
     "name": "stdout",
     "output_type": "stream",
     "text": [
      "84\n",
      "13\n",
      "4554\n"
     ]
    }
   ],
   "source": [
    "def solve(N, A, B):\n",
    "    lst = []\n",
    "    for i in range(1, N+1):\n",
    "        if A <= sum(map(int, str(i))) <= B:\n",
    "            lst.append(i)\n",
    "    return sum(lst)\n",
    "\n",
    "N, A, B = [20, 2, 5]    \n",
    "print(solve(N, A, B)) # 84\n",
    "\n",
    "N, A, B = [10, 1, 2]\n",
    "print(solve(N, A, B)) # 13\n",
    "\n",
    "N, A, B = [100, 4, 16]\n",
    "print(solve(N, A, B)) # 4554"
   ]
  },
  {
   "cell_type": "markdown",
   "metadata": {
    "colab_type": "text",
    "id": "f-rxmu2q1AtT"
   },
   "source": [
    "### わからなければ分解しよう\n",
    "- これ、すぐわかる？\n",
    "\n",
    "```\n",
    "sum(map(int, str(i)))\n",
    "```\n",
    "\n",
    "- 数値を文字列に変換\n",
    "- 「文字列」を「文字のリスト」とみなして各要素に `int` を作用させている"
   ]
  },
  {
   "cell_type": "markdown",
   "metadata": {
    "colab_type": "text",
    "id": "tkw04g3kVIzQ"
   },
   "source": [
    "- 文字：char (character)\n",
    "- 文字列：string"
   ]
  },
  {
   "cell_type": "code",
   "execution_count": 7,
   "metadata": {
    "colab": {
     "base_uri": "https://localhost:8080/",
     "height": 34
    },
    "colab_type": "code",
    "executionInfo": {
     "elapsed": 777,
     "status": "ok",
     "timestamp": 1595133132402,
     "user": {
      "displayName": "Yoshitsugu Sekine",
      "photoUrl": "https://lh3.googleusercontent.com/a-/AOh14GimsNckrAflr-jMDGQwV_kIJ56EjAWYV8INkpUv=s64",
      "userId": "13524401322013959426"
     },
     "user_tz": -540
    },
    "id": "rTDmfOYvV0A5",
    "outputId": "caa27ef7-b3f7-48eb-8b81-12cfc523deec"
   },
   "outputs": [
    {
     "name": "stdout",
     "output_type": "stream",
     "text": [
      "[2, 0]\n"
     ]
    }
   ],
   "source": [
    "i = 20\n",
    "map(int, str(i))\n",
    "\n",
    "lst = []\n",
    "for a in str(i):\n",
    "    lst.append(int(a))\n",
    "print(lst)"
   ]
  },
  {
   "cell_type": "code",
   "execution_count": 2,
   "metadata": {
    "colab": {
     "base_uri": "https://localhost:8080/",
     "height": 87
    },
    "colab_type": "code",
    "executionInfo": {
     "elapsed": 990,
     "status": "ok",
     "timestamp": 1595130347692,
     "user": {
      "displayName": "Yoshitsugu Sekine",
      "photoUrl": "https://lh3.googleusercontent.com/a-/AOh14GimsNckrAflr-jMDGQwV_kIJ56EjAWYV8INkpUv=s64",
      "userId": "13524401322013959426"
     },
     "user_tz": -540
    },
    "id": "l2bpog981EHX",
    "outputId": "76a022bf-d3d5-4e1a-fd9d-eaa1e520e993"
   },
   "outputs": [
    {
     "name": "stdout",
     "output_type": "stream",
     "text": [
      "['2', '0']\n",
      "[2, 0]\n",
      "[1, 2, 3]\n",
      "[3, 5, 6, 4, 5, 6, 5]\n"
     ]
    }
   ],
   "source": [
    "i = 20\n",
    "print(list(str(i)))\n",
    "print(list(map(int, str(i))))\n",
    "\n",
    "i = 123\n",
    "print(list(map(int, str(i))))\n",
    "\n",
    "i = 3564565\n",
    "print(list(map(int, str(i))))"
   ]
  },
  {
   "cell_type": "code",
   "execution_count": 15,
   "metadata": {
    "colab": {
     "base_uri": "https://localhost:8080/",
     "height": 34
    },
    "colab_type": "code",
    "executionInfo": {
     "elapsed": 794,
     "status": "ok",
     "timestamp": 1595133354620,
     "user": {
      "displayName": "Yoshitsugu Sekine",
      "photoUrl": "https://lh3.googleusercontent.com/a-/AOh14GimsNckrAflr-jMDGQwV_kIJ56EjAWYV8INkpUv=s64",
      "userId": "13524401322013959426"
     },
     "user_tz": -540
    },
    "id": "VrI8jCo3War6",
    "outputId": "5ed8c0f1-5928-48bb-8bae-be4f7cdb30e0"
   },
   "outputs": [
    {
     "data": {
      "text/plain": [
       "564565"
      ]
     },
     "execution_count": 15,
     "metadata": {
      "tags": []
     },
     "output_type": "execute_result"
    }
   ],
   "source": [
    "i = 3564565\n",
    "l = len(str(i))\n",
    "int(i / (10**(l-1)))\n",
    "i % 10**(l-1)"
   ]
  },
  {
   "cell_type": "markdown",
   "metadata": {
    "colab_type": "text",
    "id": "Rlf2uPRWz3oO"
   },
   "source": [
    "### リスト内包表記で簡潔に"
   ]
  },
  {
   "cell_type": "code",
   "execution_count": null,
   "metadata": {
    "colab": {
     "base_uri": "https://localhost:8080/",
     "height": 70
    },
    "colab_type": "code",
    "executionInfo": {
     "elapsed": 837,
     "status": "ok",
     "timestamp": 1594939745542,
     "user": {
      "displayName": "Yoshitsugu Sekine",
      "photoUrl": "https://lh3.googleusercontent.com/a-/AOh14GimsNckrAflr-jMDGQwV_kIJ56EjAWYV8INkpUv=s64",
      "userId": "13524401322013959426"
     },
     "user_tz": -540
    },
    "id": "oelyrzc9zAVO",
    "outputId": "2516fc74-644f-4a70-d851-09eefe8c2cfc"
   },
   "outputs": [
    {
     "name": "stdout",
     "output_type": "stream",
     "text": [
      "84\n",
      "13\n",
      "4554\n"
     ]
    }
   ],
   "source": [
    "# N, A, B = map(int, input().split())\n",
    "def solve(N, A, B):\n",
    "    return sum(i for i in range(1, N+1) if A <= sum(map(int, str(i))) <= B)\n",
    "\n",
    "N, A, B = [20, 2, 5]    \n",
    "print(solve(N, A, B)) # 84\n",
    "\n",
    "N, A, B = [10, 1, 2]\n",
    "print(solve(N, A, B)) # 13\n",
    "\n",
    "N, A, B = [100, 4, 16]\n",
    "print(solve(N, A, B)) # 4554"
   ]
  },
  {
   "cell_type": "markdown",
   "metadata": {
    "colab_type": "text",
    "id": "muAs3b0FQCrE"
   },
   "source": [
    "# IT 一般論\n",
    "- シンプルなシステムからの成長\n",
    "- ハード構成の基礎：CPU・メモリ・HDD、キャッシュ\n",
    "- データ構造とアルゴリズム\n",
    "    - 連結リストと配列：どんな特性があるか？\n",
    "    - スタックとキュー：いつどこで使うか？どう実装するか？"
   ]
  },
  {
   "cell_type": "markdown",
   "metadata": {
    "colab_type": "text",
    "id": "rG0MP5ojUfVz"
   },
   "source": [
    "## 前回\n",
    "- システムの成長についていろいろ見た\n",
    "- ちょっと復習してからハードの構成へ"
   ]
  },
  {
   "cell_type": "markdown",
   "metadata": {
    "colab_type": "text",
    "id": "1UbP2atWfqC5"
   },
   "source": [
    "### そもそもなぜ IT 一般論の話をしだしたか\n",
    "- データ構造の話をするため\n",
    "- メモリの話をしないとリストと配列（とベクター）の違いが説明できない\n",
    "    - 一言でいうと、リストと配列はメモリ上にどうデータを置くかが違う\n",
    "    - データの置き方によってデータアクセスの仕方が変わり、「何が得意か」が変わる\n",
    "        - リスト：要素の追加・削除に都合がいいが、ランダムアクセスと値の更新処理に弱い\n",
    "        - 配列：要素の追加・削除は不便だが、ランダムアクセスと値の更新処理に強い\n",
    "        - ベクター：要素の追加・削除に比較的強く、ランダムアクセスと値の更新処理も強い\n",
    "    - 単純にベクターだけ使っていればいいわけでもない：メモリ効率という観点\n",
    "- メモリ単独の話をしても多分わからない\n",
    "- 統計学がらみの話は割とすぐにパフォーマンス（速度）の話になる\n",
    "    - いわゆるビッグデータというやつで、大量のデータを何回も計算しないといけない\n",
    "    - 計算を速くしないとやっていられない\n",
    "    - GPU 使うなり何なり割とすぐにハード面の話が出てくる\n",
    "        - 「メモリを積もう」みたいな話も出てくる\n",
    "        - 計算速度は直接には CPU の役割だったり"
   ]
  },
  {
   "cell_type": "markdown",
   "metadata": {
    "colab_type": "text",
    "id": "W3V8ZgibxaJ2"
   },
   "source": [
    "## シンプルなシステムからの成長\n",
    "- 適当な Web システムを考える。\n",
    "- 具体的にはショッピングサイトなどをイメージすればいい。\n",
    "    - 何を考えても大きくは変わらない話をする。\n",
    "- サーバー構成やインフラ設計という言葉で調べると色々出てくる\n",
    "- サーバー構成の画像：[Google 画像検索](https://www.google.com/search?q=%E3%82%B5%E3%83%BC%E3%83%90%E3%83%BC%E6%A7%8B%E6%88%90&rlz=1C1ASVC_jaJP896JP896&sxsrf=ALeKk007zhevr0R6rfod1u4Tbp4vA3vp5w:1593517064700&source=lnms&tbm=isch&sa=X&ved=2ahUKEwikv9bUuanqAhUbH3AKHcc_DCMQ_AUoAXoECAwQAw&biw=1141&bih=602&dpr=1.5#imgrc=7W7rkBKsHQ4IXM)"
   ]
  },
  {
   "cell_type": "markdown",
   "metadata": {
    "colab_type": "text",
    "id": "_9T7cs1C5nFz"
   },
   "source": [
    "### 大事で面倒な話：「サーバー」とは何か？\n",
    "- 何でもいいが、とりあえず一つ[参考ページ](https://www.marketingbank.jp/special/cat02/173.php)\n",
    "- 物理的なモノとソフトウェア両方ある\n",
    "    - [物理的なモノの画像](https://gomihikaku.com/column/img/server-machine-disposal.png)\n",
    "- 1 つの物理的なサーバーの中に複数のソフトウェアとしてのサーバーが入っていることがある\n",
    "    - 小規模システムならよくある\n",
    "- 仮想化・コンテナみたいな話をしだすともっと面倒なことになる\n",
    "- 今回も多少は詳細化するが、まずは「一度は聞いたことがある」レベルにするのが目的。"
   ]
  },
  {
   "cell_type": "markdown",
   "metadata": {
    "colab_type": "text",
    "id": "WYR5meHG7CWc"
   },
   "source": [
    "### 基本構成\n",
    "- ソフトウェアとしてのサーバーが 3 つ\n",
    "    - [基本的な構成の画像](https://www.helena.jp/wp/wp-content/uploads/2019/05/zu_kosei001.png)\n",
    "    - Web サーバー\n",
    "    - アプリケーションサーバー\n",
    "    - データベースサーバー\n",
    "- Web サーバー：Apache・Nginx：単純に HTML を返すサーバー\n",
    "- アプリケーションサーバー：いわゆる「アプリケーション」。プログラマーがプログラムを書く部分で、ログインユーザーごとに処理が分かれるとか。最終的に Web サーバーがクライアントに返す HTML の形でデータをまとめる。もちろんここでデータベースのアクセスもある。\n",
    "- データベースサーバー：顧客情報や製品情報を持っている。"
   ]
  },
  {
   "cell_type": "markdown",
   "metadata": {
    "colab_type": "text",
    "id": "CLHswYgp6mSy"
   },
   "source": [
    "### 一番単純\n",
    "- 物理サーバーは 1 つ\n",
    "- ソフトウェアとしての Web サーバー・アプリケーションサーバー・データベースサーバーが載っている。\n",
    "- 開発者が開発するときは実際にこういう状況で開発している（こともある）"
   ]
  },
  {
   "cell_type": "markdown",
   "metadata": {
    "colab_type": "text",
    "id": "kOU00OK38gtI"
   },
   "source": [
    "### 状況に応じていろいろ分かれる\n",
    "- 例えば実際にシステムにかかる負荷によって変わる\n",
    "- データベースの負荷が高い\n",
    "    - 物理サーバーを追加してデータベースサーバーをそちらに載せ替える。\n",
    "- Web のリクエストがさばききれないとき\n",
    "    - Web サーバーを切り分けた上で 2 台にわける\n",
    "    - アプリケーションサーバー・データベースサーバーは 1 つの物理サーバーに載せる。"
   ]
  },
  {
   "cell_type": "markdown",
   "metadata": {
    "colab_type": "text",
    "id": "iwTYkfsn9Fma"
   },
   "source": [
    "### 他の状況\n",
    "- データベースの読み込み負荷が高い：Memcache や Redis のようなキャッシュサーバーを（物理サーバーごと）追加する。\n",
    "- セキュリティが気になってきた：Web サーバーの前にセキュリティ用のファイアーウォール\n",
    "    - [参考画像](https://www.ntt.com/content/dam/nttcom/hq/jp/business/services/network/internet-connect/ocn-business/bocn/knowledge/img/archive09_thum02.png)\n",
    "- セキュリティが絡むとサーバー構成がまた複雑になる。\n",
    "    - 上記画像参考\n",
    "    - 直接外とやり取りするところに外部向けファイアーウォール\n",
    "    - DMZ の中で外部とやり取りするサーバーが置かれる：いわゆるアプリケーションサーバー\n",
    "    - アプリケーションサーバーと「内部」がやり取りするところにまたファイアウォールを置く\n",
    "        - 「内部」というのは顧客データベースなどの社外に公開しないサーバー\n",
    "        - ファイアウォールを二重に置くことで、絶対に触ってはいけないところに対して二重の防御を敷く\n",
    "        - 外部公開しているサーバーがクラックされても内部にアクセスできないようにする\n",
    "        - 内部から危険な情報を外に出せないようにする"
   ]
  },
  {
   "cell_type": "markdown",
   "metadata": {
    "colab_type": "text",
    "id": "czi_wJx1MFCq"
   },
   "source": [
    "## ハードウェア構成の基礎\n",
    "- CPU、キャッシュ（キャッシュメモリ）、メモリ、HDD・SSD、キーボード・マウスくらいまでの大まかな話"
   ]
  },
  {
   "cell_type": "markdown",
   "metadata": {
    "colab_type": "text",
    "id": "X_HoXNPfhcfo"
   },
   "source": [
    "### コンピューター構成の5大要素\n",
    "- [参考](http://pasokonshosinsha.sakura.ne.jp/page089.html)\n",
    "- 制御装置：命令の実行・周辺装置の制御。担当は CPU\n",
    "    - 人間でいうと脳やせき髄\n",
    "- 演算装置：データを処理。担当は CPU\n",
    "    - 人間でいうと脳\n",
    "- 記憶装置：データを保存。担当はメモリ・ハードディスク・SSD\n",
    "    - 人間でいうと脳（短期記憶）、「机」、「本棚」\n",
    "    - それぞれの「記憶装置」に意味がある\n",
    "    - 短期記憶は容量が小さいが高速に計算に回せる\n",
    "    - 机は本が置ける\n",
    "        - 本棚に取りに行く手間が省ける分だけデータを取り出すのは速い\n",
    "        - もちろん脳内短期記憶から取り出すよりは遅い\n",
    "        - 本を置ける量は本棚より少ない\n",
    "    - 本棚はたくさん本が置ける\n",
    "        - データを本棚まで取りに行くのは大変（時間がかかる）\n",
    "        - たくさんモノが置ける\n",
    "- 入力装置：データを受けつける。担当はキーボード・マウスなど\n",
    "- 出力装置：データや処理の結果を外に出す。ディスプレイ・プリンタ等"
   ]
  },
  {
   "cell_type": "markdown",
   "metadata": {
    "colab_type": "text",
    "id": "QqoXVr6ChtFB"
   },
   "source": [
    "### CPU からキャッシュ\n",
    "- [参考の図](https://www.softek.co.jp/SPG/Pgi/TIPS/public/general/multicore-para.html)\n",
    "- 次のセルでもう少し細かい説明\n",
    "\n",
    "<img src=\"https://www.softek.co.jp/SPG/images2/memory-path.gif\">"
   ]
  },
  {
   "cell_type": "markdown",
   "metadata": {
    "colab_type": "text",
    "id": "0PuK8dEaiTdk"
   },
   "source": [
    "#### 補足コメント\n",
    "- CPU にはコアという概念がある\n",
    "    - 「CPU がクアッドコア」とか何とかいうときの「コア」\n",
    "    - 最近の分散コンピューティングで重要な要素\n",
    "        - 他人の CPU を借りることもよくある\n",
    "        - 「コロナの解析のためにあなたのマシンパワーを貸してください」\n",
    "        - 「ブロックチェーン・ビットコインの計算をさせていた」\n",
    "- 各コアが計算の単位：コアがたくさんあると並列に計算させられて、処理速度が上がる（類の処理もある）\n",
    "    - コアがたくさんある CPU を使うと個人のコンピューターレベルでもある程度並列処理できる\n",
    "    - 構成はいろいろあるが「スパコン」でも適当な意味で CPU をたくさん並べて使っている\n",
    "        - 1 つ 1 つのスペックが高いコンピューターをたくさん並べる\n",
    "        - 1 つ 1 つのスペックは大したことがないかもしれないが、冗談のようなコンピューター数・並列数で性能を出す\n",
    "        - Google などではトラックに「PC」レベルのコンピューターを大量に積み込み、それで並列計算させていることもあるらしい\n",
    "            - しばらく使っていると各トラックごとにどんどんマシンが壊れていく\n",
    "            - いくつ以上のマシンが壊れたらトラックに積んであるマシンをすべて廃棄して全取り換えする、みたいな話を見たことがある\n",
    "            - どれが故障しているかをいちいち調べるよりも一定の稼働率から下がったら全部つぶす方が「コスパが高い」\n",
    "            - トヨタなどで「不良品のねじが入ったらその箱は全部捨てる」みたいなエピソードを聞くが、まさにそういう感じ\n",
    "            - スケールによってコスパの概念自体が大きく変わるのも大事な認識\n",
    "- コアに対してキャッシュがある\n",
    "    - 距離が近い順に L1, L2, L3\n",
    "        - キャッシュの容量が大きくなっていく順\n",
    "        - 速度は落ちていく\n",
    "    - キャッシュの後ろにいわゆるメモリがある\n",
    "- [参考ページ](http://ec.nikkeibp.co.jp/item/contents/brouse/t_P84800.pdf)\n",
    "    - レジスターやら何やら細かく見ていくといろいろある\n",
    "    - 大事なこと\n",
    "        - 何はともあれ、現実的にそういう風にできている\n",
    "        - 必要だからそうなっている：少なくとも何かしら、歴史的な理由はある"
   ]
  },
  {
   "cell_type": "markdown",
   "metadata": {
    "colab_type": "text",
    "id": "eX-RgkLQjMPI"
   },
   "source": [
    "### 複数のキャッシュレベル\n",
    "- 前にやった[レイテンシー比較](https://github.com/donnemartin/system-design-primer/blob/master/README-ja.md#%E5%85%A8%E3%81%A6%E3%81%AE%E3%83%97%E3%83%AD%E3%82%B0%E3%83%A9%E3%83%9E%E3%83%BC%E3%81%8C%E7%9F%A5%E3%82%8B%E3%81%B9%E3%81%8D%E3%83%AC%E3%82%A4%E3%83%86%E3%83%B3%E3%82%B7%E3%83%BC%E5%80%A4)\n",
    "    - L1 **cache** reference  \n",
    "    - Read 1 MB **sequentially**\n",
    "- 次のセルで細かい説明\n",
    "\n",
    "```\n",
    "Latency Comparison Numbers\n",
    "--------------------------\n",
    "L1 cache reference                           0.5 ns\n",
    "Branch mispredict                            5   ns\n",
    "L2 cache reference                           7   ns                      14x L1 cache\n",
    "Mutex lock/unlock                           25   ns\n",
    "Main memory reference                      100   ns                      20x L2 cache, 200x L1 cache\n",
    "Compress 1K bytes with Zippy            10,000   ns       10 us\n",
    "Send 1 KB bytes over 1 Gbps network     10,000   ns       10 us\n",
    "Read 4 KB randomly from SSD*           150,000   ns      150 us          ~1GB/sec SSD\n",
    "Read 1 MB sequentially from memory     250,000   ns      250 us\n",
    "Round trip within same datacenter      500,000   ns      500 us\n",
    "Read 1 MB sequentially from SSD*     1,000,000   ns    1,000 us    1 ms  ~1GB/sec SSD, 4X memory\n",
    "Disk seek                           10,000,000   ns   10,000 us   10 ms  20x datacenter roundtrip\n",
    "Read 1 MB sequentially from 1 Gbps  10,000,000   ns   10,000 us   10 ms  40x memory, 10X SSD\n",
    "Read 1 MB sequentially from disk    30,000,000   ns   30,000 us   30 ms 120x memory, 30X SSD\n",
    "Send packet CA->Netherlands->CA    150,000,000   ns  150,000 us  150 ms\n",
    "```"
   ]
  },
  {
   "cell_type": "markdown",
   "metadata": {
    "colab_type": "text",
    "id": "8kFShiH4jLUm"
   },
   "source": [
    "#### 追加説明\n",
    "- 計算速度からの重要性\n",
    "    - 「暗算できれば一番速い」\n",
    "        - L1～L3 のキャッシュを使った計算がいわゆる暗算\n",
    "    - スピードのためにはどれだけキャッシュで処理できるかが勝負\n",
    "    - 数値計算でも大事\n",
    "    - データベースでも大事（なるべくオンメモリのデータですませたい）\n",
    "- キャッシュの話いろいろ\n",
    "    - [参考その1](https://www.uquest.co.jp/embedded/learning/lecture12.html)：次の補足で軽く触れる\n",
    "    - [参考：Wikipedia、記憶階層](https://ja.wikipedia.org/wiki/%E3%82%AD%E3%83%A3%E3%83%83%E3%82%B7%E3%83%A5_(%E3%82%B3%E3%83%B3%E3%83%94%E3%83%A5%E3%83%BC%E3%82%BF%E3%82%B7%E3%82%B9%E3%83%86%E3%83%A0))        \n",
    "    - [参考：Wikipedia](https://ja.wikipedia.org/wiki/%E3%82%AD%E3%83%A3%E3%83%83%E3%82%B7%E3%83%A5%E3%83%A1%E3%83%A2%E3%83%AA)\n",
    "- [参考ページ：なぜCPUにはL1・L2・L3というように複数のキャッシュレベルがあるのか？](https://gigazine.net/news/20160912-cpu-cache-level/)\n",
    "\n",
    "> 「それぞれのキャッシュには役割があるから」\n",
    "\n",
    "> 「キャッシュは容量が大きいほどデータ転送速度が遅く、記憶密度が高く、省電力という性質を持つため、必要性に応じて異なる種類のキャッシュを使い分けるのが有利だから」\n",
    "\n",
    "- 省電力の意義：単純にエコなだけではない\n",
    "    - 省電力だと熱も出にくい\n",
    "    - 熱が高くなると熱暴走が起こりうる：逆に計算効率が悪くなる\n",
    "    - マシンを物理的に傷つけにくくので故障もしにくくなる"
   ]
  },
  {
   "cell_type": "markdown",
   "metadata": {
    "colab_type": "text",
    "id": "_zr6nFe8fGID"
   },
   "source": [
    "### 補足：いろいろなキャッシュ\n",
    "- キャッシュはいろいろなところにある\n",
    "    - ブラウザのキャッシュ：一度読み込んだwebサイトのデータを取っておいて次に読み込むときのロードを速くする\n",
    "        - サイトのロゴなどの画像はそうそう変わらないうえ、画像ファイルは重い（容量が大きい）のでダウンロードにも時間がかかる\n",
    "            - それだけ保管しておく意義がある\n",
    "        - 「自分だけサイトが更新されない？」みたいなことがあったら、それはキャッシュを見ている可能性がある\n",
    "    - webシステムでのメモリデータベース（メモリキャッシュ）\n",
    "    - データベースを使うときのデータベースサーバーでのメモリキャッシュ（Redis などのメモリデータベースのキャッシュとはまた違う）\n",
    "- ブラウザのキャッシュについては、「ブラウザが重くなった時」などで調べると「キャッシュを削除しよう」みたいな話が出てくる。\n",
    "    - cf. [このページ](https://boxil.jp/beyond/a6939/)\n",
    "        - 「GoogleのWebブラウザ「Chrome（クローム）」が重いときに考えられる原因には、キャッシュや履歴などの問題が考えられます。」\n",
    "- ここでコメントしたタイプの「キャッシュ」は日々の PC 利用を快適にする上でも大事\n",
    "    - 快適にする上での情報収集やその意味を理解する上で大事というべきか"
   ]
  },
  {
   "cell_type": "markdown",
   "metadata": {
    "colab_type": "text",
    "id": "BefO3ExW1SGI"
   },
   "source": [
    "### 補足その 2：「キャッシュ」があるとなぜ重くなる？\n",
    "- ブラウザの話\n",
    "- キャッシュが大量にあると必要なキャッシュを探す手間が出てくる\n",
    "- 数十くらいの中ならまだしも、数百・数千・数万から探すとなると探すだけで時間がかかる\n",
    "- ブラウザを長いこと使っていると、実際にキャッシュがそのくらいに膨れてくる\n",
    "- 削除して余計な検索処理（計算）がなくなれば、かえって早くなる\n",
    "- こういうところで「検索」「探索」問題が出てくる\n",
    "    - Google が出てきたのもある意味でこういう文脈\n",
    "    - 検索はデータ構造・アルゴリズムの中でも一番基本的なテーマ"
   ]
  },
  {
   "cell_type": "markdown",
   "metadata": {
    "colab_type": "text",
    "id": "x3ChR-TSlSF1"
   },
   "source": [
    "### 補足\n",
    "- 世の勉強系基本コンテンツの主流はたいてい次の 2 つ\n",
    "    - 論理的完全性\n",
    "    - 網羅性\n",
    "- 前者の基本コンテンツとその内容は大事だが、構造的に全体像・そこから広がる世界の広がりが見えにくい\n",
    "- もちろん各種テーマ特化型のコンテンツやオムニバス型のコンテンツもある\n",
    "- 状況に合わせて適切なコンテンツを組み合わせて勉強するべき\n",
    "- 複数の本をあえて並行して勉強する意義・意味もある\n"
   ]
  },
  {
   "cell_type": "markdown",
   "metadata": {
    "colab_type": "text",
    "id": "VZn4HcgvNIZu"
   },
   "source": [
    "## データ構造とアルゴリズム\n",
    "- 鶏と卵で、同時に考えるべきテーマ：何かをするためにはどンな風にデータを持ってどんな処理をすれば効率がいいか？\n",
    "    - 効率にもいろいろな観点がある\n",
    "    - 単純な処理速度・メモリ消費量・計算量\n",
    "- 「データの持ち方」「データ構造」に関して軽く\n",
    "    - 本棚をどう整理するか？\n",
    "        - 本の名前順\n",
    "        - 分野を分けたうえで名前順\n",
    "        - 手元に置くのはよく読む本、近い本棚には比較的読む本を分野ごとに名前順、あまり読まない本は押し入れに適当に詰め込む\n",
    "        - 図書館のような大規模なところでは「閉架」という概念がある\n",
    "    - 目的に応じて適切な本の置き方は変わる\n",
    "        - 蔵書の数や質でも変わる\n",
    "        - 図書館なのか本屋なのか\n",
    "            - 本屋だと平積み・面陳列といった概念もある\n",
    "            - 図書館情報学という分野さえある\n",
    "    - どんなデータ構造がいいかはその時々で変わる"
   ]
  },
  {
   "cell_type": "markdown",
   "metadata": {
    "colab_type": "text",
    "id": "eonerSWFNeYK"
   },
   "source": [
    "### （連結）リストと配列\n",
    "- 何が違うのか？\n",
    "- **メモリ上のデータの配置やデータの「つなぎ方」**\n",
    "    - メモ：zoom の機能で両方の図を描こう\n",
    "- 状況によって使い分ける"
   ]
  },
  {
   "cell_type": "markdown",
   "metadata": {
    "colab_type": "text",
    "id": "EyWSwrjmrF1_"
   },
   "source": [
    "### リストの特徴\n",
    "- 要素数は変わることが前提\n",
    "- データを（先頭に）追加するのは簡単\n",
    "- データの削除も比較的簡単\n",
    "- 先頭から 1 つずつ順に処理するならそれなり\n",
    "- 検索やデータの書き換えが遅い：連結構造をたどる必要がある"
   ]
  },
  {
   "cell_type": "markdown",
   "metadata": {
    "colab_type": "text",
    "id": "tyanBhJhrSae"
   },
   "source": [
    "### 配列の特徴\n",
    "- 要素数は固定\n",
    "- データの追加・削除が重め\n",
    "    - 気分的にはその都度メモリ領域を確保しなおす必要がある：特に追加\n",
    "- データの参照・書き換えが速い：アドレスが連続なので先頭さえわかれば「そこから何番先」と直指定できる\n",
    "- 処理によっては「リストで遅ければ配列で書き直す」みたいなことはよくある"
   ]
  },
  {
   "cell_type": "markdown",
   "metadata": {
    "colab_type": "text",
    "id": "pp10lhpLrV2b"
   },
   "source": [
    "### ベクター（[参考](https://stackoverrun.com/ja/q/8964376)）\n",
    "- 「要素数可変の配列」\n",
    "    - F# だと [ResizeArray](https://fsprojects.github.io/FSharpx.Collections/reference/microsoft-fsharp-collections-resizearray.html)\n",
    "- リストのように要素追加・削除が比較的低コストで、要素の参照・書き換えも配列のように速い\n",
    "- 何が問題か：要素の追加が楽なように余計なメモリ領域を確保する\n",
    "- ハードウェア組み込みプログラムのように、メモリがカツカツの状況では使えない\n",
    "    - 「メモリがカツカツ」という意味が理解できるか？"
   ]
  },
  {
   "cell_type": "markdown",
   "metadata": {
    "colab_type": "text",
    "id": "FUDsSXkDVpie"
   },
   "source": [
    "## シーケンシャルアクセス\n",
    "- レイテンシーのところでも出てきた\n",
    "- 配列でもリストでも、「先頭から順番になめていく」こと"
   ]
  },
  {
   "cell_type": "markdown",
   "metadata": {
    "colab_type": "text",
    "id": "GVBfHdtjWoPI"
   },
   "source": [
    "### 参考：HDD でのシーケンシャルアクセス・断片化・ディスクデフラグ\n",
    "- ストレージとして HDD しかなかった頃、「PC が重くなったらデフラグしてみよう」という記事はよくあった\n",
    "- [パソコンが重い原因は？PCを軽くする15個改善術と高速化の方法](https://ferret-plus.com/7815)\n",
    "\n",
    "> デフラグとは、デフラグメンテーション（defragmentation）の略です。PCはハードディスクに読み書きを行っていますが、何度も繰り返すうちに連続した広い領域が確保できなくなり、狭い複数の領域に分散して書き込むようになります。データが分散している状態を「断片化」といい、断片化しているとファイルを読み込むのが遅くなり、PC速度が低下します。\n",
    "\n",
    "> 断片化したデータを連続した状態に整理することをデフラグといいます。デフラグを定期的に行うことで、読み込み、書き込みが速くなるだけではなく、PC起動が早くなったり、ハードディスクの残り空き容量が増える、というメリットがあります。"
   ]
  },
  {
   "cell_type": "markdown",
   "metadata": {
    "colab_type": "text",
    "id": "2WhPH2H5WyPe"
   },
   "source": [
    "### なぜ遅くなるのか\n",
    "- ディスク上でデータ断片化すると何が問題か？\n",
    "- 例：動画が見たい\n",
    "    - 動画用のファイルが HDD 上でいろいろなところに散らばっている\n",
    "    - ある個所からある個所に行くとき、断片化していると、HDD の読み取りの針を物理的に移動させないといけない\n",
    "    - この時間が長い：処理が重くなる原因\n",
    "    - 気分的には「連結リスト」\n",
    "- こうした話題は何だかんだで普段の PC ライフにも絡んでくる\n",
    "    - 最近は OS を入れる部分は SSD、データを大量に入れる部分は HDD という構成がよくある\n",
    "    - SSD はまだ高いので HDD は死んでいない"
   ]
  },
  {
   "cell_type": "markdown",
   "metadata": {
    "colab_type": "text",
    "id": "lzqZUNGSXshQ"
   },
   "source": [
    "### 補足：なぜ空き容量が増えるのか\n",
    "- [参考](https://www.pro.logitec.co.jp/houjin/usernavigation/hddssd/20190207/#:~:text=HDD%E3%81%AB%E3%83%87%E3%83%BC%E3%82%BF%E3%82%92%E6%9B%B8%E3%81%8D%E8%BE%BC%E3%82%80%E6%99%82%E3%80%81%E3%83%87%E3%83%BC%E3%82%BF%E3%81%AF%E3%82%BB%E3%82%AF%E3%82%BF%E3%81%A8%E3%81%84%E3%81%86,%E9%A0%98%E5%9F%9F%E3%81%AB%E4%BF%9D%E7%AE%A1%E3%81%95%E3%82%8C%E3%81%BE%E3%81%99%E3%80%82)\n",
    "\n",
    "> HDDにデータを書き込む時、データはセクタという最小単位（主に512バイトまたは4,096バイト）に切り分けられ、プラッタの同心円状に作られているトラックと呼ばれる領域に保管されます。\n",
    "\n",
    "- データ書き込みには最小単位がある\n",
    "- 断片化して「最小単位」未満のデータで書きこまれてしまっていると、その分容量が無駄になる。\n",
    "- デフラグするとこの無駄が解放される\n",
    "- 「配列では一括でズドンとメモリ領域を取る」という「ズドンと取った」状態はこんな感じ。\n",
    "    - 他に触らせない・触らせられないのでこの手の無駄ができる\n",
    "    - ベクターで無駄が出るといったのはこういう状況"
   ]
  },
  {
   "cell_type": "code",
   "execution_count": null,
   "metadata": {
    "colab": {},
    "colab_type": "code",
    "id": "O_n4O2pBZ4N7"
   },
   "outputs": [],
   "source": []
  },
  {
   "cell_type": "code",
   "execution_count": null,
   "metadata": {
    "colab": {},
    "colab_type": "code",
    "id": "f2pk5rw3Z85n"
   },
   "outputs": [],
   "source": []
  }
 ],
 "metadata": {
  "colab": {
   "collapsed_sections": [],
   "name": "2020-07-12_hw.ipynb",
   "provenance": [
    {
     "file_id": "1I9bGhteFcsuk37_86sUkatSTzDMD55bl",
     "timestamp": 1593327407554
    },
    {
     "file_id": "1mWsGop81VnfsQG7y3FI5a67P_VlPaOYJ",
     "timestamp": 1592657632462
    }
   ],
   "toc_visible": true
  },
  "kernelspec": {
   "display_name": "Python 3",
   "language": "python",
   "name": "python3"
  },
  "language_info": {
   "codemirror_mode": {
    "name": "ipython",
    "version": 3
   },
   "file_extension": ".py",
   "mimetype": "text/x-python",
   "name": "python",
   "nbconvert_exporter": "python",
   "pygments_lexer": "ipython3",
   "version": "3.8.3"
  }
 },
 "nbformat": 4,
 "nbformat_minor": 1
}
