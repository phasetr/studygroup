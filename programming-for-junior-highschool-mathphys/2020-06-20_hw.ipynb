{
 "cells": [
  {
   "cell_type": "markdown",
   "metadata": {
    "colab_type": "text",
    "id": "UeHS9k8PQlJt"
   },
   "source": [
    "# 2020-06-20 課題\n",
    "- [コンテンツの案内ページ](https://phasetr.com/mthlp1/)\n",
    "- [GitHub へのリンク](https://github.com/phasetr/studygroup/programming-for-junior-highschool-mathphys)\n",
    "- matplotlib を忘れないように、簡単なグラフをいくつか描いてみてください。\n",
    "- TeX でいろいろな式を書いてみましょう。\n",
    "- 実際に競プロの問題をいくつか解いてみましょう。まずは [Beginners' selection](https://atcoder.jp/contests/abs) をやっていきます。\n",
    "    - 今回は [ABC087B](https://atcoder.jp/contests/abs/tasks/abc087_b) と [ABC083B](https://atcoder.jp/contests/abs/tasks/abc083_b) です。\n",
    "    - [Pythonで10問解いてみた記事](https://qiita.com/KoyanagiHitoshi/items/c5e82841b8d0f750851d)もあるので参考にしてください。\n",
    "    - 他にも[ここのページ](https://qiita.com/drken/items/fd4e5e3630d0f5859067)を一通り眺めてみてください。"
   ]
  },
  {
   "cell_type": "markdown",
   "metadata": {
    "colab_type": "text",
    "id": "eHijM0qZCnuk"
   },
   "source": [
    "# メモ：先に進む前に録画してあるか確認しよう"
   ]
  },
  {
   "cell_type": "markdown",
   "metadata": {
    "colab_type": "text",
    "id": "UL1CT7FxWS2W"
   },
   "source": [
    "# 自分用メモ\n",
    "- 常微分方程式で漸化式から微分方程式に流れる部分の書き直し\n",
    "- 勉強のおすすめ：AtCoder はどうか？C++の解説もあるし、仕事・評価にも割と直結するし、具体的な問題つきで勉強できる。\n",
    "    - https://atcoder.jp/contests/apg4b\n",
    "        - C++のコードをPythonで書き直してみるだけでもかなりの勉強になるはず\n",
    "    - Python によるアルゴリズム https://qiita.com/cabernet_rock/items/cdd12b07d213b67d0530\n",
    "- 文と式の説明\n",
    "- IT 基礎知識みたいなやつ\n",
    "- 数値計算に関わるクラス・オブジェクトの説明\n",
    "    - まずは辞書・構造体の拡大版として導入するか？\n",
    "    - 変な誤解を生まないような書き方を考える\n",
    "- 遅延型方程式に対するコメント追加\n",
    "- import に関する実演\n",
    "- matplotlib のチュートリアルを読もうの会\n",
    "- matplotlib 回では実際に matplotlib のチュートリアルを読もう\n",
    "    - 公式情報に触れる重要性\n",
    "    - 古い情報が古いと書いてあったりする：たとえば `pylab`\n",
    "        - [参考: これの Note](https://matplotlib.org/tutorials/introductory/usage.html#sphx-glr-tutorials-introductory-usage-py)\n",
    "    - [Gallery](https://matplotlib.org/gallery/index.html#user-interfaces)\n",
    "        - 見ていて面白い\n",
    "        - 「どこをいじるとどう変わるか」が視覚的にわかる\n",
    "        - 公式情報なのできちんとアップデートしてくれている（はず）\n",
    "        - 公式情報にソースがあるので自分でいろいろ書き換えていて破滅したとき、必ずオリジナルを復元できる\n",
    "- Jupyter （IPython）でのはまりどころ解説を作ろう\n",
    "    - いったん変数を作ると他のセルでも読み込める（読み込めてしまう）\n",
    "    - 「セルを上から順に読み込まないと動かない」問題の原因\n",
    "    - カーネル再起動まで変数は残り続ける"
   ]
  },
  {
   "cell_type": "markdown",
   "metadata": {
    "colab_type": "text",
    "id": "MDGadbjNGtiY"
   },
   "source": [
    "# Matplotlib\n",
    "- とりあえず本当に簡単な図を描く"
   ]
  },
  {
   "cell_type": "code",
   "execution_count": null,
   "metadata": {
    "colab": {
     "base_uri": "https://localhost:8080/",
     "height": 265
    },
    "colab_type": "code",
    "executionInfo": {
     "elapsed": 1436,
     "status": "ok",
     "timestamp": 1592787910225,
     "user": {
      "displayName": "Yoshitsugu Sekine",
      "photoUrl": "https://lh3.googleusercontent.com/a-/AOh14GimsNckrAflr-jMDGQwV_kIJ56EjAWYV8INkpUv=s64",
      "userId": "13524401322013959426"
     },
     "user_tz": -540
    },
    "id": "e0LE3OzIG1Ug",
    "outputId": "2722c0fe-3630-48cb-db8c-4f43fdbb3691"
   },
   "outputs": [
    {
     "data": {
      "image/png": "[encoded data removed]",
      "text/plain": [
       "<Figure size 432x288 with 1 Axes>"
      ]
     },
     "metadata": {
      "needs_background": "light",
      "tags": []
     },
     "output_type": "display_data"
    }
   ],
   "source": [
    "import numpy as np\n",
    "import matplotlib.pyplot as plt\n",
    "\n",
    "x = np.linspace(-4, 4, 201)\n",
    "y1 = x**2 - 2 * x + 1\n",
    "y2 = x**3 + 2 * x + 3\n",
    "y3 = x**4 - x**2 - 2 * x + 3\n",
    "\n",
    "plt.plot(x, y1, label=\"y1\")\n",
    "plt.plot(x, y2, label=\"y2\")\n",
    "plt.plot(x, y3, label=\"y3\")\n",
    "\n",
    "plt.grid()\n",
    "plt.legend()\n",
    "#plt.axes().set_aspect('equal', 'datalim') # アスペクト比を合わせる\n",
    "plt.show()"
   ]
  },
  {
   "cell_type": "markdown",
   "metadata": {
    "colab_type": "text",
    "id": "wfwkEexHjwpi"
   },
   "source": [
    "# 自然言語処理100本ノック\n",
    "- この間紹介したらやってみたくなったので、（勉強会の課題ネタ競プロを放棄して眺めてみた）\n",
    "- [URL: 言語処理100本ノック 2020 (Rev 1)](https://nlp100.github.io/ja/)\n",
    "    - [Qiita 参考](https://qiita.com/hi-asano/items/3c17943ce06f9999ec6f)\n",
    "    - [解答例まとめ](https://qiita.com/yamaru/items/0cac24710626333bd693)\n",
    "    - [解答 00-39](https://qiita.com/tsal3290s/items/028b22bcd9ca29f08ac9)\n",
    "- 文字列に限定した競プロの趣もある"
   ]
  },
  {
   "cell_type": "markdown",
   "metadata": {
    "colab_type": "text",
    "id": "SAMvZZor9T8s"
   },
   "source": [
    "## 第1章: 準備運動 00. 文字列の逆順\n",
    "- [URL](https://nlp100.github.io/ja/ch01.html#00-%E6%96%87%E5%AD%97%E5%88%97%E3%81%AE%E9%80%86%E9%A0%86)\n",
    "\n",
    "> 文字列”stressed”の文字を逆に（末尾から先頭に向かって）並べた文字列を得よ．"
   ]
  },
  {
   "cell_type": "code",
   "execution_count": null,
   "metadata": {
    "colab": {
     "base_uri": "https://localhost:8080/",
     "height": 52
    },
    "colab_type": "code",
    "executionInfo": {
     "elapsed": 590,
     "status": "ok",
     "timestamp": 1592962899068,
     "user": {
      "displayName": "Yoshitsugu Sekine",
      "photoUrl": "https://lh3.googleusercontent.com/a-/AOh14GimsNckrAflr-jMDGQwV_kIJ56EjAWYV8INkpUv=s64",
      "userId": "13524401322013959426"
     },
     "user_tz": -540
    },
    "id": "G-Dh8CDw9cL5",
    "outputId": "06fc16d6-3d24-47d4-ae32-5fec00d18348"
   },
   "outputs": [
    {
     "name": "stdout",
     "output_type": "stream",
     "text": [
      "desserts\n",
      "desserts\n"
     ]
    }
   ],
   "source": [
    "print(\"\".join(list(reversed(\"stressed\"))))\n",
    "print(\"stressed\"[::-1])"
   ]
  },
  {
   "cell_type": "code",
   "execution_count": null,
   "metadata": {
    "colab": {
     "base_uri": "https://localhost:8080/",
     "height": 34
    },
    "colab_type": "code",
    "executionInfo": {
     "elapsed": 939,
     "status": "ok",
     "timestamp": 1593317272469,
     "user": {
      "displayName": "Yoshitsugu Sekine",
      "photoUrl": "https://lh3.googleusercontent.com/a-/AOh14GimsNckrAflr-jMDGQwV_kIJ56EjAWYV8INkpUv=s64",
      "userId": "13524401322013959426"
     },
     "user_tz": -540
    },
    "id": "zM3M98fWHA4K",
    "outputId": "9ddf8e53-6912-41f3-bfe1-5f4363f6befc"
   },
   "outputs": [
    {
     "data": {
      "text/plain": [
       "<reversed at 0x7fddcfffd5f8>"
      ]
     },
     "execution_count": 3,
     "metadata": {
      "tags": []
     },
     "output_type": "execute_result"
    }
   ],
   "source": [
    "reversed(\"stressed\")"
   ]
  },
  {
   "cell_type": "code",
   "execution_count": null,
   "metadata": {
    "colab": {
     "base_uri": "https://localhost:8080/",
     "height": 35
    },
    "colab_type": "code",
    "executionInfo": {
     "elapsed": 935,
     "status": "ok",
     "timestamp": 1593317259728,
     "user": {
      "displayName": "Yoshitsugu Sekine",
      "photoUrl": "https://lh3.googleusercontent.com/a-/AOh14GimsNckrAflr-jMDGQwV_kIJ56EjAWYV8INkpUv=s64",
      "userId": "13524401322013959426"
     },
     "user_tz": -540
    },
    "id": "AkB4r8QHG2CJ",
    "outputId": "9bad0da5-6dc1-4877-d34a-fe8feedf5df2"
   },
   "outputs": [
    {
     "data": {
      "application/vnd.google.colaboratory.intrinsic": {
       "type": "string"
      },
      "text/plain": [
       "'desserts'"
      ]
     },
     "execution_count": 2,
     "metadata": {
      "tags": []
     },
     "output_type": "execute_result"
    }
   ],
   "source": [
    "\"\".join(reversed(\"stressed\"))"
   ]
  },
  {
   "cell_type": "code",
   "execution_count": null,
   "metadata": {
    "colab": {
     "base_uri": "https://localhost:8080/",
     "height": 34
    },
    "colab_type": "code",
    "executionInfo": {
     "elapsed": 1206,
     "status": "ok",
     "timestamp": 1593317315122,
     "user": {
      "displayName": "Yoshitsugu Sekine",
      "photoUrl": "https://lh3.googleusercontent.com/a-/AOh14GimsNckrAflr-jMDGQwV_kIJ56EjAWYV8INkpUv=s64",
      "userId": "13524401322013959426"
     },
     "user_tz": -540
    },
    "id": "Xuw1PfqfHMOP",
    "outputId": "b72d561b-459f-40dc-92af-93740ebe21aa"
   },
   "outputs": [
    {
     "data": {
      "text/plain": [
       "['d', 'e', 's', 's', 'e', 'r', 't', 's']"
      ]
     },
     "execution_count": 4,
     "metadata": {
      "tags": []
     },
     "output_type": "execute_result"
    }
   ],
   "source": [
    "list(reversed(\"stressed\"))"
   ]
  },
  {
   "cell_type": "code",
   "execution_count": null,
   "metadata": {
    "colab": {
     "base_uri": "https://localhost:8080/",
     "height": 35
    },
    "colab_type": "code",
    "executionInfo": {
     "elapsed": 934,
     "status": "ok",
     "timestamp": 1593317356206,
     "user": {
      "displayName": "Yoshitsugu Sekine",
      "photoUrl": "https://lh3.googleusercontent.com/a-/AOh14GimsNckrAflr-jMDGQwV_kIJ56EjAWYV8INkpUv=s64",
      "userId": "13524401322013959426"
     },
     "user_tz": -540
    },
    "id": "qTRhI6HuHWAO",
    "outputId": "8cdfa7b5-25fe-4b6b-d07b-c3d4d8e9eb19"
   },
   "outputs": [
    {
     "data": {
      "application/vnd.google.colaboratory.intrinsic": {
       "type": "string"
      },
      "text/plain": [
       "'d|e|s|s|e|r|t|s'"
      ]
     },
     "execution_count": 5,
     "metadata": {
      "tags": []
     },
     "output_type": "execute_result"
    }
   ],
   "source": [
    "\"|\".join(list(reversed(\"stressed\")))"
   ]
  },
  {
   "cell_type": "code",
   "execution_count": null,
   "metadata": {
    "colab": {
     "base_uri": "https://localhost:8080/",
     "height": 35
    },
    "colab_type": "code",
    "executionInfo": {
     "elapsed": 705,
     "status": "ok",
     "timestamp": 1593317442009,
     "user": {
      "displayName": "Yoshitsugu Sekine",
      "photoUrl": "https://lh3.googleusercontent.com/a-/AOh14GimsNckrAflr-jMDGQwV_kIJ56EjAWYV8INkpUv=s64",
      "userId": "13524401322013959426"
     },
     "user_tz": -540
    },
    "id": "83b0YuLxHmC_",
    "outputId": "3b498df6-feae-4448-ce2f-50f2902624bb"
   },
   "outputs": [
    {
     "data": {
      "application/vnd.google.colaboratory.intrinsic": {
       "type": "string"
      },
      "text/plain": [
       "'srse'"
      ]
     },
     "execution_count": 8,
     "metadata": {
      "tags": []
     },
     "output_type": "execute_result"
    }
   ],
   "source": [
    "\"stressed\"[::2]"
   ]
  },
  {
   "cell_type": "markdown",
   "metadata": {
    "colab_type": "text",
    "id": "3h4uFjgz-IY4"
   },
   "source": [
    "## 第1章: 準備運動 01. 「パタトクカシーー」\n",
    "- [URL](https://nlp100.github.io/ja/ch01.html#01-%E3%83%91%E3%82%BF%E3%83%88%E3%82%AF%E3%82%AB%E3%82%B7%E3%83%BC%E3%83%BC)\n",
    "\n",
    "> - 「パタトクカシーー」という文字列の1,3,5,7文字目を取り出して連結した文字列を得よ．"
   ]
  },
  {
   "cell_type": "code",
   "execution_count": null,
   "metadata": {
    "colab": {
     "base_uri": "https://localhost:8080/",
     "height": 34
    },
    "colab_type": "code",
    "executionInfo": {
     "elapsed": 525,
     "status": "ok",
     "timestamp": 1592962875727,
     "user": {
      "displayName": "Yoshitsugu Sekine",
      "photoUrl": "https://lh3.googleusercontent.com/a-/AOh14GimsNckrAflr-jMDGQwV_kIJ56EjAWYV8INkpUv=s64",
      "userId": "13524401322013959426"
     },
     "user_tz": -540
    },
    "id": "QK4o5Oor-ZTj",
    "outputId": "30fb79fa-aa7c-4d3e-e172-1545a2333363"
   },
   "outputs": [
    {
     "name": "stdout",
     "output_type": "stream",
     "text": [
      "タクシー\n"
     ]
    }
   ],
   "source": [
    "print(\"パタトクカシーー\"[1::2])"
   ]
  },
  {
   "cell_type": "code",
   "execution_count": null,
   "metadata": {
    "colab": {
     "base_uri": "https://localhost:8080/",
     "height": 34
    },
    "colab_type": "code",
    "executionInfo": {
     "elapsed": 948,
     "status": "ok",
     "timestamp": 1593317585734,
     "user": {
      "displayName": "Yoshitsugu Sekine",
      "photoUrl": "https://lh3.googleusercontent.com/a-/AOh14GimsNckrAflr-jMDGQwV_kIJ56EjAWYV8INkpUv=s64",
      "userId": "13524401322013959426"
     },
     "user_tz": -540
    },
    "id": "jNABxltrIOBF",
    "outputId": "7381993f-236d-45ae-f527-0a15da076360"
   },
   "outputs": [
    {
     "name": "stdout",
     "output_type": "stream",
     "text": [
      "パトカー\n"
     ]
    }
   ],
   "source": [
    "print(\"パタトクカシーー\"[0::2])"
   ]
  },
  {
   "cell_type": "markdown",
   "metadata": {
    "colab_type": "text",
    "id": "ZhozD-Apost1"
   },
   "source": [
    "## 02. 「パトカー」＋「タクシー」＝「パタトクカシーー」\n",
    "- [URL](https://nlp100.github.io/ja/ch01.html#01-%E3%83%91%E3%82%BF%E3%83%88%E3%82%AF%E3%82%AB%E3%82%B7%E3%83%BC%E3%83%BC)\n",
    "\n",
    "> 「パトカー」＋「タクシー」の文字を先頭から交互に連結して文字列「パタトクカシーー」を得よ．\n"
   ]
  },
  {
   "cell_type": "code",
   "execution_count": null,
   "metadata": {
    "colab": {
     "base_uri": "https://localhost:8080/",
     "height": 122
    },
    "colab_type": "code",
    "executionInfo": {
     "elapsed": 938,
     "status": "ok",
     "timestamp": 1593317734367,
     "user": {
      "displayName": "Yoshitsugu Sekine",
      "photoUrl": "https://lh3.googleusercontent.com/a-/AOh14GimsNckrAflr-jMDGQwV_kIJ56EjAWYV8INkpUv=s64",
      "userId": "13524401322013959426"
     },
     "user_tz": -540
    },
    "id": "HrgQ30QXozRC",
    "outputId": "7890a387-544d-4982-b023-b5dcd0371e7c"
   },
   "outputs": [
    {
     "name": "stdout",
     "output_type": "stream",
     "text": [
      "パタトクカシーー\n",
      "\n",
      "パタ\n",
      "パタトク\n",
      "パタトクカシ\n",
      "パタトクカシーー\n"
     ]
    }
   ],
   "source": [
    "s1 = \"パトカー\"\n",
    "s2 = \"タクシー\"\n",
    "\n",
    "# solution 1\n",
    "print(\"\".join([s1[i] + s2[i] for i in range(4)]))\n",
    "\n",
    "# solution 2\n",
    "s = \"\"\n",
    "for i in range(4):\n",
    "    print(s)\n",
    "    s = s + s1[i]+ s2[i]\n",
    "print(s)"
   ]
  },
  {
   "cell_type": "markdown",
   "metadata": {
    "colab_type": "text",
    "id": "P2amiU-1Mo0I"
   },
   "source": [
    "## 03 円周率\n",
    "> “Now I need a drink, alcoholic of course, after the heavy lectures involving quantum mechanics.”という文を単語に分解し，各単語の（アルファベットの）文字数を先頭から出現順に並べたリストを作成せよ．"
   ]
  },
  {
   "cell_type": "code",
   "execution_count": null,
   "metadata": {
    "colab": {
     "base_uri": "https://localhost:8080/",
     "height": 34
    },
    "colab_type": "code",
    "executionInfo": {
     "elapsed": 693,
     "status": "ok",
     "timestamp": 1592983343637,
     "user": {
      "displayName": "Yoshitsugu Sekine",
      "photoUrl": "https://lh3.googleusercontent.com/a-/AOh14GimsNckrAflr-jMDGQwV_kIJ56EjAWYV8INkpUv=s64",
      "userId": "13524401322013959426"
     },
     "user_tz": -540
    },
    "id": "zPNhyU_5M220",
    "outputId": "80112212-585b-4060-f69b-48a165a23256"
   },
   "outputs": [
    {
     "name": "stdout",
     "output_type": "stream",
     "text": [
      "[3, 1, 4, 1, 6, 9, 2, 7, 5, 3, 5, 8, 9, 7, 9]\n"
     ]
    }
   ],
   "source": [
    "# 失敗：カンマを削除していなかった\n",
    "s = \"Now I need a drink, alcoholic of course, after the heavy lectures involving quantum mechanics.\"\n",
    "print(list(map(lambda x: len(x), s.split())))"
   ]
  },
  {
   "cell_type": "code",
   "execution_count": null,
   "metadata": {
    "colab": {
     "base_uri": "https://localhost:8080/",
     "height": 280
    },
    "colab_type": "code",
    "executionInfo": {
     "elapsed": 922,
     "status": "ok",
     "timestamp": 1593317865065,
     "user": {
      "displayName": "Yoshitsugu Sekine",
      "photoUrl": "https://lh3.googleusercontent.com/a-/AOh14GimsNckrAflr-jMDGQwV_kIJ56EjAWYV8INkpUv=s64",
      "userId": "13524401322013959426"
     },
     "user_tz": -540
    },
    "id": "dDicNfCdJQ9h",
    "outputId": "54e7abc2-b5ee-4ccd-80b8-1630efc31dc7"
   },
   "outputs": [
    {
     "data": {
      "text/plain": [
       "['Now',\n",
       " 'I',\n",
       " 'need',\n",
       " 'a',\n",
       " 'drink,',\n",
       " 'alcoholic',\n",
       " 'of',\n",
       " 'course,',\n",
       " 'after',\n",
       " 'the',\n",
       " 'heavy',\n",
       " 'lectures',\n",
       " 'involving',\n",
       " 'quantum',\n",
       " 'mechanics.']"
      ]
     },
     "execution_count": 11,
     "metadata": {
      "tags": []
     },
     "output_type": "execute_result"
    }
   ],
   "source": [
    "s = \"Now I need a drink, alcoholic of course, after the heavy lectures involving quantum mechanics.\"\n",
    "s.split()"
   ]
  },
  {
   "cell_type": "code",
   "execution_count": null,
   "metadata": {
    "colab": {
     "base_uri": "https://localhost:8080/",
     "height": 34
    },
    "colab_type": "code",
    "executionInfo": {
     "elapsed": 810,
     "status": "ok",
     "timestamp": 1592983543322,
     "user": {
      "displayName": "Yoshitsugu Sekine",
      "photoUrl": "https://lh3.googleusercontent.com/a-/AOh14GimsNckrAflr-jMDGQwV_kIJ56EjAWYV8INkpUv=s64",
      "userId": "13524401322013959426"
     },
     "user_tz": -540
    },
    "id": "Qmg9Ef6GNerv",
    "outputId": "c1fe1ff0-c4b2-43ce-e57c-5b941df1c37e"
   },
   "outputs": [
    {
     "name": "stdout",
     "output_type": "stream",
     "text": [
      "[3, 1, 4, 1, 5, 9, 2, 6, 5, 3, 5, 8, 9, 7, 9]\n"
     ]
    }
   ],
   "source": [
    "s = \"Now I need a drink, alcoholic of course, after the heavy lectures involving quantum mechanics.\"\n",
    "print(list(map(lambda x: len(x), s.replace(\",\", \"\").replace(\".\", \"\").split())))"
   ]
  },
  {
   "cell_type": "code",
   "execution_count": null,
   "metadata": {
    "colab": {
     "base_uri": "https://localhost:8080/",
     "height": 371
    },
    "colab_type": "code",
    "executionInfo": {
     "elapsed": 718,
     "status": "ok",
     "timestamp": 1593318160776,
     "user": {
      "displayName": "Yoshitsugu Sekine",
      "photoUrl": "https://lh3.googleusercontent.com/a-/AOh14GimsNckrAflr-jMDGQwV_kIJ56EjAWYV8INkpUv=s64",
      "userId": "13524401322013959426"
     },
     "user_tz": -540
    },
    "id": "MbQzqfdbJ02G",
    "outputId": "7a359a70-c826-43eb-ae38-a913b8fcf290"
   },
   "outputs": [
    {
     "name": "stdout",
     "output_type": "stream",
     "text": [
      "Now I need a drink alcoholic of course after the heavy lectures involving quantum mechanics.\n",
      "Now I need a drink alcoholic of course after the heavy lectures involving quantum mechanics\n",
      "['Now', 'I', 'need', 'a', 'drink', 'alcoholic', 'of', 'course', 'after', 'the', 'heavy', 'lectures', 'involving', 'quantum', 'mechanics']\n",
      "3\n",
      "1\n",
      "4\n",
      "1\n",
      "5\n",
      "9\n",
      "2\n",
      "6\n",
      "5\n",
      "3\n",
      "5\n",
      "8\n",
      "9\n",
      "7\n",
      "9\n",
      "[3, 1, 4, 1, 5, 9, 2, 6, 5, 3, 5, 8, 9, 7, 9]\n"
     ]
    }
   ],
   "source": [
    "s = \"Now I need a drink, alcoholic of course, after the heavy lectures involving quantum mechanics.\"\n",
    "print(s.replace(\",\", \"\"))\n",
    "print(s.replace(\",\", \"\").replace(\".\", \"\"))\n",
    "print(s.replace(\",\", \"\").replace(\".\", \"\").split())\n",
    "\n",
    "xs = []\n",
    "for x in s.replace(\",\", \"\").replace(\".\", \"\").split():\n",
    "    print(len(x))\n",
    "    xs.append(len(x))\n",
    "print(xs)"
   ]
  },
  {
   "cell_type": "markdown",
   "metadata": {
    "colab_type": "text",
    "id": "7cI--zrrOZRN"
   },
   "source": [
    "## 04. 元素記号\n",
    "> “Hi He Lied Because Boron Could Not Oxidize Fluorine. New Nations Might Also Sign Peace Security Clause. Arthur King Can.”という文を単語に分解し，1, 5, 6, 7, 8, 9, 15, 16, 19番目の単語は先頭の1文字，それ以外の単語は先頭の2文字を取り出し，取り出した文字列から単語の位置（先頭から何番目の単語か）への連想配列（辞書型もしくはマップ型）を作成せよ．\n",
    "\n",
    "（言っていることがよくわからなくて何度も読み返した。）"
   ]
  },
  {
   "cell_type": "code",
   "execution_count": null,
   "metadata": {
    "colab": {
     "base_uri": "https://localhost:8080/",
     "height": 54
    },
    "colab_type": "code",
    "executionInfo": {
     "elapsed": 725,
     "status": "ok",
     "timestamp": 1592984120170,
     "user": {
      "displayName": "Yoshitsugu Sekine",
      "photoUrl": "https://lh3.googleusercontent.com/a-/AOh14GimsNckrAflr-jMDGQwV_kIJ56EjAWYV8INkpUv=s64",
      "userId": "13524401322013959426"
     },
     "user_tz": -540
    },
    "id": "4BXKJnQ9Oh8e",
    "outputId": "c9d4d6a2-0982-4c3c-aa5a-7e333916e4cb"
   },
   "outputs": [
    {
     "name": "stdout",
     "output_type": "stream",
     "text": [
      "{'H': 0, 'He': 1, 'Li': 2, 'Be': 3, 'B': 4, 'C': 5, 'N': 6, 'O': 7, 'F': 8, 'Ne': 9, 'Na': 10, 'Mi': 11, 'Al': 12, 'Si': 13, 'P': 14, 'S': 15, 'Cl': 16, 'Ar': 17, 'K': 18, 'Ca': 19}\n"
     ]
    }
   ],
   "source": [
    "numbers = [1,5,6,7,8,9,15,16,19]\n",
    "numbers = list(map(lambda x: x - 1, numbers))\n",
    "\n",
    "def f(i,v):\n",
    "    return v[0] if i in numbers else v[0:2]\n",
    "\n",
    "s = \"Hi He Lied Because Boron Could Not Oxidize Fluorine. New Nations Might Also Sign Peace Security Clause. Arthur King Can.\"\n",
    "s = s.replace(\",\", \"\").replace(\".\", \"\").split()\n",
    "print({f(i,v): i for i, v in enumerate(s)})"
   ]
  },
  {
   "cell_type": "code",
   "execution_count": null,
   "metadata": {
    "colab": {},
    "colab_type": "code",
    "id": "JlLFnF4CMD8U"
   },
   "outputs": [],
   "source": [
    "s = \"\"\n",
    "if i in numbers:\n",
    "    s = v[0]\n",
    "else:\n",
    "    s = v[0:2]"
   ]
  },
  {
   "cell_type": "markdown",
   "metadata": {
    "colab_type": "text",
    "id": "gi2uD-RZzCNY"
   },
   "source": [
    "### 内包表記をループで書き直した"
   ]
  },
  {
   "cell_type": "code",
   "execution_count": null,
   "metadata": {
    "colab": {
     "base_uri": "https://localhost:8080/",
     "height": 1000
    },
    "colab_type": "code",
    "executionInfo": {
     "elapsed": 718,
     "status": "ok",
     "timestamp": 1593318691513,
     "user": {
      "displayName": "Yoshitsugu Sekine",
      "photoUrl": "https://lh3.googleusercontent.com/a-/AOh14GimsNckrAflr-jMDGQwV_kIJ56EjAWYV8INkpUv=s64",
      "userId": "13524401322013959426"
     },
     "user_tz": -540
    },
    "id": "HTSW6JwXQmVy",
    "outputId": "52bbe1a5-e294-4155-bee9-809f8173aab1"
   },
   "outputs": [
    {
     "name": "stdout",
     "output_type": "stream",
     "text": [
      "0\n",
      "Hi\n",
      "\n",
      "1\n",
      "He\n",
      "\n",
      "2\n",
      "Lied\n",
      "\n",
      "3\n",
      "Because\n",
      "\n",
      "4\n",
      "Boron\n",
      "\n",
      "5\n",
      "Could\n",
      "\n",
      "6\n",
      "Not\n",
      "\n",
      "7\n",
      "Oxidize\n",
      "\n",
      "8\n",
      "Fluorine\n",
      "\n",
      "9\n",
      "New\n",
      "\n",
      "10\n",
      "Nations\n",
      "\n",
      "11\n",
      "Might\n",
      "\n",
      "12\n",
      "Also\n",
      "\n",
      "13\n",
      "Sign\n",
      "\n",
      "14\n",
      "Peace\n",
      "\n",
      "15\n",
      "Security\n",
      "\n",
      "16\n",
      "Clause\n",
      "\n",
      "17\n",
      "Arthur\n",
      "\n",
      "18\n",
      "King\n",
      "\n",
      "19\n",
      "Can\n",
      "\n",
      "{'H': 0, 'He': 1, 'Li': 2, 'Be': 3, 'B': 4, 'C': 5, 'N': 6, 'O': 7, 'F': 8, 'Ne': 9, 'Na': 10, 'Mi': 11, 'Al': 12, 'Si': 13, 'P': 14, 'S': 15, 'Cl': 16, 'Ar': 17, 'K': 18, 'Ca': 19}\n"
     ]
    }
   ],
   "source": [
    "numbers = [1,5,6,7,8,9,15,16,19]\n",
    "numbers = list(map(lambda x: x - 1, numbers))\n",
    "\n",
    "def f(i,v):\n",
    "    return v[0] if i in numbers else v[0:2]\n",
    "\n",
    "s = \"Hi He Lied Because Boron Could Not Oxidize Fluorine. New Nations Might Also Sign Peace Security Clause. Arthur King Can.\"\n",
    "s = s.replace(\",\", \"\").replace(\".\", \"\").split()\n",
    "\n",
    "dic = {}\n",
    "for i,v in enumerate(s):\n",
    "    dic[f(i,v)] = i\n",
    "\n",
    "print(dic)"
   ]
  },
  {
   "cell_type": "markdown",
   "metadata": {
    "colab_type": "text",
    "id": "muAs3b0FQCrE"
   },
   "source": [
    "# プログラミングの一般論\n",
    "- Web システムを例にした速度問題\n",
    "- データ構造とアルゴリズム\n",
    "    - 連結リストと配列：どんな特性があるか？\n",
    "    - スタックとキュー：いつどこで使うか？どう実装するか？"
   ]
  },
  {
   "cell_type": "markdown",
   "metadata": {
    "colab_type": "text",
    "id": "czi_wJx1MFCq"
   },
   "source": [
    "## web システムの事例\n",
    "- [参考](https://github.com/donnemartin/system-design-primer/blob/master/README-ja.md#%E3%82%B7%E3%82%B9%E3%83%86%E3%83%A0%E8%A8%AD%E8%A8%88%E7%9B%AE%E6%AC%A1)\n",
    "    - [レイテンシーの具体的な値](https://github.com/donnemartin/system-design-primer/blob/master/README-ja.md#%E5%85%A8%E3%81%A6%E3%81%AE%E3%83%97%E3%83%AD%E3%82%B0%E3%83%A9%E3%83%9E%E3%83%BC%E3%81%8C%E7%9F%A5%E3%82%8B%E3%81%B9%E3%81%8D%E3%83%AC%E3%82%A4%E3%83%86%E3%83%B3%E3%82%B7%E3%83%BC%E5%80%A4)\n",
    "- システムが重いというときどこにどんな原因があるか？\n",
    "    - ソシャゲでもよくある「障害発生」はどこでどう起こるか？\n",
    "    - どこかのサーバーが物理的に壊れることもある\n",
    "- データ構造とアルゴリズム（いわゆる「プログラミング」）がかかわるのはどこか？\n",
    "    - web サーバーでの処理（プログラム）\n",
    "    - データベースの（インデックス）設計\n",
    "    - ソフトによる問題なら基本的にはどこにでもありうる"
   ]
  },
  {
   "cell_type": "markdown",
   "metadata": {
    "colab_type": "text",
    "id": "VZn4HcgvNIZu"
   },
   "source": [
    "## データ構造とアルゴリズム\n",
    "- 鶏と卵で、同時に考えるべきテーマ：何かをするためにはどうデータを持ってどんな処理をすれば効率がいいか？\n",
    "    - 効率にもいろいろある\n",
    "    - 単純な処理速度・メモリ消費量・計算量"
   ]
  },
  {
   "cell_type": "markdown",
   "metadata": {
    "colab_type": "text",
    "id": "eonerSWFNeYK"
   },
   "source": [
    "### （連結）リストと配列\n",
    "- 何が違うのか？\n",
    "- メモリ上の配置やデータの「つなぎ方」\n",
    "- 状況によって使い分ける"
   ]
  },
  {
   "cell_type": "markdown",
   "metadata": {
    "colab_type": "text",
    "id": "EyWSwrjmrF1_"
   },
   "source": [
    "### リストの特徴\n",
    "- 要素数は変わることが前提\n",
    "- データを（先頭に）追加するのは簡単\n",
    "- データの削除も比較的簡単\n",
    "- 先頭から 1 つずつ順に処理するならそれなり\n",
    "- 検索やデータの書き換えが遅い：連結構造をたどる必要がある"
   ]
  },
  {
   "cell_type": "markdown",
   "metadata": {
    "colab_type": "text",
    "id": "tyanBhJhrSae"
   },
   "source": [
    "### 配列の特徴\n",
    "- 要素数は固定\n",
    "- データの追加・削除が重め\n",
    "- データの参照・書き換えが速い：アドレスが連続なので先頭さえわかれば「そこから何番先」と直指定できる\n",
    "- 「リストで遅ければ配列で書き直す」みたいなことはよくある"
   ]
  },
  {
   "cell_type": "markdown",
   "metadata": {
    "colab_type": "text",
    "id": "pp10lhpLrV2b"
   },
   "source": [
    "### ベクター（[参考](https://stackoverrun.com/ja/q/8964376)）\n",
    "- 「要素数可変の配列」\n",
    "- リストのように要素追加・削除が比較的低コストで、要素の参照・書き換えも配列のように速い\n",
    "- 何が問題か：要素の追加が楽なように余計なメモリ領域を確保する\n",
    "- ハードウェア組み込みプログラムのように、メモリがカツカツの状況では使えない\n",
    "    - 「メモリがカツカツ」という意味が理解できるか？"
   ]
  }
 ],
 "metadata": {
  "colab": {
   "collapsed_sections": [],
   "name": "2020-06-20_hw.ipynb",
   "provenance": [
    {
     "file_id": "1mWsGop81VnfsQG7y3FI5a67P_VlPaOYJ",
     "timestamp": 1592657632462
    }
   ],
   "toc_visible": true
  },
  "kernelspec": {
   "display_name": "Python 3",
   "language": "python",
   "name": "python3"
  },
  "language_info": {
   "codemirror_mode": {
    "name": "ipython",
    "version": 3
   },
   "file_extension": ".py",
   "mimetype": "text/x-python",
   "name": "python",
   "nbconvert_exporter": "python",
   "pygments_lexer": "ipython3",
   "version": "3.8.3"
  }
 },
 "nbformat": 4,
 "nbformat_minor": 1
}
