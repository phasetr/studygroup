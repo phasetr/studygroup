{
 "cells": [
  {
   "cell_type": "markdown",
   "metadata": {
    "colab_type": "text",
    "id": "UeHS9k8PQlJt"
   },
   "source": [
    "# 2020-05-10 課題\n",
    "- [コンテンツの案内ページ](https://phasetr.com/mthlp1/)\n",
    "- [GitHub へのリンク](https://github.com/phasetr/studygroup/programming-for-junior-highschool-mathphys)\n",
    "- 前回使った ipynb のプログラムを実際に実行してみて、実数の数値計算上で起こる問題を実感してみてください。\n",
    "- 「自分でお絵かきできるようになろう」講座なので、お絵描き用ライブラリに慣れ親しむのが大事です。そこで matplotlib の公式ドキュメントを見ていろいろ遊んでみてください。例えば次のようなことを試してみてください。\n",
    "    - 線の色を変えてみる。\n",
    "    - 点にマーカーをつける。\n",
    "    - 公式のサンプルやチュートリアルを試してみる。\n",
    "    - [公式サンプル](https://matplotlib.org/3.2.1/tutorials/introductory/sample_plots.html)\n",
    "    - [これも公式](https://matplotlib.org/3.2.1/gallery/index.html#mplot3d-examples-index)：サンプルコードもある。\n",
    "- 引き続き TeX でいろいろな式を書いてみましょう。式が書けると数学系のコミュニケーションがだいぶ楽になります。"
   ]
  },
  {
   "cell_type": "markdown",
   "metadata": {
    "colab_type": "text",
    "id": "UL1CT7FxWS2W"
   },
   "source": [
    "# 自分用メモ\n",
    "- 常微分方程式で漸化式から微分方程式に流れる部分の書き直し\n",
    "- 勉強のおすすめ：AtCoder はどうか？C++の解説もあるし、仕事・評価にも割と直結するし、具体的な問題つきで勉強できる。\n",
    "    - https://atcoder.jp/contests/apg4b\n",
    "        - C++のコードをPythonで書き直してみるだけでもかなりの勉強になるはず\n",
    "    - Python によるアルゴリズム https://qiita.com/cabernet_rock/items/cdd12b07d213b67d0530\n",
    "- 数値計算に関わるクラス・オブジェクトの説明\n",
    "    - まずは辞書・構造体の拡大版として導入するか？\n",
    "    - 変な誤解を生まないような書き方を考える\n",
    "- 遅延型方程式に対するコメント追加\n",
    "- import に関する実演\n",
    "- matplotlib のチュートリアルを読もうの会\n",
    "- matplotlib 回では実際に matplotlib のチュートリアルを読もう\n",
    "    - 公式情報に触れる重要性\n",
    "    - 古い情報が古いと書いてあったりする：たとえば `pylab`\n",
    "        - [参考: これの Note](https://matplotlib.org/tutorials/introductory/usage.html#sphx-glr-tutorials-introductory-usage-py)\n",
    "    - [Gallery](https://matplotlib.org/gallery/index.html#user-interfaces)\n",
    "        - 見ていて面白い\n",
    "        - 「どこをいじるとどう変わるか」が視覚的にわかる\n",
    "        - 公式情報なのできちんとアップデートしてくれている（はず）\n",
    "        - 公式情報にソースがあるので自分でいろいろ書き換えていて破滅したとき、必ずオリジナルを復元できる\n",
    "- Jupyter （IPython）でのはまりどころ解説を作ろう\n",
    "    - いったん変数を作ると他のセルでも読み込める（読み込めてしまう）\n",
    "    - 「セルを上から順に読み込まないと動かない」問題の原因\n",
    "    - カーネル再起動まで変数は残り続ける"
   ]
  },
  {
   "cell_type": "markdown",
   "metadata": {
    "colab_type": "text",
    "id": "muAs3b0FQCrE"
   },
   "source": [
    "# プログラミングの一般論\n"
   ]
  },
  {
   "cell_type": "markdown",
   "metadata": {
    "colab_type": "text",
    "id": "4DtP2iATQHta"
   },
   "source": [
    "## イテレーターとジェネレーター\n",
    "- [参考](https://qiita.com/tomotaka_ito/items/35f3eb108f587022fa09)\n",
    "- この間イテレーターとジェネレーターを勘違いして話してしまったのでやり直し"
   ]
  },
  {
   "cell_type": "markdown",
   "metadata": {
    "colab_type": "text",
    "id": "NZNIVlQabtLE"
   },
   "source": [
    "### 基本\n",
    "- [イテレータ](https://docs.python.org/ja/3/library/stdtypes.html#iterator-types): 要素を反復して取り出すことのできるインタフェース\n",
    "    - 例：リスト、配列、タプル、辞書など\n",
    "    - 「要素をたくさん持っているデータ構造」\n",
    "- ジェネレータ: イテレータの一種であり、1要素を取り出そうとする度に処理を行い、要素を生成する。Pythonではyield文を使った実装を指すことが多い\n",
    "- ジェネレーターが必要になる理由\n",
    "    - とりあえずリストを想定する\n",
    "    - 要素すべてをあらかじめ計算しておく/取得してくるのが大変\n",
    "        - 例：何十GBもある巨大なイテレータはメモリにのせられない\n",
    "    - HDD・SSD に載せるのも大変（速度なり何なりいろいろ）\n",
    "    - ふつう 1 つ 1 つの要素自体は小さい\n",
    "    - 要素を 1 つ 1 つ生成すればメモリをそんなに食わない\n",
    "    - 1 つ 1 つ作ろう"
   ]
  },
  {
   "cell_type": "markdown",
   "metadata": {
    "colab_type": "text",
    "id": "UQlKeb47fJZu"
   },
   "source": [
    "### 1 つ 1 つ作る？\n",
    "- `range` がイメージしやすそうな気がする\n",
    "- 一度にドカッとリストを作る必要はなく、1 つ 1 つの整数を都度作ってくればいい"
   ]
  },
  {
   "cell_type": "code",
   "execution_count": 0,
   "metadata": {
    "colab": {
     "base_uri": "https://localhost:8080/",
     "height": 215
    },
    "colab_type": "code",
    "executionInfo": {
     "elapsed": 1111,
     "status": "ok",
     "timestamp": 1590404421472,
     "user": {
      "displayName": "Yoshitsugu Sekine",
      "photoUrl": "https://lh3.googleusercontent.com/a-/AOh14GimsNckrAflr-jMDGQwV_kIJ56EjAWYV8INkpUv=s64",
      "userId": "13524401322013959426"
     },
     "user_tz": -540
    },
    "id": "hsGXFI69fQUl",
    "outputId": "5cdaa67f-7d33-40c8-b6c5-55799b8a1ede"
   },
   "outputs": [
    {
     "name": "stdout",
     "output_type": "stream",
     "text": [
      "<class 'range'>\n",
      "0\n",
      "1\n",
      "2\n",
      "3\n",
      "4\n",
      "5\n",
      "6\n",
      "7\n",
      "8\n",
      "9\n"
     ]
    }
   ],
   "source": [
    "xs = range(0, 10)\n",
    "print(type(xs))\n",
    "for x in xs:\n",
    "    print(x)"
   ]
  },
  {
   "cell_type": "markdown",
   "metadata": {
    "colab_type": "text",
    "id": "VtRTUQ4Y0eu_"
   },
   "source": [
    "- イテレータ（リスト）の要素数が $10^{1000000}$ くらいになるとそもそもリストが作れない\n",
    "- 一気に作らずに 1 つずつ要素を生成すれば問題なく処理は回る\n",
    "    - $10^{1000000}$ 個の要素を処理しないといけない点で時間自体はどうしてもかかる\n",
    "    - これは本質的な問題で、ジェネレーターを使う・使わないに関係ない\n",
    "    - メモリに載るか載らないかではなく処理の所要時間の問題"
   ]
  },
  {
   "cell_type": "markdown",
   "metadata": {
    "colab_type": "text",
    "id": "eDBRy838c3PR"
   },
   "source": [
    "### Python のジェネレーターの簡単な例\n",
    "- `yield` を使ってみる"
   ]
  },
  {
   "cell_type": "code",
   "execution_count": 0,
   "metadata": {
    "colab": {
     "base_uri": "https://localhost:8080/",
     "height": 35
    },
    "colab_type": "code",
    "executionInfo": {
     "elapsed": 1187,
     "status": "ok",
     "timestamp": 1590403945719,
     "user": {
      "displayName": "Yoshitsugu Sekine",
      "photoUrl": "https://lh3.googleusercontent.com/a-/AOh14GimsNckrAflr-jMDGQwV_kIJ56EjAWYV8INkpUv=s64",
      "userId": "13524401322013959426"
     },
     "user_tz": -540
    },
    "id": "bK7AxKpCdfmH",
    "outputId": "b9045753-9d0a-41a7-8d06-d20ee70b08fc"
   },
   "outputs": [
    {
     "name": "stdout",
     "output_type": "stream",
     "text": [
      "<class 'generator'>\n"
     ]
    }
   ],
   "source": [
    "def my_generator():\n",
    "    yield 1\n",
    "    yield 2\n",
    "    yield 3\n",
    "\n",
    "gen = my_generator()\n",
    "print(type(gen))"
   ]
  },
  {
   "cell_type": "code",
   "execution_count": 0,
   "metadata": {
    "colab": {
     "base_uri": "https://localhost:8080/",
     "height": 71
    },
    "colab_type": "code",
    "executionInfo": {
     "elapsed": 1212,
     "status": "ok",
     "timestamp": 1590403880815,
     "user": {
      "displayName": "Yoshitsugu Sekine",
      "photoUrl": "https://lh3.googleusercontent.com/a-/AOh14GimsNckrAflr-jMDGQwV_kIJ56EjAWYV8INkpUv=s64",
      "userId": "13524401322013959426"
     },
     "user_tz": -540
    },
    "id": "WIsdWt12c6zy",
    "outputId": "517ec304-b2b0-463a-aeda-a3a6f7615759"
   },
   "outputs": [
    {
     "name": "stdout",
     "output_type": "stream",
     "text": [
      "1\n",
      "2\n",
      "3\n"
     ]
    }
   ],
   "source": [
    "def my_generator():\n",
    "    yield 1\n",
    "    yield 2\n",
    "    yield 3\n",
    "\n",
    "gen = my_generator()\n",
    "print(gen.__next__())  # 1\n",
    "print(gen.__next__())  # 2\n",
    "print(gen.__next__())  # 3"
   ]
  },
  {
   "cell_type": "markdown",
   "metadata": {
    "colab_type": "text",
    "id": "Lj85K7PUe4tV"
   },
   "source": [
    "- 4 回呼ぶと怒られる\n",
    "- `for` で呼び出すと怒られるところでループを止めてくれる"
   ]
  },
  {
   "cell_type": "code",
   "execution_count": 0,
   "metadata": {
    "colab": {
     "base_uri": "https://localhost:8080/",
     "height": 209
    },
    "colab_type": "code",
    "executionInfo": {
     "elapsed": 1644,
     "status": "error",
     "timestamp": 1590403815491,
     "user": {
      "displayName": "Yoshitsugu Sekine",
      "photoUrl": "https://lh3.googleusercontent.com/a-/AOh14GimsNckrAflr-jMDGQwV_kIJ56EjAWYV8INkpUv=s64",
      "userId": "13524401322013959426"
     },
     "user_tz": -540
    },
    "id": "qSsCOw03dPNm",
    "outputId": "6ea271f7-4ddc-4e92-c7d9-0f785637c030"
   },
   "outputs": [
    {
     "ename": "StopIteration",
     "evalue": "ignored",
     "output_type": "error",
     "traceback": [
      "\u001b[0;31m---------------------------------------------------------------------------\u001b[0m",
      "\u001b[0;31mStopIteration\u001b[0m                             Traceback (most recent call last)",
      "\u001b[0;32m<ipython-input-1-f379ec6e011a>\u001b[0m in \u001b[0;36m<module>\u001b[0;34m()\u001b[0m\n\u001b[1;32m      8\u001b[0m \u001b[0mgen\u001b[0m\u001b[0;34m.\u001b[0m\u001b[0m__next__\u001b[0m\u001b[0;34m(\u001b[0m\u001b[0;34m)\u001b[0m  \u001b[0;31m# 2\u001b[0m\u001b[0;34m\u001b[0m\u001b[0;34m\u001b[0m\u001b[0m\n\u001b[1;32m      9\u001b[0m \u001b[0mgen\u001b[0m\u001b[0;34m.\u001b[0m\u001b[0m__next__\u001b[0m\u001b[0;34m(\u001b[0m\u001b[0;34m)\u001b[0m  \u001b[0;31m# 3\u001b[0m\u001b[0;34m\u001b[0m\u001b[0;34m\u001b[0m\u001b[0m\n\u001b[0;32m---> 10\u001b[0;31m \u001b[0mgen\u001b[0m\u001b[0;34m.\u001b[0m\u001b[0m__next__\u001b[0m\u001b[0;34m(\u001b[0m\u001b[0;34m)\u001b[0m  \u001b[0;31m# StopIteration\u001b[0m\u001b[0;34m\u001b[0m\u001b[0;34m\u001b[0m\u001b[0m\n\u001b[0m",
      "\u001b[0;31mStopIteration\u001b[0m: "
     ]
    }
   ],
   "source": [
    "\"\"\"4 回呼ぶと怒られる\"\"\"\n",
    "def my_generator():\n",
    "    yield 1\n",
    "    yield 2\n",
    "    yield 3\n",
    "\n",
    "gen = my_generator()\n",
    "gen.__next__()  # 1\n",
    "gen.__next__()  # 2\n",
    "gen.__next__()  # 3\n",
    "gen.__next__()  # StopIteration"
   ]
  },
  {
   "cell_type": "code",
   "execution_count": 0,
   "metadata": {
    "colab": {
     "base_uri": "https://localhost:8080/",
     "height": 71
    },
    "colab_type": "code",
    "executionInfo": {
     "elapsed": 1145,
     "status": "ok",
     "timestamp": 1590404339344,
     "user": {
      "displayName": "Yoshitsugu Sekine",
      "photoUrl": "https://lh3.googleusercontent.com/a-/AOh14GimsNckrAflr-jMDGQwV_kIJ56EjAWYV8INkpUv=s64",
      "userId": "13524401322013959426"
     },
     "user_tz": -540
    },
    "id": "ojjW8nJOfAq5",
    "outputId": "646e0141-e3ea-4d25-994f-048969fa624d"
   },
   "outputs": [
    {
     "name": "stdout",
     "output_type": "stream",
     "text": [
      "1\n",
      "2\n",
      "3\n"
     ]
    }
   ],
   "source": [
    "def my_generator():\n",
    "    yield 1\n",
    "    yield 2\n",
    "    yield 3\n",
    "\n",
    "gen = my_generator()\n",
    "for a in gen:\n",
    "    print(a)"
   ]
  },
  {
   "cell_type": "markdown",
   "metadata": {
    "colab_type": "text",
    "id": "TThJVV45uqMo"
   },
   "source": [
    "## クラス\n",
    "- 念頭に置くのは Python のクラス・オブジェクト（オブジェクト指向の意味のオブジェクト）\n",
    "- データとそれを処理する「関数」のペア\n",
    "- まずは「辞書」または「リスト」の拡張だと思おう"
   ]
  },
  {
   "cell_type": "markdown",
   "metadata": {
    "colab_type": "text",
    "id": "zcie6fLZf2hl"
   },
   "source": [
    "### 例\n",
    "- ある学生 `s` のテストの点に関していろいろ統計的な処理をしたい\n",
    "- 学生 `s` のテストの点を次のようにリストで持つ\n",
    "    - 国語・数学・英・理科・社会の順に点数を並べるとする\n",
    "    - 平均点を計算したい"
   ]
  },
  {
   "cell_type": "code",
   "execution_count": 0,
   "metadata": {
    "colab": {
     "base_uri": "https://localhost:8080/",
     "height": 35
    },
    "colab_type": "code",
    "executionInfo": {
     "elapsed": 911,
     "status": "ok",
     "timestamp": 1590404897539,
     "user": {
      "displayName": "Yoshitsugu Sekine",
      "photoUrl": "https://lh3.googleusercontent.com/a-/AOh14GimsNckrAflr-jMDGQwV_kIJ56EjAWYV8INkpUv=s64",
      "userId": "13524401322013959426"
     },
     "user_tz": -540
    },
    "id": "ocr2_zkKgKLV",
    "outputId": "bc606c51-8563-4619-bcbf-c61c6ff393e0"
   },
   "outputs": [
    {
     "name": "stdout",
     "output_type": "stream",
     "text": [
      "30.0\n"
     ]
    }
   ],
   "source": [
    "s_scores = [10, 20, 30, 40, 50] # 国語・数学・英・理科・社会の順\n",
    "def calc_mean(s_scores):\n",
    "    return sum(s_scores) / len(s_scores)\n",
    "s_mean = calc_mean(s_scores)\n",
    "print(s_mean)"
   ]
  },
  {
   "cell_type": "markdown",
   "metadata": {
    "colab_type": "text",
    "id": "QJNoxbVGgqlM"
   },
   "source": [
    "- リストだと何も情報がなくて、何番目が何の科目だったか覚えていられない\n",
    "- コメントもあるが、何かの都合で仕様が変わったりしたらどうする？\n",
    "- 具体的に名前で持たせればいい：辞書を使おう"
   ]
  },
  {
   "cell_type": "code",
   "execution_count": 0,
   "metadata": {
    "colab": {
     "base_uri": "https://localhost:8080/",
     "height": 35
    },
    "colab_type": "code",
    "executionInfo": {
     "elapsed": 1271,
     "status": "ok",
     "timestamp": 1590405113776,
     "user": {
      "displayName": "Yoshitsugu Sekine",
      "photoUrl": "https://lh3.googleusercontent.com/a-/AOh14GimsNckrAflr-jMDGQwV_kIJ56EjAWYV8INkpUv=s64",
      "userId": "13524401322013959426"
     },
     "user_tz": -540
    },
    "id": "Aj3IHk9hhPUT",
    "outputId": "f5216e85-db53-415e-81e1-ee3396e5ed81"
   },
   "outputs": [
    {
     "name": "stdout",
     "output_type": "stream",
     "text": [
      "30.0\n"
     ]
    }
   ],
   "source": [
    "s_scores = {\n",
    "    \"ja\": 10,\n",
    "    \"math\": 20,\n",
    "    \"eng\": 30,\n",
    "    \"science\": 40,\n",
    "    \"society\": 50\n",
    "}\n",
    "\n",
    "def calc_mean(s_scores):\n",
    "    s_sum = sum([v for v in s_scores.values()])\n",
    "    return s_sum / len(s_scores)\n",
    "\n",
    "s_mean = calc_mean(s_scores)\n",
    "print(s_mean)"
   ]
  },
  {
   "cell_type": "markdown",
   "metadata": {
    "colab_type": "text",
    "id": "HruEZJyUiGcB"
   },
   "source": [
    "- 関数 `calc_mean` は（本質的には）成績の持たせ方と連動した関数である\n",
    "- 値と処理をバラバラにしないでワンセットにしたい：クラス化\n",
    "    - いまは単なる平均だからご利益が何も感じられない\n",
    "    - もっと複雑なことを考えると「ワンセット」にご利益が出てくる\n",
    "    - それこそ「辞書のクラス・メソッド」などを考えてみよう"
   ]
  },
  {
   "cell_type": "code",
   "execution_count": 0,
   "metadata": {
    "colab": {
     "base_uri": "https://localhost:8080/",
     "height": 35
    },
    "colab_type": "code",
    "executionInfo": {
     "elapsed": 966,
     "status": "ok",
     "timestamp": 1590405495609,
     "user": {
      "displayName": "Yoshitsugu Sekine",
      "photoUrl": "https://lh3.googleusercontent.com/a-/AOh14GimsNckrAflr-jMDGQwV_kIJ56EjAWYV8INkpUv=s64",
      "userId": "13524401322013959426"
     },
     "user_tz": -540
    },
    "id": "hfaXvWm-i80E",
    "outputId": "95ab8c8d-35d7-4153-cdc3-35bb7086c9ba"
   },
   "outputs": [
    {
     "name": "stdout",
     "output_type": "stream",
     "text": [
      "30.0\n"
     ]
    }
   ],
   "source": [
    "class Score():\n",
    "    def __init__(self, ja, math, eng, sci, soc):\n",
    "        self.ja = ja\n",
    "        self.math = math\n",
    "        self.eng = eng\n",
    "        self.sci = sci\n",
    "        self.soc = soc\n",
    "\n",
    "    def calc_mean(self):\n",
    "        return (self.ja + self.math + self.eng + self.sci + self.soc) / 5\n",
    "\n",
    "s = Score(10, 20, 30, 40, 50)\n",
    "print(s.calc_mean())"
   ]
  },
  {
   "cell_type": "markdown",
   "metadata": {
    "colab_type": "text",
    "id": "Nnf0QDEYjleV"
   },
   "source": [
    "- ほかの生徒の成績も考えたいとき、簡単に各生徒用のオブジェクトが作れる\n",
    "    - オブジェクトは `s1` や `s2`"
   ]
  },
  {
   "cell_type": "code",
   "execution_count": 0,
   "metadata": {
    "colab": {
     "base_uri": "https://localhost:8080/",
     "height": 53
    },
    "colab_type": "code",
    "executionInfo": {
     "elapsed": 921,
     "status": "ok",
     "timestamp": 1590405602138,
     "user": {
      "displayName": "Yoshitsugu Sekine",
      "photoUrl": "https://lh3.googleusercontent.com/a-/AOh14GimsNckrAflr-jMDGQwV_kIJ56EjAWYV8INkpUv=s64",
      "userId": "13524401322013959426"
     },
     "user_tz": -540
    },
    "id": "fsQ7O0wnjtik",
    "outputId": "e50664a0-599a-4c50-e93f-ea5bca5d276f"
   },
   "outputs": [
    {
     "name": "stdout",
     "output_type": "stream",
     "text": [
      "30.0\n",
      "3.0\n"
     ]
    }
   ],
   "source": [
    "class Score():\n",
    "    def __init__(self, ja, math, eng, sci, soc):\n",
    "        self.ja = ja\n",
    "        self.math = math\n",
    "        self.eng = eng\n",
    "        self.sci = sci\n",
    "        self.soc = soc\n",
    "\n",
    "    def calc_mean(self):\n",
    "        return (self.ja + self.math + self.eng + self.sci + self.soc) / 5\n",
    "\n",
    "s1 = Score(10, 20, 30, 40, 50)\n",
    "print(s1.calc_mean())\n",
    "\n",
    "s2 = Score(1, 2, 3, 4, 5)\n",
    "print(s2.calc_mean())"
   ]
  },
  {
   "cell_type": "markdown",
   "metadata": {
    "colab_type": "text",
    "id": "W-yqJsyFyQlf"
   },
   "source": [
    "# アルゴリズムとデータ構造\n",
    "\n"
   ]
  },
  {
   "cell_type": "markdown",
   "metadata": {
    "colab_type": "text",
    "id": "ky7JK5rBwb7g"
   },
   "source": [
    "## アルゴリズムとデータ構造でプログラミングを勉強する\n",
    "- https://atcoder.jp/?lang=ja\n",
    "    - プログラミングのコンテストサイト\n",
    "    - 競技プログラミング\n",
    "- C++ の勉強も兼ねた勉強用ページ https://atcoder.jp/contests/APG4b\n",
    "- 初心者向け練習問題 https://atcoder.jp/contests/abs\n",
    "    - 探せば他にも練習問題特集はある"
   ]
  },
  {
   "cell_type": "markdown",
   "metadata": {
    "colab_type": "text",
    "id": "Jnz5T07KzHDY"
   },
   "source": [
    "## いいところ\n",
    "- 簡単な問題なら 10 行もあれば書ききれる\n",
    "    - [参考問題](https://qiita.com/drken/items/fd4e5e3630d0f5859067#%E7%AC%AC-4-%E5%95%8F--abc-087-b---coins-200-%E7%82%B9)\n",
    "- 自分で何か作ったりしなくても問題演習という形でプログラミングに触れられる\n",
    "- 基本的には実際のプログラミングに即役立つタイプの問題\n",
    "- ランキング上位者は本当にプログラミングで食っていけるレベルの腕でもある\n",
    "- 良くも悪くも、コンピューターの基礎みたいな部分に触れざるを得ない面がある\n",
    "    - リストと配列は何が違うのか？\n",
    "    - どういうときにどちらを使えばいいのか？\n",
    "    - メモリ上のデータの配置が違う\n",
    "    - 「低レイヤー」の話とも向き合う必要が出る可能性"
   ]
  },
  {
   "cell_type": "markdown",
   "metadata": {
    "colab_type": "text",
    "id": "3JysaVdAzPo_"
   },
   "source": [
    "## 自分に合った勉強法・勉強内容を探そう\n",
    "- 最終的な目的・目標と勉強に対する最善のアプローチが一致するとは限らない\n",
    "- 私の場合は物理・数学系だと勉強しやすかったが、皆が皆そうというわけでもない\n",
    "- 課題を競プロから出してみて様子を見るか？"
   ]
  }
 ],
 "metadata": {
  "colab": {
   "collapsed_sections": [],
   "name": "2020-05-17_hw.ipynb",
   "provenance": [],
   "toc_visible": true
  },
  "kernelspec": {
   "display_name": "Python 3",
   "language": "python",
   "name": "python3"
  },
  "language_info": {
   "codemirror_mode": {
    "name": "ipython",
    "version": 3
   },
   "file_extension": ".py",
   "mimetype": "text/x-python",
   "name": "python",
   "nbconvert_exporter": "python",
   "pygments_lexer": "ipython3",
   "version": "3.8.3"
  }
 },
 "nbformat": 4,
 "nbformat_minor": 1
}
