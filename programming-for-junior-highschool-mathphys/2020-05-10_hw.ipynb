{
 "cells": [
  {
   "cell_type": "markdown",
   "metadata": {
    "colab_type": "text",
    "id": "UeHS9k8PQlJt"
   },
   "source": [
    "# 2020-05-10 課題\n",
    "- [コンテンツの案内ページ](https://phasetr.com/mthlp1/)\n",
    "- [GitHub へのリンク](https://github.com/phasetr/studygroup/programming-for-junior-highschool-mathphys)\n",
    "- 曲線を線分で近似できる気分を自分なりに説明してみてください。\n",
    "    - 手書きで絵を描くだけでも構いません。\n",
    "    - 一定のルールにしたがって描かれた曲線を適当な近似的ルールで描くのがプログラミングで描く曲線です。\n",
    "- 「自分でお絵かきできるようになろう」講座なので、お絵描き用ライブラリに慣れ親しむのが大事です。そこで matplotlib の公式ドキュメントを見ていろいろ遊んでみてください。例えば次のようなことを試してみてください。\n",
    "    - 線の色を変えてみる。\n",
    "    - 点にマーカーをつける。\n",
    "    - 公式のサンプルやチュートリアルを試してみる。\n",
    "    - [公式サンプル](https://matplotlib.org/3.2.1/tutorials/introductory/sample_plots.html)\n",
    "    - [これも公式](https://matplotlib.org/3.2.1/gallery/index.html#mplot3d-examples-index)：サンプルコードもある。\n",
    "- 引き続き TeX でいろいろな式を書いてみましょう。式が書けると数学系のコミュニケーションがだいぶ楽になります。\n",
    "- 引き続きプログラムをいろいろいじってみましょう. 例えば次のような方針があります. コンテンツからのコピペで構いません. 適切にコピペして動かすだけでも割と大変なので.\n",
    "    - (numpy を使って) いろいろな関数のグラフを描いてみましょう.\n",
    "    - (sympy を使って) いろいろな連立方程式を解いてみましょう. グラフを描くのもおすすめです.\n",
    "    - いろいろな微分方程式を解いてみましょう. 実際にコンテンツでも紹介しているように, 分点を自分でも変えていじってみるとのが第一歩です."
   ]
  },
  {
   "cell_type": "markdown",
   "metadata": {
    "colab_type": "text",
    "id": "UL1CT7FxWS2W"
   },
   "source": [
    "# 自分用メモ\n",
    "- 常微分方程式で漸化式から微分方程式に流れる部分の書き直し\n",
    "- 数値計算に関わるクラス・オブジェクトの説明\n",
    "    - まずは辞書・構造体の拡大版として導入するか？\n",
    "    - 変な誤解を生まないような書き方を考える\n",
    "- 遅延型方程式に対するコメント追加\n",
    "- import に関する実演\n",
    "- matplotlib 回では実際に matplotlib のチュートリアルを読もう\n",
    "    - 公式情報に触れる重要性\n",
    "    - 古い情報が古いと書いてあったりする：たとえば `pylab`\n",
    "        - [参考: これの Note](https://matplotlib.org/tutorials/introductory/usage.html#sphx-glr-tutorials-introductory-usage-py)\n",
    "    - [Gallery](https://matplotlib.org/gallery/index.html#user-interfaces)\n",
    "        - 見ていて面白い\n",
    "        - 「どこをいじるとどう変わるか」が視覚的にわかる\n",
    "        - 公式情報なのできちんとアップデートしてくれている（はず）\n",
    "        - 公式情報にソースがあるので自分でいろいろ書き換えていて破滅したとき、必ずオリジナルを復元できる\n",
    "- Jupyter （IPython）でのはまりどころ解説を作ろう\n",
    "    - いったん変数を作ると他のセルでも読み込める（読み込めてしまう）\n",
    "    - 「セルを上から順に読み込まないと動かない」問題の原因\n",
    "    - カーネル再起動まで変数は残り続ける"
   ]
  },
  {
   "cell_type": "markdown",
   "metadata": {
    "colab_type": "text",
    "id": "TThJVV45uqMo"
   },
   "source": [
    "# オブジェクトについて\n",
    "今日は具体的なプログラムというより、今日のメインの話とも少し関係する形でオブジェクトについて少し眺める機会にする。\n",
    "\n",
    "- オブジェクト指向のオブジェクトの話ではない。\n",
    "- 必ずしもいつもかっちりした定義のもとに議論されているわけでもない。\n",
    "- 各プログラミング言語ごとの用語の事情もある。"
   ]
  },
  {
   "cell_type": "markdown",
   "metadata": {
    "colab_type": "text",
    "id": "EGqOygWzmSWE"
   },
   "source": [
    "#### 第一級のオブジェクト\n",
    "- [参考](https://ja.wikipedia.org/wiki/%E7%AC%AC%E4%B8%80%E7%B4%9A%E3%82%AA%E3%83%96%E3%82%B8%E3%82%A7%E3%82%AF%E3%83%88)\n",
    "\n",
    "> 第一級オブジェクト（ファーストクラスオブジェクト、first-class object）は、あるプログラミング言語において、たとえば生成、代入、演算、（引数・戻り値としての）受け渡しといったその言語における基本的な操作を制限なしに使用できる対象のことである。\n",
    "\n",
    "問題になる例：言語によっては関数が第一級のオブジェクトになる。（最近の言語は割とこの傾向があるように思う。）\n",
    "関数が第一級のオブジェクトの言語では「関数の関数」みたいな概念が考えられる。\n",
    "高階関数と呼ばれる。\n",
    "\n",
    "「関数の関数」として python の `map` を紹介しておく。"
   ]
  },
  {
   "cell_type": "code",
   "execution_count": 0,
   "metadata": {
    "colab": {
     "base_uri": "https://localhost:8080/",
     "height": 35
    },
    "colab_type": "code",
    "executionInfo": {
     "elapsed": 1224,
     "status": "ok",
     "timestamp": 1589603545167,
     "user": {
      "displayName": "Yoshitsugu Sekine",
      "photoUrl": "https://lh3.googleusercontent.com/a-/AOh14GimsNckrAflr-jMDGQwV_kIJ56EjAWYV8INkpUv=s64",
      "userId": "13524401322013959426"
     },
     "user_tz": -540
    },
    "id": "YDZY9e_lveo_",
    "outputId": "4c885f7c-2dc6-4ae0-86b2-6b77e6a3643e"
   },
   "outputs": [
    {
     "name": "stdout",
     "output_type": "stream",
     "text": [
      "[2, 4, 6, 8]\n"
     ]
    }
   ],
   "source": [
    "# リスト `lst1` の要素を二倍する\n",
    "lst1 = [1, 2, 3, 4]\n",
    "lst2 = []\n",
    "for a in lst1:\n",
    "    lst2.append(a*2)\n",
    "print(lst2)"
   ]
  },
  {
   "cell_type": "code",
   "execution_count": 0,
   "metadata": {
    "colab": {
     "base_uri": "https://localhost:8080/",
     "height": 35
    },
    "colab_type": "code",
    "executionInfo": {
     "elapsed": 682,
     "status": "ok",
     "timestamp": 1589603519057,
     "user": {
      "displayName": "Yoshitsugu Sekine",
      "photoUrl": "https://lh3.googleusercontent.com/a-/AOh14GimsNckrAflr-jMDGQwV_kIJ56EjAWYV8INkpUv=s64",
      "userId": "13524401322013959426"
     },
     "user_tz": -540
    },
    "id": "BxiQc300vyAA",
    "outputId": "3b2ad162-dfe5-433a-f324-b3592fde4e16"
   },
   "outputs": [
    {
     "name": "stdout",
     "output_type": "stream",
     "text": [
      "[2, 4, 6, 8]\n"
     ]
    }
   ],
   "source": [
    "# 次のように map で書ける\n",
    "def prod2(a):\n",
    "    return a*2\n",
    "\n",
    "lst1 = [1, 2, 3, 4]\n",
    "lst2 = list(map(prod2, lst1)) # map はイテレーターを返すので list() でリスト化する\n",
    "print(lst2)"
   ]
  },
  {
   "cell_type": "code",
   "execution_count": 0,
   "metadata": {
    "colab": {
     "base_uri": "https://localhost:8080/",
     "height": 35
    },
    "colab_type": "code",
    "executionInfo": {
     "elapsed": 811,
     "status": "ok",
     "timestamp": 1589603632513,
     "user": {
      "displayName": "Yoshitsugu Sekine",
      "photoUrl": "https://lh3.googleusercontent.com/a-/AOh14GimsNckrAflr-jMDGQwV_kIJ56EjAWYV8INkpUv=s64",
      "userId": "13524401322013959426"
     },
     "user_tz": -540
    },
    "id": "oyTeNpFvwf0q",
    "outputId": "97f47782-4959-4a21-f4ba-fa61ed57b099"
   },
   "outputs": [
    {
     "name": "stdout",
     "output_type": "stream",
     "text": [
      "[2, 4, 6, 8]\n"
     ]
    }
   ],
   "source": [
    "# 参考：ラムダ式\n",
    "lst1 = [1,2,3,4]\n",
    "lst2 = list(map(lambda x: x*2, lst1))\n",
    "print(lst2)"
   ]
  },
  {
   "cell_type": "code",
   "execution_count": 0,
   "metadata": {
    "colab": {
     "base_uri": "https://localhost:8080/",
     "height": 35
    },
    "colab_type": "code",
    "executionInfo": {
     "elapsed": 598,
     "status": "ok",
     "timestamp": 1589603588483,
     "user": {
      "displayName": "Yoshitsugu Sekine",
      "photoUrl": "https://lh3.googleusercontent.com/a-/AOh14GimsNckrAflr-jMDGQwV_kIJ56EjAWYV8INkpUv=s64",
      "userId": "13524401322013959426"
     },
     "user_tz": -540
    },
    "id": "5Fc--MkYwVRs",
    "outputId": "daddbb73-4020-45ef-b93b-97ec310a4bcf"
   },
   "outputs": [
    {
     "name": "stdout",
     "output_type": "stream",
     "text": [
      "[2, 4, 6, 8]\n"
     ]
    }
   ],
   "source": [
    "# 参考：リスト内法表記\n",
    "lst1 = [1,2,3,4]\n",
    "lst2 = [a*2 for a in lst1]\n",
    "print(lst2)"
   ]
  },
  {
   "cell_type": "code",
   "execution_count": 1,
   "metadata": {
    "colab": {
     "base_uri": "https://localhost:8080/",
     "height": 35
    },
    "colab_type": "code",
    "executionInfo": {
     "elapsed": 1543,
     "status": "ok",
     "timestamp": 1589688569977,
     "user": {
      "displayName": "Yoshitsugu Sekine",
      "photoUrl": "https://lh3.googleusercontent.com/a-/AOh14GimsNckrAflr-jMDGQwV_kIJ56EjAWYV8INkpUv=s64",
      "userId": "13524401322013959426"
     },
     "user_tz": -540
    },
    "id": "eQpK9wYu0b9T",
    "outputId": "3727e893-0925-4764-b5bf-649d36f4b85a"
   },
   "outputs": [
    {
     "name": "stdout",
     "output_type": "stream",
     "text": [
      "[2, 4, 6, 8]\n"
     ]
    }
   ],
   "source": [
    "lst1 = [1,2,3,4]\n",
    "lst2 = []\n",
    "\n",
    "lst3 = [1,2,3,4]\n",
    "for a in lst3:\n",
    "    lst2.append(a*2)\n",
    "print(lst2)"
   ]
  },
  {
   "cell_type": "code",
   "execution_count": 9,
   "metadata": {
    "colab": {
     "base_uri": "https://localhost:8080/",
     "height": 137
    },
    "colab_type": "code",
    "executionInfo": {
     "elapsed": 827,
     "status": "error",
     "timestamp": 1589691940949,
     "user": {
      "displayName": "Yoshitsugu Sekine",
      "photoUrl": "https://lh3.googleusercontent.com/a-/AOh14GimsNckrAflr-jMDGQwV_kIJ56EjAWYV8INkpUv=s64",
      "userId": "13524401322013959426"
     },
     "user_tz": -540
    },
    "id": "JGz6CUN_Bd49",
    "outputId": "04f38966-346d-41e7-ad27-205c195881e0"
   },
   "outputs": [
    {
     "ename": "IndentationError",
     "evalue": "ignored",
     "output_type": "error",
     "traceback": [
      "\u001b[0;36m  File \u001b[0;32m\"<ipython-input-9-2e52d339fe66>\"\u001b[0;36m, line \u001b[0;32m6\u001b[0m\n\u001b[0;31m    lst2.append(a*2)\u001b[0m\n\u001b[0m       ^\u001b[0m\n\u001b[0;31mIndentationError\u001b[0m\u001b[0;31m:\u001b[0m expected an indented block\n"
     ]
    }
   ],
   "source": [
    "lst1 = [1,2,3,4]\n",
    "lst2 = []\n",
    "\n",
    "lst3 = [1,2,3,4]\n",
    "\n",
    "for a in lst3:\n",
    "    lst2.append(a*2)\n",
    "    print(\"\")\n",
    "    print(\"\")\n",
    "\n",
    "print(lst2)"
   ]
  },
  {
   "cell_type": "markdown",
   "metadata": {
    "colab_type": "text",
    "id": "bkZtB2eQwyql"
   },
   "source": [
    "### なぜ（Python で）`map` の返り値がイテレーターか\n",
    "- 巨大なリストを処理する場合、リストが返るとメモリを大量に消費するから。\n",
    "- この手の話をきちんと考えるにはコンピューターアーキテクチャなり、データ構造なり、プログラミング言語に関する諸々の知識がいる（のでその辺のプログラミング言語入門みたいな本ではふつう出てこない）。\n",
    "- この手の「入門」は大学の情報科学系の入門書にはきちんと書いてある。"
   ]
  },
  {
   "cell_type": "markdown",
   "metadata": {
    "colab_type": "text",
    "id": "U5HP-1t3lc9T"
   },
   "source": [
    "### オブジェクトとインスタンス\n",
    "- [参考](https://teratail.com/questions/43480)\n",
    "\n",
    "#### オブジェクト\n",
    "> だいたい次のような性質を持っています。\n",
    "> - 何らかの型がある。\n",
    "> - 変数に代入できる。\n",
    "> - 関数(メソッド)の引数にできる。\n",
    "> - 関数(メソッド)の戻り値にできる。\n",
    "> - それ自体が式であり、任意の式の一部になる。\n",
    "\n",
    "#### インスタンス\n",
    "> これはオブジェクト指向だけの概念です。クラス(プロトタイプベースの場合はプロトタイプとなるオブジェクトになりますが、以下クラスとまとめて考えます)はオブジェクトの雛形です。その雛形から実際のデータをもつオブジェクトにすることを実体化(インスタンス化)と言い、そのオブジェクトはそのクラスのインスタンスと言われます。"
   ]
  },
  {
   "cell_type": "code",
   "execution_count": 0,
   "metadata": {
    "colab": {},
    "colab_type": "code",
    "id": "qLpM9pkK4F6z"
   },
   "outputs": [],
   "source": [
    "import matplotlib.pyplot as plt\n",
    "fig = plt.figure()\n",
    "# a = A.new()"
   ]
  },
  {
   "cell_type": "markdown",
   "metadata": {
    "colab_type": "text",
    "id": "LLMRyURtl6uo"
   },
   "source": [
    "### 関数とメソッド\n",
    "言語によっていろいろありはする。\n",
    "\n",
    "- [サブルーチン](https://ja.wikipedia.org/wiki/%E3%82%B5%E3%83%96%E3%83%AB%E3%83%BC%E3%83%81%E3%83%B3)\n",
    "    - 関数、手続き\n",
    "    - 何らかの処理をまとめたモノ\n",
    "    - 数学の関数とは必ずしも関係ない\n",
    "- [メソッド](https://ja.wikipedia.org/wiki/%E3%83%A1%E3%82%BD%E3%83%83%E3%83%89_(%E8%A8%88%E7%AE%97%E6%A9%9F%E7%A7%91%E5%AD%A6))：メソッド (method) あるいは メンバー関数 (-かんすう, member function) とはオブジェクト指向プログラミング言語において、あるクラスないしインスタンスに所属するサブルーチンを指す。\n",
    "\n",
    "> 第一級関数（だいいっきゅうかんすう、英: first-class function、ファーストクラスファンクション）とは、関数を第一級オブジェクトとして扱うことのできるプログラミング言語の性質、またはそのような関数のことである。"
   ]
  },
  {
   "cell_type": "code",
   "execution_count": 2,
   "metadata": {
    "colab": {
     "base_uri": "https://localhost:8080/",
     "height": 35
    },
    "colab_type": "code",
    "executionInfo": {
     "elapsed": 1524,
     "status": "ok",
     "timestamp": 1589690157923,
     "user": {
      "displayName": "Yoshitsugu Sekine",
      "photoUrl": "https://lh3.googleusercontent.com/a-/AOh14GimsNckrAflr-jMDGQwV_kIJ56EjAWYV8INkpUv=s64",
      "userId": "13524401322013959426"
     },
     "user_tz": -540
    },
    "id": "xG8Hk68H6f-f",
    "outputId": "3dad6d18-3fb5-43d5-a981-4498c82793bb"
   },
   "outputs": [
    {
     "name": "stdout",
     "output_type": "stream",
     "text": [
      "1\n"
     ]
    }
   ],
   "source": [
    "# 値を返す「関数」\n",
    "def f():\n",
    "    return 1\n",
    "\n",
    "# 値を返さない「関数」\n",
    "def g():\n",
    "    print(1)\n",
    "g()"
   ]
  },
  {
   "cell_type": "code",
   "execution_count": 8,
   "metadata": {
    "colab": {
     "base_uri": "https://localhost:8080/",
     "height": 89
    },
    "colab_type": "code",
    "executionInfo": {
     "elapsed": 831,
     "status": "ok",
     "timestamp": 1589691065428,
     "user": {
      "displayName": "Yoshitsugu Sekine",
      "photoUrl": "https://lh3.googleusercontent.com/a-/AOh14GimsNckrAflr-jMDGQwV_kIJ56EjAWYV8INkpUv=s64",
      "userId": "13524401322013959426"
     },
     "user_tz": -540
    },
    "id": "i4BuplZ58f91",
    "outputId": "1473eb45-70a9-4282-dd67-0a46e1fff5fa"
   },
   "outputs": [
    {
     "name": "stdout",
     "output_type": "stream",
     "text": [
      "y\n",
      "b\n",
      "変数1\n",
      "変数1\n"
     ]
    }
   ],
   "source": [
    "class TestClass:\n",
    "    x = \"変数1\"\n",
    "\n",
    "    def __init__(self, y):\n",
    "        self.y = y\n",
    "\n",
    "    def test_method1(self):\n",
    "        print(self.x)\n",
    "\n",
    "    def test_method2(self, arg1):\n",
    "        print(\"引数1:\" + arg1)\n",
    "\n",
    "    def gety(self):\n",
    "        return self.y\n",
    "\n",
    "a = TestClass(\"y\")\n",
    "print(a.gety())\n",
    "\n",
    "b = TestClass(\"b\")\n",
    "print(b.gety())\n",
    "\n",
    "a.test_method1()\n",
    "b.test_method1()"
   ]
  },
  {
   "cell_type": "markdown",
   "metadata": {
    "colab_type": "text",
    "id": "7uZ47VRwF0iX"
   },
   "source": [
    "# 解答例"
   ]
  },
  {
   "cell_type": "markdown",
   "metadata": {
    "colab_type": "text",
    "id": "DoDfOqWITHoA"
   },
   "source": [
    "## matplotlib\n",
    "- [公式サンプル](https://matplotlib.org/3.2.1/tutorials/introductory/sample_plots.html)\n",
    "- [これも公式](https://matplotlib.org/3.2.1/gallery/index.html#mplot3d-examples-index)：サンプルコードもある。"
   ]
  },
  {
   "cell_type": "markdown",
   "metadata": {
    "colab_type": "text",
    "id": "mOBgcxhrb59m"
   },
   "source": [
    "## TeX でいろいろな式を書こう\n"
   ]
  },
  {
   "cell_type": "code",
   "execution_count": 0,
   "metadata": {
    "colab": {
     "base_uri": "https://localhost:8080/",
     "height": 35
    },
    "colab_type": "code",
    "executionInfo": {
     "elapsed": 650,
     "status": "ok",
     "timestamp": 1589464233260,
     "user": {
      "displayName": "Yoshitsugu Sekine",
      "photoUrl": "https://lh3.googleusercontent.com/a-/AOh14GimsNckrAflr-jMDGQwV_kIJ56EjAWYV8INkpUv=s64",
      "userId": "13524401322013959426"
     },
     "user_tz": -540
    },
    "id": "4vYM89ITcwt3",
    "outputId": "2c56a001-e4f1-476f-8ef6-3c98399dbb71"
   },
   "outputs": [
    {
     "name": "stdout",
     "output_type": "stream",
     "text": [
      "dict_keys(['a'])\n"
     ]
    }
   ],
   "source": [
    "def f():\n",
    "    return {\"a\": \"a\"}\n",
    "print(f().keys())"
   ]
  },
  {
   "cell_type": "markdown",
   "metadata": {
    "colab_type": "text",
    "id": "eAdBzNw5fUCC"
   },
   "source": [
    "## いろいろなプログラムを書こう"
   ]
  },
  {
   "cell_type": "markdown",
   "metadata": {
    "colab_type": "text",
    "id": "z7sctJxifXYD"
   },
   "source": [
    "### numpy でのグラフ"
   ]
  },
  {
   "cell_type": "markdown",
   "metadata": {
    "colab_type": "text",
    "id": "NMUynsjGOA6N"
   },
   "source": [
    "### sympy\n"
   ]
  },
  {
   "cell_type": "code",
   "execution_count": 0,
   "metadata": {
    "colab": {
     "base_uri": "https://localhost:8080/",
     "height": 17
    },
    "colab_type": "code",
    "executionInfo": {
     "elapsed": 1001,
     "status": "ok",
     "timestamp": 1589006086208,
     "user": {
      "displayName": "Yoshitsugu Sekine",
      "photoUrl": "https://lh3.googleusercontent.com/a-/AOh14GimsNckrAflr-jMDGQwV_kIJ56EjAWYV8INkpUv=s64",
      "userId": "13524401322013959426"
     },
     "user_tz": -540
    },
    "id": "WBK-9e4Q2fA6",
    "outputId": "19769573-299d-47c0-8b5d-a2a6b24628a9"
   },
   "outputs": [
    {
     "data": {
      "text/html": [
       "<script src='https://www.gstatic.com/external_hosted/mathjax/latest/MathJax.js?config=default'></script>"
      ],
      "text/plain": [
       "<IPython.core.display.HTML object>"
      ]
     },
     "metadata": {
      "tags": []
     },
     "output_type": "display_data"
    },
    {
     "data": {
      "text/html": [
       "<script src='https://www.gstatic.com/external_hosted/mathjax/latest/MathJax.js?config=default'></script>"
      ],
      "text/plain": [
       "<IPython.core.display.HTML object>"
      ]
     },
     "metadata": {
      "tags": []
     },
     "output_type": "display_data"
    },
    {
     "data": {
      "text/html": [
       "<script src='https://www.gstatic.com/external_hosted/mathjax/latest/MathJax.js?config=default'></script>"
      ],
      "text/plain": [
       "<IPython.core.display.HTML object>"
      ]
     },
     "metadata": {
      "tags": []
     },
     "output_type": "display_data"
    }
   ],
   "source": [
    "# colab の場合\n",
    "from IPython.display import Math, HTML\n",
    "def load_mathjax_in_cell_output():\n",
    "    display(HTML(\"<script src='https://www.gstatic.com/external_hosted/mathjax/latest/MathJax.js?config=default'></script>\"))\n",
    "get_ipython().events.register('pre_run_cell', load_mathjax_in_cell_output)"
   ]
  },
  {
   "cell_type": "markdown",
   "metadata": {
    "colab_type": "text",
    "id": "gzhDoXfDfrCt"
   },
   "source": [
    "### 微分方程式\n"
   ]
  }
 ],
 "metadata": {
  "colab": {
   "collapsed_sections": [],
   "name": "2020-05-10_hw.ipynb",
   "provenance": [],
   "toc_visible": true
  },
  "kernelspec": {
   "display_name": "Python 3",
   "language": "python",
   "name": "python3"
  },
  "language_info": {
   "codemirror_mode": {
    "name": "ipython",
    "version": 3
   },
   "file_extension": ".py",
   "mimetype": "text/x-python",
   "name": "python",
   "nbconvert_exporter": "python",
   "pygments_lexer": "ipython3",
   "version": "3.8.3"
  }
 },
 "nbformat": 4,
 "nbformat_minor": 1
}
